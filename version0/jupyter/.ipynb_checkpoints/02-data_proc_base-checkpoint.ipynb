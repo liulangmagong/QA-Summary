{
 "cells": [
  {
   "cell_type": "code",
   "execution_count": 1,
   "metadata": {},
   "outputs": [],
   "source": [
    "import re\n",
    "import jieba\n",
    "import pandas as pd"
   ]
  },
  {
   "cell_type": "markdown",
   "metadata": {},
   "source": [
    "# 0. 要求：\n",
    "1. 熟悉项目数据\n",
    "2. 分词以及清洗数据\n",
    "3. 通过训练数据和测试数据建立vocab词汇表\n",
    "\n",
    "数据集下载地址：https://aistudio.baidu.com/aistudio/competition/detail/3\n"
   ]
  },
  {
   "cell_type": "markdown",
   "metadata": {},
   "source": [
    "# 1. 数据集路径"
   ]
  },
  {
   "cell_type": "code",
   "execution_count": 2,
   "metadata": {},
   "outputs": [],
   "source": [
    "train_data_path = 'data/AutoMaster_TrainSet.csv'\n",
    "test_data_path = 'data/AutoMaster_TestSet.csv'"
   ]
  },
  {
   "cell_type": "code",
   "execution_count": 3,
   "metadata": {},
   "outputs": [],
   "source": [
    "stop_word_path='data/stopwords/哈工大停用词表.txt'"
   ]
  },
  {
   "cell_type": "markdown",
   "metadata": {},
   "source": [
    "# 2. 载入数据"
   ]
  },
  {
   "cell_type": "code",
   "execution_count": 4,
   "metadata": {},
   "outputs": [],
   "source": [
    "def load_dataset(train_data_path, test_data_path):\n",
    "    '''\n",
    "    数据数据集\n",
    "    :param train_data_path:训练集路径\n",
    "    :param test_data_path: 测试集路径\n",
    "    :return:\n",
    "    '''\n",
    "    # 读取数据集\n",
    "    train_data = pd.read_csv(train_data_path)\n",
    "    test_data = pd.read_csv(test_data_path)\n",
    "    return train_data, test_data"
   ]
  },
  {
   "cell_type": "markdown",
   "metadata": {},
   "source": [
    "[format](https://www.runoob.com/python/att-string-format.html)"
   ]
  },
  {
   "cell_type": "code",
   "execution_count": 5,
   "metadata": {},
   "outputs": [
    {
     "ename": "FileNotFoundError",
     "evalue": "[Errno 2] File b'data/AutoMaster_TrainSet.csv' does not exist: b'data/AutoMaster_TrainSet.csv'",
     "output_type": "error",
     "traceback": [
      "\u001b[1;31m---------------------------------------------------------------------------\u001b[0m",
      "\u001b[1;31mFileNotFoundError\u001b[0m                         Traceback (most recent call last)",
      "\u001b[1;32m<ipython-input-5-b69d6dc1155d>\u001b[0m in \u001b[0;36m<module>\u001b[1;34m\u001b[0m\n\u001b[1;32m----> 1\u001b[1;33m \u001b[0mtrain_df\u001b[0m\u001b[1;33m,\u001b[0m\u001b[0mtest_df\u001b[0m\u001b[1;33m=\u001b[0m \u001b[0mload_dataset\u001b[0m\u001b[1;33m(\u001b[0m\u001b[0mtrain_data_path\u001b[0m\u001b[1;33m,\u001b[0m \u001b[0mtest_data_path\u001b[0m\u001b[1;33m)\u001b[0m\u001b[1;33m\u001b[0m\u001b[1;33m\u001b[0m\u001b[0m\n\u001b[0m\u001b[0;32m      2\u001b[0m \u001b[0mprint\u001b[0m\u001b[1;33m(\u001b[0m\u001b[1;34m'train data size {},test data size {}'\u001b[0m\u001b[1;33m.\u001b[0m\u001b[0mformat\u001b[0m\u001b[1;33m(\u001b[0m\u001b[0mlen\u001b[0m\u001b[1;33m(\u001b[0m\u001b[0mtrain_df\u001b[0m\u001b[1;33m)\u001b[0m\u001b[1;33m,\u001b[0m\u001b[0mlen\u001b[0m\u001b[1;33m(\u001b[0m\u001b[0mtest_df\u001b[0m\u001b[1;33m)\u001b[0m\u001b[1;33m)\u001b[0m\u001b[1;33m)\u001b[0m\u001b[1;33m\u001b[0m\u001b[1;33m\u001b[0m\u001b[0m\n\u001b[0;32m      3\u001b[0m \u001b[0mtrain_df\u001b[0m\u001b[1;33m.\u001b[0m\u001b[0mhead\u001b[0m\u001b[1;33m(\u001b[0m\u001b[1;33m)\u001b[0m\u001b[1;33m\u001b[0m\u001b[1;33m\u001b[0m\u001b[0m\n",
      "\u001b[1;32m<ipython-input-4-621a511e7e13>\u001b[0m in \u001b[0;36mload_dataset\u001b[1;34m(train_data_path, test_data_path)\u001b[0m\n\u001b[0;32m      7\u001b[0m     '''\n\u001b[0;32m      8\u001b[0m     \u001b[1;31m# 读取数据集\u001b[0m\u001b[1;33m\u001b[0m\u001b[1;33m\u001b[0m\u001b[1;33m\u001b[0m\u001b[0m\n\u001b[1;32m----> 9\u001b[1;33m     \u001b[0mtrain_data\u001b[0m \u001b[1;33m=\u001b[0m \u001b[0mpd\u001b[0m\u001b[1;33m.\u001b[0m\u001b[0mread_csv\u001b[0m\u001b[1;33m(\u001b[0m\u001b[0mtrain_data_path\u001b[0m\u001b[1;33m)\u001b[0m\u001b[1;33m\u001b[0m\u001b[1;33m\u001b[0m\u001b[0m\n\u001b[0m\u001b[0;32m     10\u001b[0m     \u001b[0mtest_data\u001b[0m \u001b[1;33m=\u001b[0m \u001b[0mpd\u001b[0m\u001b[1;33m.\u001b[0m\u001b[0mread_csv\u001b[0m\u001b[1;33m(\u001b[0m\u001b[0mtest_data_path\u001b[0m\u001b[1;33m)\u001b[0m\u001b[1;33m\u001b[0m\u001b[1;33m\u001b[0m\u001b[0m\n\u001b[0;32m     11\u001b[0m     \u001b[1;32mreturn\u001b[0m \u001b[0mtrain_data\u001b[0m\u001b[1;33m,\u001b[0m \u001b[0mtest_data\u001b[0m\u001b[1;33m\u001b[0m\u001b[1;33m\u001b[0m\u001b[0m\n",
      "\u001b[1;32mD:\\Installer-software\\Anaconda\\lib\\site-packages\\pandas\\io\\parsers.py\u001b[0m in \u001b[0;36mparser_f\u001b[1;34m(filepath_or_buffer, sep, delimiter, header, names, index_col, usecols, squeeze, prefix, mangle_dupe_cols, dtype, engine, converters, true_values, false_values, skipinitialspace, skiprows, skipfooter, nrows, na_values, keep_default_na, na_filter, verbose, skip_blank_lines, parse_dates, infer_datetime_format, keep_date_col, date_parser, dayfirst, cache_dates, iterator, chunksize, compression, thousands, decimal, lineterminator, quotechar, quoting, doublequote, escapechar, comment, encoding, dialect, error_bad_lines, warn_bad_lines, delim_whitespace, low_memory, memory_map, float_precision)\u001b[0m\n\u001b[0;32m    683\u001b[0m         )\n\u001b[0;32m    684\u001b[0m \u001b[1;33m\u001b[0m\u001b[0m\n\u001b[1;32m--> 685\u001b[1;33m         \u001b[1;32mreturn\u001b[0m \u001b[0m_read\u001b[0m\u001b[1;33m(\u001b[0m\u001b[0mfilepath_or_buffer\u001b[0m\u001b[1;33m,\u001b[0m \u001b[0mkwds\u001b[0m\u001b[1;33m)\u001b[0m\u001b[1;33m\u001b[0m\u001b[1;33m\u001b[0m\u001b[0m\n\u001b[0m\u001b[0;32m    686\u001b[0m \u001b[1;33m\u001b[0m\u001b[0m\n\u001b[0;32m    687\u001b[0m     \u001b[0mparser_f\u001b[0m\u001b[1;33m.\u001b[0m\u001b[0m__name__\u001b[0m \u001b[1;33m=\u001b[0m \u001b[0mname\u001b[0m\u001b[1;33m\u001b[0m\u001b[1;33m\u001b[0m\u001b[0m\n",
      "\u001b[1;32mD:\\Installer-software\\Anaconda\\lib\\site-packages\\pandas\\io\\parsers.py\u001b[0m in \u001b[0;36m_read\u001b[1;34m(filepath_or_buffer, kwds)\u001b[0m\n\u001b[0;32m    455\u001b[0m \u001b[1;33m\u001b[0m\u001b[0m\n\u001b[0;32m    456\u001b[0m     \u001b[1;31m# Create the parser.\u001b[0m\u001b[1;33m\u001b[0m\u001b[1;33m\u001b[0m\u001b[1;33m\u001b[0m\u001b[0m\n\u001b[1;32m--> 457\u001b[1;33m     \u001b[0mparser\u001b[0m \u001b[1;33m=\u001b[0m \u001b[0mTextFileReader\u001b[0m\u001b[1;33m(\u001b[0m\u001b[0mfp_or_buf\u001b[0m\u001b[1;33m,\u001b[0m \u001b[1;33m**\u001b[0m\u001b[0mkwds\u001b[0m\u001b[1;33m)\u001b[0m\u001b[1;33m\u001b[0m\u001b[1;33m\u001b[0m\u001b[0m\n\u001b[0m\u001b[0;32m    458\u001b[0m \u001b[1;33m\u001b[0m\u001b[0m\n\u001b[0;32m    459\u001b[0m     \u001b[1;32mif\u001b[0m \u001b[0mchunksize\u001b[0m \u001b[1;32mor\u001b[0m \u001b[0miterator\u001b[0m\u001b[1;33m:\u001b[0m\u001b[1;33m\u001b[0m\u001b[1;33m\u001b[0m\u001b[0m\n",
      "\u001b[1;32mD:\\Installer-software\\Anaconda\\lib\\site-packages\\pandas\\io\\parsers.py\u001b[0m in \u001b[0;36m__init__\u001b[1;34m(self, f, engine, **kwds)\u001b[0m\n\u001b[0;32m    893\u001b[0m             \u001b[0mself\u001b[0m\u001b[1;33m.\u001b[0m\u001b[0moptions\u001b[0m\u001b[1;33m[\u001b[0m\u001b[1;34m\"has_index_names\"\u001b[0m\u001b[1;33m]\u001b[0m \u001b[1;33m=\u001b[0m \u001b[0mkwds\u001b[0m\u001b[1;33m[\u001b[0m\u001b[1;34m\"has_index_names\"\u001b[0m\u001b[1;33m]\u001b[0m\u001b[1;33m\u001b[0m\u001b[1;33m\u001b[0m\u001b[0m\n\u001b[0;32m    894\u001b[0m \u001b[1;33m\u001b[0m\u001b[0m\n\u001b[1;32m--> 895\u001b[1;33m         \u001b[0mself\u001b[0m\u001b[1;33m.\u001b[0m\u001b[0m_make_engine\u001b[0m\u001b[1;33m(\u001b[0m\u001b[0mself\u001b[0m\u001b[1;33m.\u001b[0m\u001b[0mengine\u001b[0m\u001b[1;33m)\u001b[0m\u001b[1;33m\u001b[0m\u001b[1;33m\u001b[0m\u001b[0m\n\u001b[0m\u001b[0;32m    896\u001b[0m \u001b[1;33m\u001b[0m\u001b[0m\n\u001b[0;32m    897\u001b[0m     \u001b[1;32mdef\u001b[0m \u001b[0mclose\u001b[0m\u001b[1;33m(\u001b[0m\u001b[0mself\u001b[0m\u001b[1;33m)\u001b[0m\u001b[1;33m:\u001b[0m\u001b[1;33m\u001b[0m\u001b[1;33m\u001b[0m\u001b[0m\n",
      "\u001b[1;32mD:\\Installer-software\\Anaconda\\lib\\site-packages\\pandas\\io\\parsers.py\u001b[0m in \u001b[0;36m_make_engine\u001b[1;34m(self, engine)\u001b[0m\n\u001b[0;32m   1133\u001b[0m     \u001b[1;32mdef\u001b[0m \u001b[0m_make_engine\u001b[0m\u001b[1;33m(\u001b[0m\u001b[0mself\u001b[0m\u001b[1;33m,\u001b[0m \u001b[0mengine\u001b[0m\u001b[1;33m=\u001b[0m\u001b[1;34m\"c\"\u001b[0m\u001b[1;33m)\u001b[0m\u001b[1;33m:\u001b[0m\u001b[1;33m\u001b[0m\u001b[1;33m\u001b[0m\u001b[0m\n\u001b[0;32m   1134\u001b[0m         \u001b[1;32mif\u001b[0m \u001b[0mengine\u001b[0m \u001b[1;33m==\u001b[0m \u001b[1;34m\"c\"\u001b[0m\u001b[1;33m:\u001b[0m\u001b[1;33m\u001b[0m\u001b[1;33m\u001b[0m\u001b[0m\n\u001b[1;32m-> 1135\u001b[1;33m             \u001b[0mself\u001b[0m\u001b[1;33m.\u001b[0m\u001b[0m_engine\u001b[0m \u001b[1;33m=\u001b[0m \u001b[0mCParserWrapper\u001b[0m\u001b[1;33m(\u001b[0m\u001b[0mself\u001b[0m\u001b[1;33m.\u001b[0m\u001b[0mf\u001b[0m\u001b[1;33m,\u001b[0m \u001b[1;33m**\u001b[0m\u001b[0mself\u001b[0m\u001b[1;33m.\u001b[0m\u001b[0moptions\u001b[0m\u001b[1;33m)\u001b[0m\u001b[1;33m\u001b[0m\u001b[1;33m\u001b[0m\u001b[0m\n\u001b[0m\u001b[0;32m   1136\u001b[0m         \u001b[1;32melse\u001b[0m\u001b[1;33m:\u001b[0m\u001b[1;33m\u001b[0m\u001b[1;33m\u001b[0m\u001b[0m\n\u001b[0;32m   1137\u001b[0m             \u001b[1;32mif\u001b[0m \u001b[0mengine\u001b[0m \u001b[1;33m==\u001b[0m \u001b[1;34m\"python\"\u001b[0m\u001b[1;33m:\u001b[0m\u001b[1;33m\u001b[0m\u001b[1;33m\u001b[0m\u001b[0m\n",
      "\u001b[1;32mD:\\Installer-software\\Anaconda\\lib\\site-packages\\pandas\\io\\parsers.py\u001b[0m in \u001b[0;36m__init__\u001b[1;34m(self, src, **kwds)\u001b[0m\n\u001b[0;32m   1915\u001b[0m         \u001b[0mkwds\u001b[0m\u001b[1;33m[\u001b[0m\u001b[1;34m\"usecols\"\u001b[0m\u001b[1;33m]\u001b[0m \u001b[1;33m=\u001b[0m \u001b[0mself\u001b[0m\u001b[1;33m.\u001b[0m\u001b[0musecols\u001b[0m\u001b[1;33m\u001b[0m\u001b[1;33m\u001b[0m\u001b[0m\n\u001b[0;32m   1916\u001b[0m \u001b[1;33m\u001b[0m\u001b[0m\n\u001b[1;32m-> 1917\u001b[1;33m         \u001b[0mself\u001b[0m\u001b[1;33m.\u001b[0m\u001b[0m_reader\u001b[0m \u001b[1;33m=\u001b[0m \u001b[0mparsers\u001b[0m\u001b[1;33m.\u001b[0m\u001b[0mTextReader\u001b[0m\u001b[1;33m(\u001b[0m\u001b[0msrc\u001b[0m\u001b[1;33m,\u001b[0m \u001b[1;33m**\u001b[0m\u001b[0mkwds\u001b[0m\u001b[1;33m)\u001b[0m\u001b[1;33m\u001b[0m\u001b[1;33m\u001b[0m\u001b[0m\n\u001b[0m\u001b[0;32m   1918\u001b[0m         \u001b[0mself\u001b[0m\u001b[1;33m.\u001b[0m\u001b[0munnamed_cols\u001b[0m \u001b[1;33m=\u001b[0m \u001b[0mself\u001b[0m\u001b[1;33m.\u001b[0m\u001b[0m_reader\u001b[0m\u001b[1;33m.\u001b[0m\u001b[0munnamed_cols\u001b[0m\u001b[1;33m\u001b[0m\u001b[1;33m\u001b[0m\u001b[0m\n\u001b[0;32m   1919\u001b[0m \u001b[1;33m\u001b[0m\u001b[0m\n",
      "\u001b[1;32mpandas\\_libs\\parsers.pyx\u001b[0m in \u001b[0;36mpandas._libs.parsers.TextReader.__cinit__\u001b[1;34m()\u001b[0m\n",
      "\u001b[1;32mpandas\\_libs\\parsers.pyx\u001b[0m in \u001b[0;36mpandas._libs.parsers.TextReader._setup_parser_source\u001b[1;34m()\u001b[0m\n",
      "\u001b[1;31mFileNotFoundError\u001b[0m: [Errno 2] File b'data/AutoMaster_TrainSet.csv' does not exist: b'data/AutoMaster_TrainSet.csv'"
     ]
    }
   ],
   "source": [
    "train_df,test_df= load_dataset(train_data_path, test_data_path)\n",
    "print('train data size {},test data size {}'.format(len(train_df),len(test_df)))\n",
    "train_df.head()"
   ]
  },
  {
   "cell_type": "code",
   "execution_count": 6,
   "metadata": {},
   "outputs": [
    {
     "data": {
      "text/html": [
       "<div>\n",
       "<style scoped>\n",
       "    .dataframe tbody tr th:only-of-type {\n",
       "        vertical-align: middle;\n",
       "    }\n",
       "\n",
       "    .dataframe tbody tr th {\n",
       "        vertical-align: top;\n",
       "    }\n",
       "\n",
       "    .dataframe thead th {\n",
       "        text-align: right;\n",
       "    }\n",
       "</style>\n",
       "<table border=\"1\" class=\"dataframe\">\n",
       "  <thead>\n",
       "    <tr style=\"text-align: right;\">\n",
       "      <th></th>\n",
       "      <th>QID</th>\n",
       "      <th>Brand</th>\n",
       "      <th>Model</th>\n",
       "      <th>Question</th>\n",
       "      <th>Dialogue</th>\n",
       "      <th>Report</th>\n",
       "    </tr>\n",
       "  </thead>\n",
       "  <tbody>\n",
       "    <tr>\n",
       "      <td>count</td>\n",
       "      <td>82943</td>\n",
       "      <td>81642</td>\n",
       "      <td>81642</td>\n",
       "      <td>82943</td>\n",
       "      <td>82941</td>\n",
       "      <td>82873</td>\n",
       "    </tr>\n",
       "    <tr>\n",
       "      <td>unique</td>\n",
       "      <td>82943</td>\n",
       "      <td>134</td>\n",
       "      <td>1438</td>\n",
       "      <td>82153</td>\n",
       "      <td>81798</td>\n",
       "      <td>80859</td>\n",
       "    </tr>\n",
       "    <tr>\n",
       "      <td>top</td>\n",
       "      <td>Q61995</td>\n",
       "      <td>大众</td>\n",
       "      <td>科鲁兹</td>\n",
       "      <td>今天等红灯的时候 ，把档位挂在了N挡，起步的时候忘记挂D挡了 。。在空挡上给了一脚油门，力度...</td>\n",
       "      <td>技师说：[语音]</td>\n",
       "      <td>详见图片</td>\n",
       "    </tr>\n",
       "    <tr>\n",
       "      <td>freq</td>\n",
       "      <td>1</td>\n",
       "      <td>11916</td>\n",
       "      <td>1668</td>\n",
       "      <td>10</td>\n",
       "      <td>640</td>\n",
       "      <td>250</td>\n",
       "    </tr>\n",
       "  </tbody>\n",
       "</table>\n",
       "</div>"
      ],
      "text/plain": [
       "           QID  Brand  Model  \\\n",
       "count    82943  81642  81642   \n",
       "unique   82943    134   1438   \n",
       "top     Q61995     大众    科鲁兹   \n",
       "freq         1  11916   1668   \n",
       "\n",
       "                                                 Question  Dialogue Report  \n",
       "count                                               82943     82941  82873  \n",
       "unique                                              82153     81798  80859  \n",
       "top     今天等红灯的时候 ，把档位挂在了N挡，起步的时候忘记挂D挡了 。。在空挡上给了一脚油门，力度...  技师说：[语音]   详见图片  \n",
       "freq                                                   10       640    250  "
      ]
     },
     "execution_count": 6,
     "metadata": {},
     "output_type": "execute_result"
    }
   ],
   "source": [
    "train_df.describe()"
   ]
  },
  {
   "cell_type": "code",
   "execution_count": 7,
   "metadata": {},
   "outputs": [
    {
     "name": "stdout",
     "output_type": "stream",
     "text": [
      "<class 'pandas.core.frame.DataFrame'>\n",
      "RangeIndex: 82943 entries, 0 to 82942\n",
      "Data columns (total 6 columns):\n",
      "QID         82943 non-null object\n",
      "Brand       81642 non-null object\n",
      "Model       81642 non-null object\n",
      "Question    82943 non-null object\n",
      "Dialogue    82941 non-null object\n",
      "Report      82873 non-null object\n",
      "dtypes: object(6)\n",
      "memory usage: 3.8+ MB\n"
     ]
    }
   ],
   "source": [
    "train_df.info()"
   ]
  },
  {
   "cell_type": "code",
   "execution_count": 8,
   "metadata": {},
   "outputs": [
    {
     "data": {
      "text/html": [
       "<div>\n",
       "<style scoped>\n",
       "    .dataframe tbody tr th:only-of-type {\n",
       "        vertical-align: middle;\n",
       "    }\n",
       "\n",
       "    .dataframe tbody tr th {\n",
       "        vertical-align: top;\n",
       "    }\n",
       "\n",
       "    .dataframe thead th {\n",
       "        text-align: right;\n",
       "    }\n",
       "</style>\n",
       "<table border=\"1\" class=\"dataframe\">\n",
       "  <thead>\n",
       "    <tr style=\"text-align: right;\">\n",
       "      <th></th>\n",
       "      <th>QID</th>\n",
       "      <th>Brand</th>\n",
       "      <th>Model</th>\n",
       "      <th>Question</th>\n",
       "      <th>Dialogue</th>\n",
       "      <th>Report</th>\n",
       "    </tr>\n",
       "  </thead>\n",
       "  <tbody>\n",
       "    <tr>\n",
       "      <td>count</td>\n",
       "      <td>82943</td>\n",
       "      <td>81642</td>\n",
       "      <td>81642</td>\n",
       "      <td>82943</td>\n",
       "      <td>82941</td>\n",
       "      <td>82873</td>\n",
       "    </tr>\n",
       "    <tr>\n",
       "      <td>unique</td>\n",
       "      <td>82943</td>\n",
       "      <td>134</td>\n",
       "      <td>1438</td>\n",
       "      <td>82153</td>\n",
       "      <td>81798</td>\n",
       "      <td>80859</td>\n",
       "    </tr>\n",
       "    <tr>\n",
       "      <td>top</td>\n",
       "      <td>Q61995</td>\n",
       "      <td>大众</td>\n",
       "      <td>科鲁兹</td>\n",
       "      <td>今天等红灯的时候 ，把档位挂在了N挡，起步的时候忘记挂D挡了 。。在空挡上给了一脚油门，力度...</td>\n",
       "      <td>技师说：[语音]</td>\n",
       "      <td>详见图片</td>\n",
       "    </tr>\n",
       "    <tr>\n",
       "      <td>freq</td>\n",
       "      <td>1</td>\n",
       "      <td>11916</td>\n",
       "      <td>1668</td>\n",
       "      <td>10</td>\n",
       "      <td>640</td>\n",
       "      <td>250</td>\n",
       "    </tr>\n",
       "  </tbody>\n",
       "</table>\n",
       "</div>"
      ],
      "text/plain": [
       "           QID  Brand  Model  \\\n",
       "count    82943  81642  81642   \n",
       "unique   82943    134   1438   \n",
       "top     Q61995     大众    科鲁兹   \n",
       "freq         1  11916   1668   \n",
       "\n",
       "                                                 Question  Dialogue Report  \n",
       "count                                               82943     82941  82873  \n",
       "unique                                              82153     81798  80859  \n",
       "top     今天等红灯的时候 ，把档位挂在了N挡，起步的时候忘记挂D挡了 。。在空挡上给了一脚油门，力度...  技师说：[语音]   详见图片  \n",
       "freq                                                   10       640    250  "
      ]
     },
     "execution_count": 8,
     "metadata": {},
     "output_type": "execute_result"
    }
   ],
   "source": [
    "train_df.describe()"
   ]
  },
  {
   "cell_type": "markdown",
   "metadata": {},
   "source": [
    "# Q 1 :是否需要去除NAN值（非数字的值）的数据?\n",
    "\n",
    "+ QA任务\n",
    "+ Word2Vec\n",
    "\n",
    "---"
   ]
  },
  {
   "attachments": {
    "%E5%9B%BE%E7%89%87.png": {
     "image/png": "[encoded data removed]"
    }
   },
   "cell_type": "markdown",
   "metadata": {},
   "source": [
    "# 3. 空值处理\n",
    "\n",
    "\n",
    "Pandas 会为缺少的值分配 NaN 值。  \n",
    "\n",
    "![%E5%9B%BE%E7%89%87.png](attachment:%E5%9B%BE%E7%89%87.png)  \n",
    "\n",
    "这里删除NAN（Not a Number）值所使用的方法是`dropna()`  \n",
    "Help on method dropna in module pandas.core.frame:\n",
    "\n",
    "dropna(axis=0, how='any', thresh=None, subset=None, inplace=False)   \n",
    "method of pandas.core.frame.DataFrame instance\n",
    "    Return object with labels on given axis omitted where alternately any\n",
    "    or all of the data are missing\n",
    "    \n",
    "    Parameters\n",
    "    ----------\n",
    "    axis : {0 or 'index', 1 or 'columns'}, or tuple/list thereof\n",
    "        Pass tuple or list to drop on multiple axes\n",
    "    how : {'any', 'all'}\n",
    "        * any : if any NA values are present, drop that label\n",
    "        * all : if all values are NA, drop that label\n",
    "    thresh : int, default None\n",
    "        int value : require that many non-NA values\n",
    "    subset : array-like\n",
    "        Labels along other axis to consider, e.g. if you are dropping rows\n",
    "        these would be a list of columns to include\n",
    "    inplace : boolean, default False\n",
    "        If True, do operation inplace and return None.\n",
    "    \n",
    "    Returns\n",
    "    -------\n",
    "    dropped : DataFrame"
   ]
  },
  {
   "cell_type": "code",
   "execution_count": 9,
   "metadata": {},
   "outputs": [],
   "source": [
    "train_df.dropna(subset=['Question', 'Dialogue', 'Report'], how='any', inplace=True)\n",
    "# 这里去除的方式使用的是any,即只要有一列为空就删除该标签，最后大概去除了70条，对总的影响不大\n",
    "# 这里要做一些优化的话，可以将那些没有NAN值的列都填一些空字符串？\n",
    "test_df.dropna(subset=['Question', 'Dialogue'], how='any', inplace=True)"
   ]
  },
  {
   "cell_type": "code",
   "execution_count": 10,
   "metadata": {},
   "outputs": [],
   "source": [
    "# train_df = train_df.fillna('')\n",
    "# test_df = test_df.fillna('')"
   ]
  },
  {
   "cell_type": "markdown",
   "metadata": {},
   "source": [
    "# 4.无用字符清理"
   ]
  },
  {
   "cell_type": "code",
   "execution_count": 11,
   "metadata": {},
   "outputs": [],
   "source": [
    "def clean_sentence(sentence):\n",
    "    '''\n",
    "    特殊符号去除\n",
    "    这里要把什么去掉，就可以在这里加一些自己的方法\n",
    "    通常在切词之前需要做一次处理，切词之后再做一次处理。\n",
    "    :param sentence: 待处理的字符串\n",
    "    :return: 过滤特殊字符后的字符串\n",
    "    '''\n",
    "    if isinstance(sentence, str):\n",
    "        return re.sub(\n",
    "            r'[\\s+\\-\\|\\!\\/\\[\\]\\{\\}_,.$%^*(+\\\"\\')]+|[:：+——()?【】“”！，。？、~@#￥%……&*（）]+|车主说|技师说|语音|图片|你好|您好',\n",
    "            '', sentence)\n",
    "            # 这里使用了一个比较通用的方法，使用了一个比较庞大的正则，也可以使用其他的方法\n",
    "            # 在研究一下Python的正则\n",
    "    else:\n",
    "        return ''"
   ]
  },
  {
   "cell_type": "code",
   "execution_count": 12,
   "metadata": {},
   "outputs": [
    {
     "name": "stdout",
     "output_type": "stream",
     "text": [
      "orign sentence :2012款奔驰c180怎么样，维修保养，动力，值得拥有吗 \n",
      "\n",
      "clean sentence: 2012款奔驰c180怎么样维修保养动力值得拥有吗 \n",
      "\n"
     ]
    }
   ],
   "source": [
    "# 它的效果大概是这样的，比如这里有这样的一句话，对比调用上边的函数和不调用上边的清理函数的区别\n",
    "sentence='2012款奔驰c180怎么样，维修保养，动力，值得拥有吗'\n",
    "print('orign sentence :{} \\n'.format(sentence))\n",
    "print('clean sentence: {} \\n'.format(clean_sentence(sentence)))"
   ]
  },
  {
   "cell_type": "markdown",
   "metadata": {},
   "source": [
    "# 5. 切词"
   ]
  },
  {
   "cell_type": "markdown",
   "metadata": {},
   "source": [
    "`我来到北京清华大学`"
   ]
  },
  {
   "cell_type": "markdown",
   "metadata": {},
   "source": [
    "+ 支持三种分词模式：\n",
    "\n",
    "    + 精确模式，试图将句子最精确地切开，适合文本分析；\n",
    "    \n",
    "    `jieba.cut('我来到北京清华大学',cut_all=False)` # 默认是精确模式\n",
    "    \n",
    "    `【精确模式】: 我/ 来到/ 北京/ 清华大学`\n",
    "    \n",
    "    + 全模式，把句子中所有的可以成词的词语都扫描出来, 速度非常快，但是不能解决歧义；\n",
    "    \n",
    "    `jieba.cut('我来到北京清华大学',cut_all=True)`\n",
    "    \n",
    "    `【全模式】: 我/ 来到/ 北京/ 清华/ 清华大学/ 华大/ 大学`  \n",
    "    \n",
    "    + 搜索引擎模式，在精确模式的基础上，对长词再次切分，提高召回率，适合用于搜索引擎分词。\n",
    "    \n",
    "    `jieba.cut_for_search('我来到北京清华大学')`\n",
    "    \n",
    "    `【全模式】: 我/ 来到/ 北京/ 清华/ 华大 / 大学/ 清华大学`\n",
    "\n",
    "+ 支持繁体分词\n",
    "\n",
    "+ 支持自定义词典"
   ]
  },
  {
   "cell_type": "markdown",
   "metadata": {},
   "source": [
    "# Q2 切词遇到的问题?\n",
    "\n",
    "---除了结巴切词之外，哈工大的一个叫hanNL比它切得要准一些，当然也要看具体的任务"
   ]
  },
  {
   "cell_type": "code",
   "execution_count": 13,
   "metadata": {},
   "outputs": [
    {
     "name": "stderr",
     "output_type": "stream",
     "text": [
      "Building prefix dict from the default dictionary ...\n",
      "Loading model from cache C:\\Users\\17854\\AppData\\Local\\Temp\\jieba.cache\n",
      "Loading model cost 0.606 seconds.\n",
      "Prefix dict has been built successfully.\n"
     ]
    },
    {
     "name": "stdout",
     "output_type": "stream",
     "text": [
      "['2010', '款', '的', '宝马', 'X1', '，', '2011', '年', '出厂', '，', '2.0', '排量']\n"
     ]
    }
   ],
   "source": [
    "sentence='2010款的宝马X1，2011年出厂，2.0排量'\n",
    "print(list(jieba.cut(sentence)))"
   ]
  },
  {
   "cell_type": "markdown",
   "metadata": {},
   "source": [
    "# 6. 自定义词典"
   ]
  },
  {
   "cell_type": "code",
   "execution_count": 14,
   "metadata": {},
   "outputs": [],
   "source": [
    "user_dict='data/user_dict.txt'"
   ]
  },
  {
   "cell_type": "code",
   "execution_count": 15,
   "metadata": {},
   "outputs": [
    {
     "name": "stdout",
     "output_type": "stream",
     "text": [
      "['2010', '款', '的', '宝马X1', '，', '2011', '年', '出厂', '，', '2.0', '排量']\n"
     ]
    }
   ],
   "source": [
    "# 载入自定义词典\n",
    "jieba.load_userdict(user_dict)\n",
    "# 这里只需要将自己定义的词典（这里是将品牌和型号两列词拿出来）使用结巴的load_userdict加载一下，后期使用结巴分词的时候，准确率就会大大提高，因为有了这一类词，所以分的时候会根据这类特征进行分词。\n",
    "# 这里的停用词字典是要一个词一行\n",
    "print(list(jieba.cut(sentence)))"
   ]
  },
  {
   "cell_type": "markdown",
   "metadata": {},
   "source": [
    "# 7. 停用词去除"
   ]
  },
  {
   "cell_type": "code",
   "execution_count": 16,
   "metadata": {},
   "outputs": [],
   "source": [
    "def load_stop_words(stop_word_path):\n",
    "    '''\n",
    "    加载停用词\n",
    "    为什么要进行停用词去除这个环节？主要是因为在切出来的这部分词中，有很多没有实际意义的词语，在进行\n",
    "    word2vec训练的时候，会干扰训练\n",
    "    \n",
    "    这里通常取出停用词和前边正则的过程会耗时比较长，后边会讲解一个大大提高速度的方案。\n",
    "    :param stop_word_path:停用词路径\n",
    "    :return: 停用词表 list\n",
    "    '''\n",
    "    # 打开停用词文件\n",
    "    file = open(stop_word_path, 'r', encoding='utf-8')\n",
    "    # 读取所有行\n",
    "    stop_words = file.readlines()\n",
    "    # 去除每一个停用词前后 空格 换行符\n",
    "    stop_words = [stop_word.strip() for stop_word in stop_words]\n",
    "    return stop_words"
   ]
  },
  {
   "cell_type": "code",
   "execution_count": 17,
   "metadata": {},
   "outputs": [
    {
     "name": "stdout",
     "output_type": "stream",
     "text": [
      "stop words size 767\n"
     ]
    }
   ],
   "source": [
    "# 输入停用词路径 读取停用词\n",
    "stop_words=load_stop_words(stop_word_path)\n",
    "print('stop words size {}'.format(len(stop_words)))"
   ]
  },
  {
   "cell_type": "markdown",
   "metadata": {},
   "source": [
    "# Q3 为什么要去除停用词?\n",
    "\n",
    "---"
   ]
  },
  {
   "cell_type": "markdown",
   "metadata": {},
   "source": [
    "## 过滤停用词"
   ]
  },
  {
   "cell_type": "code",
   "execution_count": 18,
   "metadata": {},
   "outputs": [],
   "source": [
    "# 过滤停用词\n",
    "def filter_stopwords(words):\n",
    "    '''\n",
    "    过滤停用词\n",
    "    这里直接使用map（直接使用哈希进行匹配）会有一定的优化？？\n",
    "    :param seg_list: 切好词的列表 [word1 ,word2 .......]\n",
    "    :return: 过滤停用词后的词列表\n",
    "    '''\n",
    "    return [word for word in words if word not in stop_words]"
   ]
  },
  {
   "cell_type": "code",
   "execution_count": 19,
   "metadata": {},
   "outputs": [
    {
     "name": "stdout",
     "output_type": "stream",
     "text": [
      "orign sentence :2010款的宝马X1，2011年出厂，2.0排量 \n",
      "\n",
      "words: ['2010', '款', '的', '宝马X1', '，', '2011', '年', '出厂', '，', '2.0', '排量'] \n",
      "\n",
      "filter stop word : ['2010', '款', '宝马X1', '2011', '年', '出厂', '2.0', '排量'] \n"
     ]
    }
   ],
   "source": [
    "print('orign sentence :{} \\n'.format(sentence))\n",
    "words = list(jieba.cut(sentence))\n",
    "print('words: {} \\n'.format(words))\n",
    "print('filter stop word : {} '.format(filter_stopwords(words)))"
   ]
  },
  {
   "cell_type": "markdown",
   "metadata": {},
   "source": [
    "上边的几个过程主要处理了如下的几个任务：\n",
    "- 数据的载入\n",
    "- 空值的填充\n",
    "- 特殊字符的处理\n",
    "- 切词\n",
    "- 停用词的过滤"
   ]
  },
  {
   "cell_type": "markdown",
   "metadata": {},
   "source": [
    "# 8. 合并处理流程"
   ]
  },
  {
   "cell_type": "code",
   "execution_count": 20,
   "metadata": {},
   "outputs": [],
   "source": [
    "def sentence_proc(sentence):\n",
    "    '''\n",
    "    预处理模块\n",
    "    将上边几个部分的整个流程串起来，构建这样的一个方法。\n",
    "    :param sentence:待处理字符串\n",
    "    :return: 处理后的字符串\n",
    "    '''\n",
    "    # 清除无用词,做一个正则匹配\n",
    "    sentence = clean_sentence(sentence)\n",
    "    # 切词，默认精确模式，可以使用全模式cut参数cut_all=True来试一下\n",
    "    words = jieba.cut(sentence)\n",
    "    # 过滤停用词\n",
    "    words = filter_stopwords(words)\n",
    "    # 把得到的list拼接成一个字符串,按空格分隔\n",
    "    return ' '.join(words)"
   ]
  },
  {
   "cell_type": "code",
   "execution_count": 21,
   "metadata": {},
   "outputs": [
    {
     "data": {
      "text/plain": [
       "'2010款的宝马X1，2011年出厂，2.0排量'"
      ]
     },
     "execution_count": 21,
     "metadata": {},
     "output_type": "execute_result"
    }
   ],
   "source": [
    "sentence\n",
    "# 这里需要加一个正则，即使得句子里边数字上的小数点不要去掉"
   ]
  },
  {
   "cell_type": "code",
   "execution_count": 22,
   "metadata": {},
   "outputs": [
    {
     "data": {
      "text/plain": [
       "'2010 款 宝马X1 2011 年 出厂 20 排量'"
      ]
     },
     "execution_count": 22,
     "metadata": {},
     "output_type": "execute_result"
    }
   ],
   "source": [
    "sentence_proc(sentence)"
   ]
  },
  {
   "cell_type": "markdown",
   "metadata": {},
   "source": [
    "# Q4 `['Brand', 'Model']`  要不要加进去 ?\n",
    "+ word2vec  建立word2vec的时候最好把所有的语料都加进去，即把这两列也加进去，当做专有名词，帮助分词\n",
    "+ train_dataset , test_dataset  真正训练的时候是一个问答系统就不要把这些加进去了\n",
    "---"
   ]
  },
  {
   "cell_type": "code",
   "execution_count": 23,
   "metadata": {},
   "outputs": [
    {
     "data": {
      "text/html": [
       "<div>\n",
       "<style scoped>\n",
       "    .dataframe tbody tr th:only-of-type {\n",
       "        vertical-align: middle;\n",
       "    }\n",
       "\n",
       "    .dataframe tbody tr th {\n",
       "        vertical-align: top;\n",
       "    }\n",
       "\n",
       "    .dataframe thead th {\n",
       "        text-align: right;\n",
       "    }\n",
       "</style>\n",
       "<table border=\"1\" class=\"dataframe\">\n",
       "  <thead>\n",
       "    <tr style=\"text-align: right;\">\n",
       "      <th></th>\n",
       "      <th>QID</th>\n",
       "      <th>Brand</th>\n",
       "      <th>Model</th>\n",
       "      <th>Question</th>\n",
       "      <th>Dialogue</th>\n",
       "      <th>Report</th>\n",
       "    </tr>\n",
       "  </thead>\n",
       "  <tbody>\n",
       "    <tr>\n",
       "      <td>0</td>\n",
       "      <td>Q1</td>\n",
       "      <td>奔驰</td>\n",
       "      <td>奔驰GL级</td>\n",
       "      <td>方向机重，助力泵，方向机都换了还是一样</td>\n",
       "      <td>技师说：[语音]|车主说：新的都换了|车主说：助力泵，方向机|技师说：[语音]|车主说：换了...</td>\n",
       "      <td>随时联系</td>\n",
       "    </tr>\n",
       "    <tr>\n",
       "      <td>1</td>\n",
       "      <td>Q2</td>\n",
       "      <td>奔驰</td>\n",
       "      <td>奔驰M级</td>\n",
       "      <td>奔驰ML500排气凸轮轴调节错误</td>\n",
       "      <td>技师说：你这个有没有电脑检测故障代码。|车主说：有|技师说：发一下|车主说：发动机之前亮故障...</td>\n",
       "      <td>随时联系</td>\n",
       "    </tr>\n",
       "    <tr>\n",
       "      <td>2</td>\n",
       "      <td>Q3</td>\n",
       "      <td>宝马</td>\n",
       "      <td>宝马X1(进口)</td>\n",
       "      <td>2010款宝马X1，2011年出厂，2.0排量，通用6L45变速箱，原地换挡位PRND车辆闯...</td>\n",
       "      <td>技师说：你好，4缸自然吸气发动机N46是吧，先挂空档再挂其他档有没有闯动呢，变速箱油液位是否...</td>\n",
       "      <td>行驶没有顿挫的感觉，原地换挡有闯动，刹车踩重没有，这是力的限制的作用，应该没有问题</td>\n",
       "    </tr>\n",
       "    <tr>\n",
       "      <td>3</td>\n",
       "      <td>Q4</td>\n",
       "      <td>Jeep</td>\n",
       "      <td>牧马人</td>\n",
       "      <td>3.0V6发动机号在什么位置，有照片最好！</td>\n",
       "      <td>技师说：右侧排气管上方，缸体上靠近变速箱|车主说：[图片]|车主说：是不是这个？|车主说：这...</td>\n",
       "      <td>举起车辆，在左前轮这边的缸体上</td>\n",
       "    </tr>\n",
       "    <tr>\n",
       "      <td>4</td>\n",
       "      <td>Q5</td>\n",
       "      <td>奔驰</td>\n",
       "      <td>奔驰C级</td>\n",
       "      <td>2012款奔驰c180怎么样，维修保养，动力，值得拥有吗</td>\n",
       "      <td>技师说：家庭用车的话，还是可以入手的|技师说：维修保养费用不高|车主说：12年的180市场价...</td>\n",
       "      <td>家庭用车可以入手的，维修保养价格还可以。车况好，价格合理可以入手</td>\n",
       "    </tr>\n",
       "  </tbody>\n",
       "</table>\n",
       "</div>"
      ],
      "text/plain": [
       "  QID Brand     Model                                           Question  \\\n",
       "0  Q1    奔驰     奔驰GL级                                方向机重，助力泵，方向机都换了还是一样   \n",
       "1  Q2    奔驰      奔驰M级                                   奔驰ML500排气凸轮轴调节错误   \n",
       "2  Q3    宝马  宝马X1(进口)  2010款宝马X1，2011年出厂，2.0排量，通用6L45变速箱，原地换挡位PRND车辆闯...   \n",
       "3  Q4  Jeep       牧马人                              3.0V6发动机号在什么位置，有照片最好！   \n",
       "4  Q5    奔驰      奔驰C级                       2012款奔驰c180怎么样，维修保养，动力，值得拥有吗   \n",
       "\n",
       "                                            Dialogue  \\\n",
       "0  技师说：[语音]|车主说：新的都换了|车主说：助力泵，方向机|技师说：[语音]|车主说：换了...   \n",
       "1  技师说：你这个有没有电脑检测故障代码。|车主说：有|技师说：发一下|车主说：发动机之前亮故障...   \n",
       "2  技师说：你好，4缸自然吸气发动机N46是吧，先挂空档再挂其他档有没有闯动呢，变速箱油液位是否...   \n",
       "3  技师说：右侧排气管上方，缸体上靠近变速箱|车主说：[图片]|车主说：是不是这个？|车主说：这...   \n",
       "4  技师说：家庭用车的话，还是可以入手的|技师说：维修保养费用不高|车主说：12年的180市场价...   \n",
       "\n",
       "                                      Report  \n",
       "0                                       随时联系  \n",
       "1                                       随时联系  \n",
       "2  行驶没有顿挫的感觉，原地换挡有闯动，刹车踩重没有，这是力的限制的作用，应该没有问题  \n",
       "3                            举起车辆，在左前轮这边的缸体上  \n",
       "4           家庭用车可以入手的，维修保养价格还可以。车况好，价格合理可以入手  "
      ]
     },
     "execution_count": 23,
     "metadata": {},
     "output_type": "execute_result"
    }
   ],
   "source": [
    "train_df.head()"
   ]
  },
  {
   "cell_type": "markdown",
   "metadata": {},
   "source": [
    "# 9. 批量预处理"
   ]
  },
  {
   "cell_type": "code",
   "execution_count": 24,
   "metadata": {},
   "outputs": [],
   "source": [
    "def data_frame_proc(df):\n",
    "    '''\n",
    "    数据集批量处理方法\n",
    "    这里的批处理是基于word2vec来做的 ，所以把所有的四列数据都放了进去\n",
    "    要是基于问答系统来做的话可能就是只需要后面两列\n",
    "    :param df: 数据集\n",
    "    :return:处理好的数据集\n",
    "    '''\n",
    "    # 批量预处理 训练集和测试集\n",
    "    for col_name in ['Brand', 'Model', 'Question', 'Dialogue']:\n",
    "        df[col_name] = df[col_name].apply(sentence_proc)\n",
    "        \"\"\"\n",
    "        这里使用Python进行数据处理，对一个数据集中的多个类目使用同一个函数的话，不用使用for循环进行迭代\n",
    "        如：for i in train_df.head(),这样做的话其实很不Python\n",
    "        可以直接使用data_fram里边自带的一些函数来进行这样的一些按列处理的操作。\n",
    "        如：这里要对Report这一列进预处理，可以直接这样做\n",
    "        df['Report'] = df['Report'].apply(sentence_proc)\n",
    "        这样使用apply(),就可以对这一列，挨个使用sentence_proc这个函数\n",
    "        这是一个比较好的方法，好好学一下有个好处，后边可以进行一个并行操作\n",
    "        这里上边就是使用了一个for循环，循环处批处理了4列数据\n",
    "        \"\"\"\n",
    "\n",
    "    if 'Report' in df.columns:\n",
    "        # 训练集 Report 预处理  这里单独拿出来是因为这里的Report只有在训练集中才有\n",
    "        # 这里偷懒一下，直接对比有没有Report，有的话就对Report进行处理\n",
    "        df['Report'] = df['Report'].apply(sentence_proc)\n",
    "    return df"
   ]
  },
  {
   "cell_type": "code",
   "execution_count": 68,
   "metadata": {},
   "outputs": [
    {
     "name": "stdout",
     "output_type": "stream",
     "text": [
      "CPU times: user 4min 5s, sys: 11.6 ms, total: 4min 5s\n",
      "Wall time: 4min 5s\n"
     ]
    }
   ],
   "source": [
    "%%time  # jupyter里边的一个语法，会自行计算这整个cell里边的程序运行时间，速度\n",
    "\"\"\"\n",
    "上边的data_frame_proc函数分成两部分（训练集和测试集共有的列分为一部分，一起处理，不共有的列，\n",
    "单独拿出来进行匹配，有就处理没有就不处理）的好处，特别是第二部分中，拿着report去对比每一个列名，\n",
    "有的话就进行处理，没有就不处理，可以实现同一个函数，既处理训练集又处理测试集\n",
    "\"\"\"\n",
    "train_df = data_frame_proc(train_df)\n",
    "test_df = data_frame_proc(test_df)"
   ]
  },
  {
   "cell_type": "markdown",
   "metadata": {},
   "source": [
    "CPU times: user 4min 5s, sys: 11.6 ms, total: 4min 5s\n",
    "Wall time: 4min 5s"
   ]
  },
  {
   "cell_type": "markdown",
   "metadata": {},
   "source": [
    "# Q5 如何加速处理?\n",
    "\n",
    "---"
   ]
  },
  {
   "cell_type": "markdown",
   "metadata": {},
   "source": [
    "# 10. 多核处理\n",
    "开辟多个线程来处理，这里是一个开辟多线程一个比较通用的方法，以后用的时候，或者打比赛都可以直接copy使用"
   ]
  },
  {
   "cell_type": "code",
   "execution_count": 25,
   "metadata": {},
   "outputs": [],
   "source": [
    "import numpy as np\n",
    "from multiprocessing import cpu_count, Pool\n",
    "# python里边有这样的一个多进程的包，把这个包载入进来\n",
    "\n",
    "# cpu 数量  cpu核数\n",
    "cores = cpu_count()\n",
    "# 分块个数\n",
    "partitions = cores \n",
    " \n",
    "def parallelize(df, func):\n",
    "    \"\"\"\n",
    "    多核并行处理模块\n",
    "    将数据进行一个划分，整块数据datafram进来之后，根据你的核数来把它划分成多少个子块\n",
    "    :param df: DataFrame数据\n",
    "    :param func: 预处理函数 \n",
    "    :return: 处理后的数据\n",
    "    \"\"\"\n",
    "    # 数据切分\n",
    "    data_split = np.array_split(df, partitions)\n",
    "    # 进程池  开辟相应的进程数\n",
    "    pool = Pool(cores)\n",
    "    # 数据分发 合并\n",
    "    data = pd.concat(pool.map(func, data_split))\n",
    "    # 这里传入的参数就是做预处理的函数，和切分好的数据\n",
    "    # 关闭进程池\n",
    "    pool.close()\n",
    "    # 执行完close后不会有新的进程加入到pool,join函数等待所有子进程结束\n",
    "    pool.join()\n",
    "    return data"
   ]
  },
  {
   "cell_type": "code",
   "execution_count": 26,
   "metadata": {},
   "outputs": [
    {
     "data": {
      "text/plain": [
       "12"
      ]
     },
     "execution_count": 26,
     "metadata": {},
     "output_type": "execute_result"
    }
   ],
   "source": [
    "cores"
   ]
  },
  {
   "cell_type": "markdown",
   "metadata": {},
   "source": [
    "+ CPU time\n",
    "    + user : \n",
    "     进程执行用户态代码耗费的CPU时间\n",
    "    + sys : \n",
    "     进程在内核态运行所耗费的CPU时间 \n",
    "+ Wall time \n",
    "    字面意思是挂钟时间，实际上就是指的是现实的时间"
   ]
  },
  {
   "cell_type": "code",
   "execution_count": null,
   "metadata": {},
   "outputs": [],
   "source": [
    "%%time\n",
    "# 多线程处理预处理\n",
    "# 这里查看cpu进程运行的方法需要在Ubuntu终端 使用top命令查看\n",
    "train_df = parallelize(train_df, data_frame_proc);\n",
    "test_df = parallelize(test_df, data_frame_proc);"
   ]
  },
  {
   "cell_type": "code",
   "execution_count": null,
   "metadata": {
    "scrolled": true
   },
   "outputs": [],
   "source": [
    "train_df.head()"
   ]
  },
  {
   "cell_type": "code",
   "execution_count": null,
   "metadata": {},
   "outputs": [],
   "source": [
    "# 保存数据\n",
    "\"\"\"\n",
    "这里将上边处理好的数据进行一个保存，这样的话以后就不需要再进行数据处理了，因为数据处理的这个过程比较浪费\n",
    "时间，这样直接将处理好的csv文件读取进来就好了。\n",
    "\n",
    "pandas保存数据的路子：\n",
    "pandas保存数据的路子：自带一些保存的方法，如to_csv;to_excel等都可以，拿到数据以后，调用这类方法，输入\n",
    "存储路径，是否要保存index（即前边的序列号），是否要保存标题\n",
    "\"\"\"\n",
    "train_df.to_csv('data/train_seg_data.csv',index=None,header=True)\n",
    "test_df.to_csv('data/test_seg_data.csv',index=None,header=True)"
   ]
  },
  {
   "cell_type": "markdown",
   "metadata": {},
   "source": [
    "# Q6 vocab是用来干嘛的? \n",
    "\n",
    "---vocab这个词表是用来干嘛的，是用来训练最后的那个词向量用的，进行词向量的映射，这个是应用在模型的最前边，将单词都映射成一个个的向量，然后输入到word2vec/LSTM等其他的模型。所以这里的词表和我们训练集的输入有很大的关系，这个词表中要包含输入的数据集中的所有的词，所以我们训练的语料用的是哪些，就应该使用哪些语料来构建我们的vocab词表。下边用到的是训练集里边的三列数据，测试集里边的两列数据。也可以尝试一下把车型和品牌加进去看看有什么效果，也可以考虑一下模型的叠加的问题。"
   ]
  },
  {
   "cell_type": "markdown",
   "metadata": {},
   "source": [
    "# 11. 手动构建Vocab\n",
    "\n",
    "对于QA赛题,使用Question Dialogue Report三列数据作为Vocab的构建语料."
   ]
  },
  {
   "cell_type": "code",
   "execution_count": null,
   "metadata": {},
   "outputs": [],
   "source": [
    "train_df['merged'] = train_df[['Question', 'Dialogue', 'Report']].apply(lambda x: ' '.join(x), axis=1)\n",
    "# apply里边的参数，这里的x代表的这三列下的一行，三个数据按行作拼接，使用空格隔开，拼成一行数据，也就是一个字符串。\n",
    "test_df['merged'] = test_df[['Question', 'Dialogue']].apply(lambda x: ' '.join(x), axis=1)"
   ]
  },
  {
   "cell_type": "code",
   "execution_count": null,
   "metadata": {},
   "outputs": [],
   "source": [
    "merged_df = pd.concat([train_df[['merged']], test_df[['merged']]], axis=0)\n",
    "print('train data size {},test data size {},merged_df data size {}'.format(len(train_df),len(test_df),len(merged_df)))"
   ]
  },
  {
   "cell_type": "markdown",
   "metadata": {},
   "source": [
    "# 保存数据"
   ]
  },
  {
   "cell_type": "code",
   "execution_count": null,
   "metadata": {},
   "outputs": [],
   "source": [
    "merged_df.to_csv('data/merged_train_test_seg_data.csv',index=None,header=False)\n",
    "merged_df.head()  # 这里得到的就是用来构建vocab词表的语料"
   ]
  },
  {
   "cell_type": "markdown",
   "metadata": {},
   "source": [
    "## 构建vacab"
   ]
  },
  {
   "cell_type": "markdown",
   "metadata": {},
   "source": [
    "### 方法一"
   ]
  },
  {
   "cell_type": "code",
   "execution_count": null,
   "metadata": {},
   "outputs": [],
   "source": [
    "%%time\n",
    "# 1. 拼接combine的所有行,形成一个超大字符串\n",
    "# 2. 然后按空格切开,形成全量数据的words列表\n",
    "# 3. set去重\n",
    "vocab=set(' '.join(combine_df['combine']).split(' '))  # 这里使用set进行去重"
   ]
  },
  {
   "cell_type": "markdown",
   "metadata": {},
   "source": [
    "### 方法二"
   ]
  },
  {
   "cell_type": "code",
   "execution_count": null,
   "metadata": {},
   "outputs": [],
   "source": [
    "%%time\n",
    "# 词列表\n",
    "words=[]\n",
    "for sentence in merged_df['combine']:\n",
    "    \"\"\"\n",
    "    这种方法是直接迭代这个datafram,拿到每一个sentence，sentence直接按空格切分，加到词列表中\n",
    "    \"\"\"\n",
    "    # 合并两个list\n",
    "    words+=sentence.split(' ')  # 这里的+和extend都能将两个list合并成一个list\n",
    "# word去重\n",
    "vocab=set(words)"
   ]
  },
  {
   "cell_type": "code",
   "execution_count": null,
   "metadata": {},
   "outputs": [],
   "source": [
    "print('sentence size:{} ,vocab :{}'.format(len(sentences),len(vocab)))"
   ]
  },
  {
   "cell_type": "code",
   "execution_count": null,
   "metadata": {},
   "outputs": [],
   "source": []
  },
  {
   "cell_type": "markdown",
   "metadata": {},
   "source": [
    "# 使用vocab进行构建Embedding的方法\n",
    "可以选择使用不同的方法来构建词向量\n",
    "Skip-Gram,  词袋模型，最简单的训练方式就是保存成CSV，然后用LineSentence去读这个文件路径，拿到sentence，然后传到我们的word2vec里边去，这种最简单的方式，见gensim_practice里边"
   ]
  },
  {
   "cell_type": "markdown",
   "metadata": {},
   "source": [
    "# 对于工程量比较大的时候，使用pycharm进行构建，具体的框架，这里是数据导入和保存部分\n",
    "\n",
    "- data包：整个项目的数据，包括停用词、word2vec、和一些训练的语料、和一些中间要保存的文件，因为后边搭建模型的时候，这些处理数据集的方法会发生变动，会产生很多中间结果，这些结果都会保存在data文件里边。\n",
    "- uint包：整个项目常用到的一些功能工具，一些配置信息：包括数据，数据路径，通过这个包可以拿到整个项目的路径，这样就不用在data下边写相对的路径，直接通过这里边直接拿到整个项目的根路径，然后用Python里边的os.path加join这种方式就能获取到，自己定义一个pyload这样的文件，来帮助我们进行数据的读取。这样的话可以帮助我们将刚才写的数据封装成一个一个的方法，包括数据集的加载，停用词的加载，字符串的处理等，全部封装成一个一个的方法。然后再把整个预处理模块封装起来。最后封到一个data januay来做，我们传入我们的训练集的路径和测试集的路径，直接调用这样整一个方法，就能把要处理的测试集训练集，和我们merge完之后的数据全部跑出来保存到我们的data里边去，这样一个整个的数据的处理和保存基本就这样。"
   ]
  },
  {
   "cell_type": "markdown",
   "metadata": {},
   "source": [
    "# 一些技巧\n",
    "可以先加载别人训练好的词向量，再用这里的批处理，再构建自己的模型，再去跑，效果会好很多，但是很多比赛规定了不能使用外部的数据和外部的词向量，对于现成的词向量，网上一搜一大把，github上很多。\n",
    "\n",
    "腾讯AI Lab开源了大量的高质量中文词向量数据[https://blog.csdn.net/Tencent_TEG/article/details/83189569](https://blog.csdn.net/Tencent_TEG/article/details/83189569)"
   ]
  },
  {
   "cell_type": "code",
   "execution_count": null,
   "metadata": {},
   "outputs": [],
   "source": []
  }
 ],
 "metadata": {
  "kernelspec": {
   "display_name": "Python 3",
   "language": "python",
   "name": "python3"
  },
  "language_info": {
   "codemirror_mode": {
    "name": "ipython",
    "version": 3
   },
   "file_extension": ".py",
   "mimetype": "text/x-python",
   "name": "python",
   "nbconvert_exporter": "python",
   "pygments_lexer": "ipython3",
   "version": "3.7.4"
  },
  "toc": {
   "base_numbering": 1,
   "nav_menu": {},
   "number_sections": true,
   "sideBar": true,
   "skip_h1_title": false,
   "title_cell": "Table of Contents",
   "title_sidebar": "Contents",
   "toc_cell": false,
   "toc_position": {
    "height": "calc(100% - 180px)",
    "left": "10px",
    "top": "150px",
    "width": "281.6px"
   },
   "toc_section_display": true,
   "toc_window_display": false
  }
 },
 "nbformat": 4,
 "nbformat_minor": 2
}
