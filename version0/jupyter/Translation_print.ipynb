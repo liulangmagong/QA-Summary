{
 "cells": [
  {
   "cell_type": "code",
   "execution_count": 7,
   "metadata": {
    "colab": {},
    "colab_type": "code",
    "id": "wwGR9D-t5rJH"
   },
   "outputs": [],
   "source": [
    "# %tensorflow_version 2.x"
   ]
  },
  {
   "cell_type": "code",
   "execution_count": 8,
   "metadata": {
    "colab": {
     "base_uri": "https://localhost:8080/",
     "height": 34
    },
    "colab_type": "code",
    "id": "gZmj3GGs-sAG",
    "outputId": "e142629d-8d52-47b0-fd58-498a04ff4cb3"
   },
   "outputs": [
    {
     "name": "stdout",
     "output_type": "stream",
     "text": [
      "2.1.0\n"
     ]
    }
   ],
   "source": [
    "import tensorflow\n",
    "print(tensorflow.__version__)"
   ]
  },
  {
   "cell_type": "code",
   "execution_count": 9,
   "metadata": {
    "colab": {
     "base_uri": "https://localhost:8080/",
     "height": 50
    },
    "colab_type": "code",
    "id": "eqYhcM5N5XJR",
    "outputId": "42d1a9ec-4610-4b5e-81c5-c9b9dabfdb73"
   },
   "outputs": [
    {
     "name": "stdout",
     "output_type": "stream",
     "text": [
      "The autoreload extension is already loaded. To reload it, use:\n",
      "  %reload_ext autoreload\n"
     ]
    }
   ],
   "source": [
    "from __future__ import absolute_import, division, print_function, unicode_literals\n",
    "\n",
    "import tensorflow as tf\n",
    "\n",
    "import matplotlib.pyplot as plt\n",
    "import matplotlib.ticker as ticker\n",
    "from sklearn.model_selection import train_test_split\n",
    "\n",
    "%load_ext autoreload\n",
    "%autoreload 2\n",
    "import warnings\n",
    "warnings.filterwarnings(\"ignore\")  # 忽略警告\n",
    "import sys\n",
    "sys.path.append('/home/roger/kaikeba/03_lecture/code')\n",
    "\n",
    "import unicodedata\n",
    "import re\n",
    "import numpy as np\n",
    "import os\n",
    "import io\n",
    "import time\n",
    "import pandas as pd\n",
    "\n",
    "assert tf.__version__.startswith('2.')\n",
    "\n",
    "from utils.config import train_data_path\n",
    "from utils.data_loader import preprocess_sentence, preprocess_sentence_english, preprocess_sentence_hindi\n",
    "from utils.data_loader import tokenize, max_length"
   ]
  },
  {
   "cell_type": "code",
   "execution_count": 10,
   "metadata": {
    "colab": {
     "base_uri": "https://localhost:8080/",
     "height": 34
    },
    "colab_type": "code",
    "id": "lSt2skKf5XJZ",
    "outputId": "72853a03-ae21-46a7-ab20-8e2e90ca8599"
   },
   "outputs": [
    {
     "name": "stdout",
     "output_type": "stream",
     "text": [
      "1 Physical GPUs, 1 Logical GPUs\n"
     ]
    }
   ],
   "source": [
    "gpus = tf.config.experimental.list_physical_devices('GPU')\n",
    "if not gpus:\n",
    "    pass\n",
    "try:\n",
    "    # Currently, memory growth needs to be the same across GPUs\n",
    "    for gpu in gpus:\n",
    "        tf.config.experimental.set_memory_growth(gpu, True)\n",
    "    logical_gpus = tf.config.experimental.list_logical_devices('GPU')\n",
    "    print(len(gpus), \"Physical GPUs,\", len(logical_gpus), \"Logical GPUs\")\n",
    "except RuntimeError as e:\n",
    "    print(e)\n",
    "\n",
    "\n",
    "# 重要模块：GPU自适应训练\n",
    "gpus = tf.config.experimental.list_physical_devices(device_type='GPU')\n",
    "for gpu in gpus:\n",
    "    tf.config.experimental.set_memory_growth(gpu, True)\n",
    "    "
   ]
  },
  {
   "cell_type": "code",
   "execution_count": 11,
   "metadata": {
    "colab": {
     "base_uri": "https://localhost:8080/",
     "height": 154
    },
    "colab_type": "code",
    "id": "OL-nsvHJ5XJc",
    "outputId": "b1115487-3e6b-4912-f4cb-160fd671731e"
   },
   "outputs": [
    {
     "name": "stdout",
     "output_type": "stream",
     "text": [
      "WARNING:tensorflow:From <ipython-input-11-9909d7032bf8>:2: is_gpu_available (from tensorflow.python.framework.test_util) is deprecated and will be removed in a future version.\n",
      "Instructions for updating:\n",
      "Use `tf.config.list_physical_devices('GPU')` instead.\n"
     ]
    },
    {
     "name": "stderr",
     "output_type": "stream",
     "text": [
      "2020-03-08 17:13:34,426 : WARNING : From <ipython-input-11-9909d7032bf8>:2: is_gpu_available (from tensorflow.python.framework.test_util) is deprecated and will be removed in a future version.\n",
      "Instructions for updating:\n",
      "Use `tf.config.list_physical_devices('GPU')` instead.\n"
     ]
    },
    {
     "data": {
      "text/plain": [
       "True"
      ]
     },
     "execution_count": 11,
     "metadata": {},
     "output_type": "execute_result"
    }
   ],
   "source": [
    "# 判断是否有GPU\n",
    "tf.test.is_gpu_available(cuda_only=False, min_cuda_compute_capability=None)"
   ]
  },
  {
   "cell_type": "code",
   "execution_count": 12,
   "metadata": {
    "colab": {
     "base_uri": "https://localhost:8080/",
     "height": 136
    },
    "colab_type": "code",
    "id": "ZHVIBMT45XJg",
    "outputId": "149e6ef5-e133-4735-86c3-bb9bcc4daa21"
   },
   "outputs": [
    {
     "data": {
      "text/html": [
       "<div>\n",
       "<style scoped>\n",
       "    .dataframe tbody tr th:only-of-type {\n",
       "        vertical-align: middle;\n",
       "    }\n",
       "\n",
       "    .dataframe tbody tr th {\n",
       "        vertical-align: top;\n",
       "    }\n",
       "\n",
       "    .dataframe thead th {\n",
       "        text-align: right;\n",
       "    }\n",
       "</style>\n",
       "<table border=\"1\" class=\"dataframe\">\n",
       "  <thead>\n",
       "    <tr style=\"text-align: right;\">\n",
       "      <th></th>\n",
       "      <th>source</th>\n",
       "      <th>english_sentence</th>\n",
       "      <th>hindi_sentence</th>\n",
       "    </tr>\n",
       "  </thead>\n",
       "  <tbody>\n",
       "    <tr>\n",
       "      <td>0</td>\n",
       "      <td>ted</td>\n",
       "      <td>politicians do not have permission to do what ...</td>\n",
       "      <td>राजनीतिज्ञों के पास जो कार्य करना चाहिए, वह कर...</td>\n",
       "    </tr>\n",
       "    <tr>\n",
       "      <td>1</td>\n",
       "      <td>ted</td>\n",
       "      <td>I'd like to tell you about one such child,</td>\n",
       "      <td>मई आपको ऐसे ही एक बच्चे के बारे में बताना चाहू...</td>\n",
       "    </tr>\n",
       "    <tr>\n",
       "      <td>2</td>\n",
       "      <td>indic2012</td>\n",
       "      <td>This percentage is even greater than the perce...</td>\n",
       "      <td>यह प्रतिशत भारत में हिन्दुओं प्रतिशत से अधिक है।</td>\n",
       "    </tr>\n",
       "  </tbody>\n",
       "</table>\n",
       "</div>"
      ],
      "text/plain": [
       "      source                                   english_sentence  \\\n",
       "0        ted  politicians do not have permission to do what ...   \n",
       "1        ted         I'd like to tell you about one such child,   \n",
       "2  indic2012  This percentage is even greater than the perce...   \n",
       "\n",
       "                                      hindi_sentence  \n",
       "0  राजनीतिज्ञों के पास जो कार्य करना चाहिए, वह कर...  \n",
       "1  मई आपको ऐसे ही एक बच्चे के बारे में बताना चाहू...  \n",
       "2   यह प्रतिशत भारत में हिन्दुओं प्रतिशत से अधिक है।  "
      ]
     },
     "execution_count": 12,
     "metadata": {},
     "output_type": "execute_result"
    }
   ],
   "source": [
    "# 这里是一个印度文和英文翻译的数据集\n",
    "data = pd.read_csv(train_data_path)\n",
    "data.head(3)"
   ]
  },
  {
   "cell_type": "code",
   "execution_count": 13,
   "metadata": {
    "colab": {
     "base_uri": "https://localhost:8080/",
     "height": 50
    },
    "colab_type": "code",
    "id": "z5C2NkIX5XJj",
    "outputId": "61fe0c90-3c84-429d-cb64-f44b985b24be"
   },
   "outputs": [
    {
     "name": "stdout",
     "output_type": "stream",
     "text": [
      "127605\n",
      "127607\n"
     ]
    }
   ],
   "source": [
    "# 统计一下有多少个英文句子，多少个印度语句子\n",
    "print(data['english_sentence'].count())\n",
    "print(data['hindi_sentence'].count())"
   ]
  },
  {
   "cell_type": "code",
   "execution_count": 14,
   "metadata": {
    "colab": {
     "base_uri": "https://localhost:8080/",
     "height": 50
    },
    "colab_type": "code",
    "id": "GyU_ri9U5XJn",
    "outputId": "8ae997f2-213c-478b-a44b-c4b68c31da15"
   },
   "outputs": [
    {
     "name": "stdout",
     "output_type": "stream",
     "text": [
      "127605\n",
      "127605\n"
     ]
    }
   ],
   "source": [
    "data = data[data['english_sentence'].map(type) == str]  # 确保每一个句子都是字符串\n",
    "data = data[data['hindi_sentence'].map(type) == str]\n",
    "data = data[data['english_sentence'].map(len) > 0]  # 确保每个句子的长度均大于0\n",
    "data = data[data['hindi_sentence'].map(len) > 0]\n",
    "\n",
    "# 即实现将不符合条件的句子去掉\n",
    "print(data['english_sentence'].count())\n",
    "print(data['hindi_sentence'].count())"
   ]
  },
  {
   "cell_type": "code",
   "execution_count": 15,
   "metadata": {
    "colab": {
     "base_uri": "https://localhost:8080/",
     "height": 136
    },
    "colab_type": "code",
    "id": "L80C_aTJ5XJr",
    "outputId": "9978ff64-c535-4263-eba1-0f1b55653202"
   },
   "outputs": [
    {
     "data": {
      "text/html": [
       "<div>\n",
       "<style scoped>\n",
       "    .dataframe tbody tr th:only-of-type {\n",
       "        vertical-align: middle;\n",
       "    }\n",
       "\n",
       "    .dataframe tbody tr th {\n",
       "        vertical-align: top;\n",
       "    }\n",
       "\n",
       "    .dataframe thead th {\n",
       "        text-align: right;\n",
       "    }\n",
       "</style>\n",
       "<table border=\"1\" class=\"dataframe\">\n",
       "  <thead>\n",
       "    <tr style=\"text-align: right;\">\n",
       "      <th></th>\n",
       "      <th>source</th>\n",
       "      <th>english_sentence</th>\n",
       "      <th>hindi_sentence</th>\n",
       "    </tr>\n",
       "  </thead>\n",
       "  <tbody>\n",
       "    <tr>\n",
       "      <td>0</td>\n",
       "      <td>ted</td>\n",
       "      <td>politicians do not have permission to do what ...</td>\n",
       "      <td>राजनीतिज्ञों के पास जो कार्य करना चाहिए, वह कर...</td>\n",
       "    </tr>\n",
       "    <tr>\n",
       "      <td>1</td>\n",
       "      <td>ted</td>\n",
       "      <td>I'd like to tell you about one such child,</td>\n",
       "      <td>मई आपको ऐसे ही एक बच्चे के बारे में बताना चाहू...</td>\n",
       "    </tr>\n",
       "    <tr>\n",
       "      <td>2</td>\n",
       "      <td>indic2012</td>\n",
       "      <td>This percentage is even greater than the perce...</td>\n",
       "      <td>यह प्रतिशत भारत में हिन्दुओं प्रतिशत से अधिक है।</td>\n",
       "    </tr>\n",
       "  </tbody>\n",
       "</table>\n",
       "</div>"
      ],
      "text/plain": [
       "      source                                   english_sentence  \\\n",
       "0        ted  politicians do not have permission to do what ...   \n",
       "1        ted         I'd like to tell you about one such child,   \n",
       "2  indic2012  This percentage is even greater than the perce...   \n",
       "\n",
       "                                      hindi_sentence  \n",
       "0  राजनीतिज्ञों के पास जो कार्य करना चाहिए, वह कर...  \n",
       "1  मई आपको ऐसे ही एक बच्चे के बारे में बताना चाहू...  \n",
       "2   यह प्रतिशत भारत में हिन्दुओं प्रतिशत से अधिक है।  "
      ]
     },
     "execution_count": 15,
     "metadata": {},
     "output_type": "execute_result"
    }
   ],
   "source": [
    "data.head(3)"
   ]
  },
  {
   "cell_type": "code",
   "execution_count": 16,
   "metadata": {
    "colab": {},
    "colab_type": "code",
    "id": "vLWUWAFW5XJu"
   },
   "outputs": [],
   "source": [
    "# 在数据文件中增加两列，记录每一行中英语句子的长度，印度语句子的长度\n",
    "data[\"token_size_en\"] = data[\"english_sentence\"].apply(lambda x: len(x.split(' ')))\n",
    "data[\"token_size_hn\"] = data[\"hindi_sentence\"].apply(lambda x: len(x.split(' ')))\n",
    "# 将原数据中满足下边条件的数据（包括数据和标签），复制到data里边\n",
    "data = data.loc[data['token_size_hn'] < 22].copy()"
   ]
  },
  {
   "cell_type": "code",
   "execution_count": 17,
   "metadata": {
    "colab": {
     "base_uri": "https://localhost:8080/",
     "height": 136
    },
    "colab_type": "code",
    "id": "pu9Sr0H55XJx",
    "outputId": "bfebcea1-0890-4993-dc5a-c5fb9ed2f14e"
   },
   "outputs": [
    {
     "data": {
      "text/html": [
       "<div>\n",
       "<style scoped>\n",
       "    .dataframe tbody tr th:only-of-type {\n",
       "        vertical-align: middle;\n",
       "    }\n",
       "\n",
       "    .dataframe tbody tr th {\n",
       "        vertical-align: top;\n",
       "    }\n",
       "\n",
       "    .dataframe thead th {\n",
       "        text-align: right;\n",
       "    }\n",
       "</style>\n",
       "<table border=\"1\" class=\"dataframe\">\n",
       "  <thead>\n",
       "    <tr style=\"text-align: right;\">\n",
       "      <th></th>\n",
       "      <th>source</th>\n",
       "      <th>english_sentence</th>\n",
       "      <th>hindi_sentence</th>\n",
       "      <th>token_size_en</th>\n",
       "      <th>token_size_hn</th>\n",
       "    </tr>\n",
       "  </thead>\n",
       "  <tbody>\n",
       "    <tr>\n",
       "      <td>0</td>\n",
       "      <td>ted</td>\n",
       "      <td>politicians do not have permission to do what ...</td>\n",
       "      <td>राजनीतिज्ञों के पास जो कार्य करना चाहिए, वह कर...</td>\n",
       "      <td>12</td>\n",
       "      <td>14</td>\n",
       "    </tr>\n",
       "    <tr>\n",
       "      <td>1</td>\n",
       "      <td>ted</td>\n",
       "      <td>I'd like to tell you about one such child,</td>\n",
       "      <td>मई आपको ऐसे ही एक बच्चे के बारे में बताना चाहू...</td>\n",
       "      <td>9</td>\n",
       "      <td>11</td>\n",
       "    </tr>\n",
       "    <tr>\n",
       "      <td>2</td>\n",
       "      <td>indic2012</td>\n",
       "      <td>This percentage is even greater than the perce...</td>\n",
       "      <td>यह प्रतिशत भारत में हिन्दुओं प्रतिशत से अधिक है।</td>\n",
       "      <td>10</td>\n",
       "      <td>9</td>\n",
       "    </tr>\n",
       "  </tbody>\n",
       "</table>\n",
       "</div>"
      ],
      "text/plain": [
       "      source                                   english_sentence  \\\n",
       "0        ted  politicians do not have permission to do what ...   \n",
       "1        ted         I'd like to tell you about one such child,   \n",
       "2  indic2012  This percentage is even greater than the perce...   \n",
       "\n",
       "                                      hindi_sentence  token_size_en  \\\n",
       "0  राजनीतिज्ञों के पास जो कार्य करना चाहिए, वह कर...             12   \n",
       "1  मई आपको ऐसे ही एक बच्चे के बारे में बताना चाहू...              9   \n",
       "2   यह प्रतिशत भारत में हिन्दुओं प्रतिशत से अधिक है।             10   \n",
       "\n",
       "   token_size_hn  \n",
       "0             14  \n",
       "1             11  \n",
       "2              9  "
      ]
     },
     "execution_count": 17,
     "metadata": {},
     "output_type": "execute_result"
    }
   ],
   "source": [
    "data.head(3)"
   ]
  },
  {
   "cell_type": "code",
   "execution_count": 18,
   "metadata": {
    "colab": {
     "base_uri": "https://localhost:8080/",
     "height": 50
    },
    "colab_type": "code",
    "id": "It9WIf905XJ1",
    "outputId": "cb182654-9a14-46a4-9fe1-2ea7595e3344"
   },
   "outputs": [
    {
     "name": "stdout",
     "output_type": "stream",
     "text": [
      "90799\n",
      "90799\n"
     ]
    }
   ],
   "source": [
    "# 处理后留下来九万多条数据\n",
    "print(data['english_sentence'].count())\n",
    "print(data['hindi_sentence'].count())"
   ]
  },
  {
   "cell_type": "code",
   "execution_count": 19,
   "metadata": {
    "colab": {},
    "colab_type": "code",
    "id": "4FEnrINf5XJ4"
   },
   "outputs": [],
   "source": [
    "# 对训练集进行处理\n",
    "data['english_sentence'] = data['english_sentence'].apply(preprocess_sentence_english)\n",
    "data['hindi_sentence'] = data['hindi_sentence'].apply(preprocess_sentence_hindi)"
   ]
  },
  {
   "cell_type": "code",
   "execution_count": 20,
   "metadata": {
    "colab": {
     "base_uri": "https://localhost:8080/",
     "height": 195
    },
    "colab_type": "code",
    "id": "GVW3HHzl5XJ7",
    "outputId": "c1d314ce-f267-4c9c-9184-75ce68924931"
   },
   "outputs": [
    {
     "data": {
      "text/html": [
       "<div>\n",
       "<style scoped>\n",
       "    .dataframe tbody tr th:only-of-type {\n",
       "        vertical-align: middle;\n",
       "    }\n",
       "\n",
       "    .dataframe tbody tr th {\n",
       "        vertical-align: top;\n",
       "    }\n",
       "\n",
       "    .dataframe thead th {\n",
       "        text-align: right;\n",
       "    }\n",
       "</style>\n",
       "<table border=\"1\" class=\"dataframe\">\n",
       "  <thead>\n",
       "    <tr style=\"text-align: right;\">\n",
       "      <th></th>\n",
       "      <th>source</th>\n",
       "      <th>english_sentence</th>\n",
       "      <th>hindi_sentence</th>\n",
       "      <th>token_size_en</th>\n",
       "      <th>token_size_hn</th>\n",
       "    </tr>\n",
       "  </thead>\n",
       "  <tbody>\n",
       "    <tr>\n",
       "      <td>0</td>\n",
       "      <td>ted</td>\n",
       "      <td>&lt;start&gt; politicians do not have permission to ...</td>\n",
       "      <td>&lt;start&gt; राजनीतिज्ञों के पास जो कार्य करना चाहि...</td>\n",
       "      <td>12</td>\n",
       "      <td>14</td>\n",
       "    </tr>\n",
       "    <tr>\n",
       "      <td>1</td>\n",
       "      <td>ted</td>\n",
       "      <td>&lt;start&gt; I d like to tell you about one such ch...</td>\n",
       "      <td>&lt;start&gt; मई आपको ऐसे ही एक बच्चे के बारे में बत...</td>\n",
       "      <td>9</td>\n",
       "      <td>11</td>\n",
       "    </tr>\n",
       "    <tr>\n",
       "      <td>2</td>\n",
       "      <td>indic2012</td>\n",
       "      <td>&lt;start&gt; This percentage is even greater than t...</td>\n",
       "      <td>&lt;start&gt; यह प्रतिशत भारत में हिन्दुओं प्रतिशत स...</td>\n",
       "      <td>10</td>\n",
       "      <td>9</td>\n",
       "    </tr>\n",
       "    <tr>\n",
       "      <td>3</td>\n",
       "      <td>ted</td>\n",
       "      <td>&lt;start&gt; what we really mean is that they re ba...</td>\n",
       "      <td>&lt;start&gt; हम ये नहीं कहना चाहते कि वो ध्यान नहीं...</td>\n",
       "      <td>12</td>\n",
       "      <td>11</td>\n",
       "    </tr>\n",
       "    <tr>\n",
       "      <td>4</td>\n",
       "      <td>indic2012</td>\n",
       "      <td>&lt;start&gt; . The ending portion of these Vedas is...</td>\n",
       "      <td>&lt;start&gt; इन्हीं वेदों का अंतिम भाग उपनिषद कहलात...</td>\n",
       "      <td>9</td>\n",
       "      <td>8</td>\n",
       "    </tr>\n",
       "  </tbody>\n",
       "</table>\n",
       "</div>"
      ],
      "text/plain": [
       "      source                                   english_sentence  \\\n",
       "0        ted  <start> politicians do not have permission to ...   \n",
       "1        ted  <start> I d like to tell you about one such ch...   \n",
       "2  indic2012  <start> This percentage is even greater than t...   \n",
       "3        ted  <start> what we really mean is that they re ba...   \n",
       "4  indic2012  <start> . The ending portion of these Vedas is...   \n",
       "\n",
       "                                      hindi_sentence  token_size_en  \\\n",
       "0  <start> राजनीतिज्ञों के पास जो कार्य करना चाहि...             12   \n",
       "1  <start> मई आपको ऐसे ही एक बच्चे के बारे में बत...              9   \n",
       "2  <start> यह प्रतिशत भारत में हिन्दुओं प्रतिशत स...             10   \n",
       "3  <start> हम ये नहीं कहना चाहते कि वो ध्यान नहीं...             12   \n",
       "4  <start> इन्हीं वेदों का अंतिम भाग उपनिषद कहलात...              9   \n",
       "\n",
       "   token_size_hn  \n",
       "0             14  \n",
       "1             11  \n",
       "2              9  \n",
       "3             11  \n",
       "4              8  "
      ]
     },
     "execution_count": 20,
     "metadata": {},
     "output_type": "execute_result"
    }
   ],
   "source": [
    "data.head()"
   ]
  },
  {
   "cell_type": "code",
   "execution_count": 21,
   "metadata": {
    "colab": {},
    "colab_type": "code",
    "id": "EgY_SgYI5XJ-"
   },
   "outputs": [],
   "source": [
    "# 将data['english_sentence'].values里边的数据变为一个列表\n",
    "en = data['english_sentence'].values.tolist()\n",
    "hn = data['hindi_sentence'].values.tolist()"
   ]
  },
  {
   "cell_type": "code",
   "execution_count": 22,
   "metadata": {
    "colab": {
     "base_uri": "https://localhost:8080/",
     "height": 34
    },
    "colab_type": "code",
    "id": "8VGOULxc5XKB",
    "outputId": "3e87e9fe-63e5-4944-f7f2-bdcbc28c6b3e"
   },
   "outputs": [
    {
     "data": {
      "text/plain": [
       "(90799, 90799)"
      ]
     },
     "execution_count": 22,
     "metadata": {},
     "output_type": "execute_result"
    }
   ],
   "source": [
    "len(en),len(hn)"
   ]
  },
  {
   "cell_type": "code",
   "execution_count": 23,
   "metadata": {
    "colab": {
     "base_uri": "https://localhost:8080/",
     "height": 50
    },
    "colab_type": "code",
    "id": "KvXuUCTj5XKE",
    "outputId": "fea44299-2bb0-479e-8132-cc37c3a973db"
   },
   "outputs": [
    {
     "data": {
      "text/plain": [
       "('<start> They ve just won four government contracts to build off their ambulances , <end>',\n",
       " '<start> हाल ही में उन्हें सरकारी ठेका मिला है करीब सौ नई अम्बुलेन्स बनाने का , <end>')"
      ]
     },
     "execution_count": 23,
     "metadata": {},
     "output_type": "execute_result"
    }
   ],
   "source": [
    "en[-1],hn[-1]  # 查看两个数据的最后一个句子"
   ]
  },
  {
   "cell_type": "code",
   "execution_count": 24,
   "metadata": {
    "colab": {},
    "colab_type": "code",
    "id": "Lflreh3d5XKI"
   },
   "outputs": [],
   "source": [
    "def load_dataset(num_examples):\n",
    "    # 读数据，这里拿了少量的样本数量\n",
    "    # 这里的参数num_examples，是传入的样本个数\n",
    "    # creating cleaned input, output pairs\n",
    "    targ_language = data['hindi_sentence'].values.tolist()[:num_examples]\n",
    "    \n",
    "    inp_language = data['english_sentence'].values.tolist()[:num_examples]\n",
    "    \n",
    "    # 这里通过调用tokenize函数实现将选出的样本句子中的词汇转换为索引值\n",
    "    input_tensor, inp_language_tokenizer = tokenize(inp_language)\n",
    "    target_tensor, targ_language_tokenizer = tokenize(targ_language)\n",
    "\n",
    "    return input_tensor, target_tensor, inp_language_tokenizer, targ_language_tokenizer"
   ]
  },
  {
   "cell_type": "code",
   "execution_count": 25,
   "metadata": {
    "colab": {},
    "colab_type": "code",
    "id": "8DFty3355XKL"
   },
   "outputs": [],
   "source": [
    "input_tensor, target_tensor, inp_language, targ_language = load_dataset(350)\n",
    "# Calculate max_length of the target tensors\n",
    "max_length_targ, max_length_inp = max_length(target_tensor), max_length(input_tensor)"
   ]
  },
  {
   "cell_type": "code",
   "execution_count": 26,
   "metadata": {
    "colab": {
     "base_uri": "https://localhost:8080/",
     "height": 134
    },
    "colab_type": "code",
    "id": "HB67b9Bj5XKO",
    "outputId": "61c974fc-151a-40df-a262-554dae85d880"
   },
   "outputs": [
    {
     "name": "stdout",
     "output_type": "stream",
     "text": [
      "[[   1  362   55 ...    0    0    0]\n",
      " [   1   15  196 ...    0    0    0]\n",
      " [   1   13  198 ...    0    0    0]\n",
      " ...\n",
      " [   1   40   12 ...    0    0    0]\n",
      " [   1 1387  268 ...    0    0    0]\n",
      " [   1   13    9 ...    0    0    0]]\n"
     ]
    }
   ],
   "source": [
    "print(input_tensor)"
   ]
  },
  {
   "cell_type": "code",
   "execution_count": 27,
   "metadata": {
    "colab": {
     "base_uri": "https://localhost:8080/",
     "height": 70
    },
    "colab_type": "code",
    "id": "hVQwgq4u5XKR",
    "outputId": "908b2d13-c34b-4ec9-8e1d-64c05058c2bc"
   },
   "outputs": [
    {
     "name": "stdout",
     "output_type": "stream",
     "text": [
      "{1: '<start>', 2: '<end>', 3: 'के', 4: '.', 5: 'है', 6: 'में', 7: ',', 8: 'और', 9: 'का', 10: 'की', 11: 'को', 12: 'से', 13: 'हैं', 14: 'एक', 15: 'यह', 16: 'नहीं', 17: 'कि', 18: 'है।', 19: 'पर', 20: 'भी', 21: 'लिए', 22: 'हो', 23: 'कर', 24: 'इस', 25: 'ये', 26: 'तो', 27: 'था', 28: 'हैं।', 29: 'आप', 30: 'ने', 31: 'जो', 32: 'ही', 33: 'हम', 34: 'उनके', 35: 'करने', 36: 'रही', 37: 'कोई', 38: 'बहुत', 39: 'वह', 40: 'वे', 41: 'सकता', 42: 'या', 43: 'रहा', 44: 'उस', 45: 'मैं', 46: '|', 47: 'पहले', 48: 'गया', 49: 'जा', 50: 'लेकिन', 51: 'कुछ', 52: 'हुआ', 53: 'करना', 54: 'समय', 55: 'जाती', 56: 'न', 57: 'अपने', 58: 'कारण', 59: 'थे।', 60: 'करते', 61: 'मे', 62: 'भारत', 63: 'अधिक', 64: 'हुए', 65: 'तथा', 66: 'इन', 67: 'थी', 68: 'सकते', 69: 'किसी', 70: 'होने', 71: 'साथ', 72: 'दिया', 73: 'अपनी', 74: 'राज्य', 75: 'जाता', 76: 'उन्हें', 77: 'चाहिए', 78: 'बारे', 79: 'किया', 80: 'रहे', 81: '?', 82: 'तक', 83: 'इसके', 84: 'साल', 85: 'रूप', 86: 'बार', 87: 'थे', 88: 'कहा', 89: 'जैसे', 90: 'होती', 91: 'था।', 92: 'पास', 93: 'पूर्व', 94: 'होते', 95: 'सही', 96: '।', 97: 'वर्ष', 98: 'इसे', 99: 'धर्म', 100: 'बाद', 101: 'क्या', 102: 'कभी', 103: 'हूँ', 104: 'कम', 105: 'विश्व', 106: 'मुझे', 107: 'बात', 108: 'जब', 109: 'मैंने', 110: 'शताब्दी', 111: 'स्थान', 112: 'अगर', 113: 'क्षेत्र', 114: 'प्राप्त', 115: 'हिन्दी', 116: 'प्रतिशत', 117: 'चाहते', 118: 'वो', 119: 'भाग', 120: 'लोगों', 121: 'वाले', 122: 'नेपाल', 123: \"'\", 124: 'सब', 125: 'धीरे', 126: 'परिवार', 127: 'वाली', 128: 'आपके', 129: 'चाहता', 130: 'हमें', 131: 'होगा', 132: 'सबसे', 133: 'बनाने', 134: 'जानते', 135: 'भारतीय', 136: 'आ', 137: ':', 138: 'लोग', 139: 'यही', 140: 'प्राचीन', 141: 'अभी', 142: '-', 143: 'काम', 144: 'रहती', 145: 'बाहर', 146: 'ध्यान', 147: 'दे', 148: 'अंतिम', 149: 'प्रयोग', 150: 'काल', 151: 'वहाँ', 152: 'दो', 153: 'करके', 154: 'नृत्य', 155: 'इस्लाम', 156: 'दूसरा', 157: 'बड़ा', 158: 'नीचे', 159: 'बताया', 160: 'हमारी', 161: '”', 162: 'उन्होंने', 163: 'मेरा', 164: 'उन', 165: 'करीब', 166: 'मगर', 167: 'तब', 168: 'हमने', 169: 'मिलने', 170: 'स्वतंत्रता', 171: 'संस्कृत', 172: 'रंग', 173: 'जीवन', 174: 'इनमें', 175: 'प्रमुख', 176: 'शायद', 177: 'हों', 178: 'अन्य', 179: 'दर्शन', 180: 'ज्यादा', 181: 'जाते', 182: 'कई', 183: 'इससे', 184: 'तरह', 185: 'जाने', 186: 'होना', 187: 'हुई', 188: 'द्वारा', 189: 'थी।', 190: 'यहां', 191: 'रह', 192: 'चली', 193: 'गयी', 194: 'ऐतिहासिक', 195: 'करता', 196: 'ठीक', 197: 'कठिन', 198: 'इन्हें', 199: 'न्यायाधीश', 200: 'वाला', 201: 'कहते', 202: 'साहित्य', 203: 'संसार', 204: 'देते', 205: 'सरकार', 206: 'जिसका', 207: 'जहाँ', 208: 'इंजन', 209: 'उसका', 210: 'उसने', 211: '!', 212: 'कार्य', 213: 'आपको', 214: 'ऐसे', 215: 'बच्चे', 216: 'हिन्दुओं', 217: 'कहलाता', 218: 'इसमें', 219: 'तुमसे', 220: 'गुज़रे', 221: 'हालात', 222: 'कहने', 223: 'भावना', 224: 'आधार', 225: 'आधुनिक', 226: 'सेवा', 227: 'हे', 228: 'दुनिया', 229: '(', 230: ')', 231: 'आम', 232: 'देख', 233: 'ई', 234: 'जल', 235: 'पानी', 236: 'मुगल', 237: 'रहने', 238: 'अपेक्षाकृत', 239: 'बेहतर', 240: 'सडक', 241: 'कहानी', 242: 'सन्', 243: 'शुरू', 244: 'गई', 245: 'मतलब', 246: 'स्थिर', 247: 'बस', 248: 'वही', 249: 'जिन', 250: 'देवताओं', 251: 'बाहरी', 252: 'कड़ियाँ', 253: 'मुख्य', 254: 'सारे', 255: 'योगदान', 256: 'पूरे', 257: 'प्रति', 258: 'उनसे', 259: 'इच्छा', 260: 'अर्थ', 261: 'व्यक्ति', 262: 'अनुसार', 263: 'प्रभाव', 264: 'पुरानी', 265: 'भाषा', 266: 'होता', 267: 'है|', 268: 'अलग', 269: 'व्यवस्था', 270: 'बाँध', 271: 'दस', 272: 'उम्र', 273: 'बेचना', 274: 'उनका', 275: 'वालों', 276: 'दल', 277: 'फिर', 278: 'उसे', 279: 'दिया।', 280: 'उत्तरार्ध', 281: 'गया।', 282: 'महत्वपूर्ण', 283: 'उनमें', 284: 'आकर्षक', 285: 'बड़ी', 286: 'आकार', 287: 'हर', 288: 'रखना', 289: 'कारगर', 290: 'प्रवर्तक', 291: 'कहाँ', 292: 'मैथुन', 293: 'चलते', 294: 'इनके', 295: 'योजनाओं', 296: 'सामने', 297: 'रखने', 298: 'अब', 299: 'सार्वजनिक', 300: 'ऐसा', 301: 'प्रकार', 302: 'बदल', 303: 'रन', 304: 'बन', 305: 'दमयन्ती', 306: 'अथवा', 307: 'मुझसे', 308: 'नदी', 309: 'उनकी', 310: 'दूध', 311: 'लगाने', 312: 'करेंगे', 313: 'अत्यधिक', 314: 'शहरों', 315: 'पहला', 316: 'गये', 317: 'दिए', 318: 'गए', 319: 'गुण', 320: 'देखा', 321: 'पालक', 322: 'प्रोग्राम', 323: 'कैसे', 324: 'इसका', 325: 'स्थानों', 326: 'चल', 327: 'कला', 328: 'बिल्कुल', 329: 'उदयपुर', 330: 'राजधानी', 331: 'जरूरत', 332: 'कोशिश', 333: 'गिरता', 334: 'समझ', 335: 'लायक', 336: 'उपयोग', 337: 'जटिल', 338: 'सभी', 339: 'शहर', 340: 'दूसरे', 341: 'सत्र', 342: ';', 343: 'उसी', 344: 'लिये', 345: 'कहती', 346: 'मदद', 347: 'बना', 348: 'पुत्र', 349: 'आदि', 350: 'लेकर', 351: 'धार्मिक', 352: 'कनाडा', 353: 'मेरे', 354: 'रवाना', 355: 'विकास', 356: 'नाक', 357: 'राजा', 358: 'सभा', 359: 'उद्योग', 360: 'हिस्सा', 361: 'वर्ग', 362: 'प्रारम्भ', 363: 'अपेक्षा', 364: 'यदि', 365: 'उत्पादन', 366: 'वृद्धि', 367: 'करोड़', 368: 'सारी', 369: 'अंदर', 370: 'ले', 371: 'लिया', 372: 'बनाया', 373: 'नाम', 374: 'हमारे', 375: 'दिमाग', 376: 'चीज़', 377: 'भगवान', 378: 'कल', 379: 'जिसे', 380: 'विशाल', 381: 'कितने', 382: 'मत', 383: 'चरण', 384: 'गतिविधि', 385: 'दिखाई', 386: 'भक़्ति', 387: 'औपचारिक', 388: 'शिकायत', 389: 'कर्म', 390: 'प्रचार', 391: 'मंत्रियों', 392: 'यहाँ', 393: 'थोड़ी', 394: 'अग्रत्वचा', 395: 'ज़िन्दगी', 396: 'समान', 397: 'राजस्थान', 398: 'जानवर', 399: 'विभिन्न', 400: 'संघीय', 401: 'जिससे', 402: 'घृणा', 403: 'दैनिक', 404: '“मैं', 405: 'कान', 406: 'मेरी', 407: 'जानती', 408: 'भाप', 409: 'राजनीतिज्ञों', 410: 'अनुमति', 411: 'मई', 412: 'बताना', 413: 'चाहूंगी', 414: 'कहना', 415: 'पाते', 416: 'इन्हीं', 417: 'वेदों', 418: 'उपनिषद', 419: 'कौन', 420: 'गलत', 421: 'कृपया', 422: 'सुनिश्चित', 423: 'लें', 424: 'फॉर्म', 425: 'रहें', 426: 'श्रेणी:धर्मग्रन्थ', 427: 'समग्रतः', 428: 'भक्ति', 429: 'ओतप्रोत', 430: 'न्याय', 431: 'अविश्वसनीय', 432: 'मानकर', 433: 'बाकी', 434: 'पांच', 435: 'मुखबिरों', 436: 'मुकदमा', 437: 'चलाया', 438: 'हाल', 439: 'हस्पताल', 440: 'सामन्यतया', 441: 'आयुर्वेद', 442: 'प्राकृतिक', 443: 'चिकित्सा', 444: 'चिकीत्सा', 445: 'सरकारी', 446: 'विद्यमान', 447: 'लोकसभा', 448: 'कार्यावधि', 449: '5', 450: 'पर्ंतु', 451: 'भंग', 452: 'लाडड़ी', 453: 'लोकप्रिय', 454: 'स्त्री', 455: '(الإسلام)', 456: 'ईसाई', 457: 'अनुयाइयों', 458: 'बदला', 459: 'वित्तैइय', 460: 'संस्थाएं', 461: 'शेयरों', 462: 'सुजुकी', 463: 'फिलहाल', 464: '50', 465: 'शेयरधारक', 466: 'जनता', 467: 'बेच', 468: 'देंगी', 469: 'उत्पन्न', 470: 'झंडे', 471: 'खड़ा', 472: 'हिंदू', 473: 'मुसलमान', 474: 'बल्कि', 475: 'हिंदुस्तानी', 476: 'जैसा', 477: 'एल', 478: 'डी', 479: 'उठेगी।', 480: 'लाईट', 481: 'जलाने', 482: 'लाने', 483: 'मेन', 484: 'फारसी', 485: 'रहस्यवाद', 486: 'कालीन', 487: 'इस्लामी', 488: 'पाठ्य', 489: 'फिरदौस', 490: 'आदर्श', 491: 'पूर्णता', 492: 'बाग', 493: 'कल्पना', 494: 'जिंदा', 495: 'जूँ', 496: 'जीव', 497: 'सम्पर्क', 498: 'रहना', 499: 'आवश्यक', 500: 'तीसरी:', 501: 'फ़ैक्ट्री', 502: 'ग्रामीण', 503: 'चीन', 504: 'आर्थिक', 505: 'नवीनीकरण', 506: 'हुये', 507: 'सबक', 508: 'प्रगतिशील', 509: 'विचारों', 510: 'विधवा-विवाह', 511: 'कन्याओं', 512: 'विवाह', 513: 'योग्य', 514: 'आयु-सीमा', 515: 'बढ़ाने', 516: 'वकालत', 517: '1860', 518: '1908', 519: 'बीच', 520: '20', 521: 'अकाल', 522: 'वियतनाम', 523: 'योजना', 524: 'छोटे', 525: 'लगे।', 526: 'श्रेणी:सूचना', 527: 'प्रौद्योगिकी', 528: 'मानिए', 529: 'जयेंद्र', 530: 'सरस्वती', 531: 'अध्यात्म', 532: 'चीज', 533: 'मानवों', 534: 'साझे', 535: 'संसाधनों', 536: 'नष्ट', 537: 'आधारित', 538: 'रचना', 539: 'नाटक', 540: 'ख़त्म', 541: 'जाएगा', 542: 'आर्य', 543: 'मूर्ति', 544: 'मन्दिर', 545: 'बनाते', 546: 'छोटी', 547: 'तीन', 548: 'गुम्बद', 549: 'तराशे', 550: 'श्वेत', 551: 'संगमर्मर', 552: 'निर्मित', 553: 'महात्मा', 554: 'गांधी', 555: 'सरोजिनी', 556: 'नायडू', 557: 'जनवरी', 558: '2002', 559: 'मंदी', 560: 'सूत्र', 561: 'बाँटना', 562: '[अस्पष्ट]', 563: 'राष्ट्रों', 564: 'मान्यता', 565: 'परिवर्तन', 566: 'समस्या', 567: 'हल', 568: 'निकालने', 569: 'ज़िम्मा', 570: 'समुदाय', 571: 'डाल', 572: 'बुद्ध', 573: 'नाचघर', 574: '(1958)', 575: 'अल्पकाली', 576: 'उद्देश्य', 577: 'रेखांकित', 578: 'प्रबंध', 579: 'एवं', 580: 'उद्देश्यों', 581: 'नियमित', 582: 'उन्नति', 583: 'निरीक्षण', 584: 'करें', 585: 'बहुधा', 586: 'तीव्र', 587: 'सकारात्मक', 588: 'अर्थबोध', 589: 'आंका', 590: '१)', 591: 'पुस्तक', 592: '(वेद)', 593: 'कैरियर', 594: 'होटल', 595: 'सीखता', 596: 'क्रमादेशित', 597: 'आखो', 598: 'बनावट', 599: 'वित्त', 600: 'संसद', 601: 'नियंत्रण', 602: 'लगता', 603: 'बुद्धिमान', 604: 'मानेगा', 605: '२', 606: 'सूरसारावली', 607: 'सूखे', 608: 'धुंध', 609: 'फ़रक्का', 610: 'टिहरी', 611: 'भीमगोडा', 612: 'बाँध।', 613: 'मलेरिया', 614: 'मुकाबले।', 615: 'अंतरिक्ष', 616: 'प्रतिस्पर्धा', 617: 'ज़ोर', 618: 'ऐसी', 619: 'समस्याएँ', 620: 'जिनके', 621: 'जबरदस्ती', 622: 'अखबार', 623: 'भेज', 624: 'विरोध', 625: 'कम्यूनिस्ट', 626: 'पार्टी', 627: 'वामपंथी', 628: 'सहयोगी', 629: 'श्रेणी:संयुक्त', 630: 'अमेरिका', 631: 'roald', 632: 'dahl', 633: '“james', 634: 'and', 635: 'the', 636: 'giant', 637: 'peach', 638: 'राजसभा', 639: 'भगवान्', 640: 'श्रीकृष्ण', 641: 'माया', 642: 'परम', 643: 'दुर्धर्ष', 644: 'विश्वरूप', 645: 'कराकर', 646: 'सबको', 647: 'भयभीत', 648: '१४वीं', 649: 'देश', 650: 'एकीकृत', 651: 'अधीन', 652: 'जीवन-धारा', 653: 'ग्रन्थों', 654: 'पुराण', 655: 'भक्ति-ग्रंथों', 656: 'माने', 657: 'स्थायी', 658: 'तरंगित', 659: 'इमारतो', 660: 'पाँच', 661: 'बर्मा', 662: 'सीलोन', 663: 'अपना', 664: 'कब्जा', 665: 'बनाये', 666: 'विष्णुसहस्रनाम', 667: 'विष्णु', 668: '१०००', 669: 'नामों', 670: 'महिमा', 671: 'शांतिपर्व', 672: 'में।', 673: 'तरीका', 674: 'नीले', 675: 'मंद', 676: 'श्रेणी:धर्म', 677: 'इमारतों', 678: 'दिन', 679: 'उजाले', 680: 'प्रकाशित', 681: 'कब', 682: 'वेब्साइट।', 683: 'कामयाब', 684: 'निकलें', 685: 'सुप्रीम', 686: 'कोर्ट', 687: 'खुद', 688: 'बन्धन', 689: 'पे', 690: 'लगाये', 691: 'चिंपैंजी', 692: 'तीनों', 693: 'प्रस्तावों', 694: 'मामले', 695: 'मसलन', 696: 'कोका', 697: 'कोल', 698: 'कंपनी', 699: 'निर्गम', 700: 'लने', 701: 'छूट', 702: 'चाहती', 703: 'रॉयल', 704: 'चितवन', 705: 'राष्ट्रीय', 706: 'उद्यान', 707: 'यानी', 708: 'ह्क्का', 709: 'गुड़ेगुड़ने', 710: 'वालं', 711: 'बातचीत', 712: 'मुद्दे', 713: 'होंगे', 714: 'सामग्री', 715: 'स्थिति', 716: 'लेने', 717: 'गति', 718: 'नल', 719: 'अरण्यकपर्व', 720: 'प्रेमकथा।', 721: 'एबीसीएल', 722: 'बुरी', 723: 'असफल', 724: 'अमिताभ', 725: 'गहरे', 726: 'झटके', 727: 'लगे', 728: '28', 729: 'भेजें', 730: 'पहाड़ों', 731: 'ऊपर', 732: 'फेय्न्मन', 733: 'श्रेणी:आगरा', 734: 'नए-नए', 735: 'वस्त्र', 736: 'सिलवाते', 737: 'गुरु', 738: 'कंगन', 739: 'उठाया', 740: 'हाथ', 741: 'फिसलकर', 742: 'गिर', 743: 'पड़ा', 744: 'आलोचना', 745: 'बकरी', 746: 'विशेष', 747: 'गन्ध', 748: 'अनेक', 749: 'अरुचि', 750: 'हिन्दुस्तान', 751: 'सोशलिस्ट', 752: 'रिपब्लिकन', 753: 'एशोसिएशन', 754: 'स्थापक', 755: 'सदस्यों', 756: '1', 757: 'पीठे', 758: 'राज', 759: 'नैतिक', 760: 'दबाव', 761: 'जायेगी', 762: 'सृ्ष्टि', 763: 'अवशेषों', 764: 'माध्यम', 765: 'अनुमान', 766: 'प्रयास', 767: 'आरंभ', 768: 'स्पीकर', 769: 'प्रोटेम', 770: '[कार्यवाहक]', 771: 'सुधार', 772: 'प्रासंगिक', 773: 'ज़्यादा', 774: 'तोड-फोड़', 775: 'दिखती', 776: 'चहल-पहल', 777: 'कहां', 778: 'हैमलेट', 779: 'ऐक्ट', 780: 'तीसरा', 781: 'सीन:', 782: 'अमोनिया', 783: 'उड', 784: 'समकालीन', 785: 'आंकडें', 786: 'लेते', 787: 'वर्ल्ड', 788: 'गैज़ेटियर', 789: '२००८', 790: 'किये', 791: 'गणना', 792: 'कार्यक्रम', 793: 'मुंबई', 794: 'जनसंख्या', 795: '१३६६२८८५', 796: 'हमेशा', 797: 'विकल्प', 798: 'काफी', 799: 'हद', 800: 'निष्पक्षता', 801: 'भूमिका', 802: 'निभानी', 803: 'अध्यक्ष', 804: 'निभाता', 805: 'ग्रन्थसूची', 806: 'अवसर', 807: 'भाषण', 808: 'पृष्ठ', 809: '56', 810: 'देखें', 811: 'चुनाव', 812: 'चंद्रमा', 813: 'मिलना', 814: 'श्रेणी:हिन्दी', 815: 'मिशनरी', 816: 'आसान', 817: 'प्रेमी', 818: 'युगल;', 819: 'गुस्टाव', 820: 'लिम्ट', 821: '1914', 822: '26', 823: 'हफ्तों', 824: 'अकेले', 825: 'आरंभिक', 826: 'बीसवीं', 827: 'फिल्म', 828: 'प्रसारित', 829: 'हुयी', 830: 'लंबा-चौड़ा', 831: 'मुल्क', 832: 'सबके', 833: 'रहते', 834: 'हिंदुस्तान', 835: 'माता', 836: 'पिर', 837: 'अखिल', 838: 'संवर्ग', 839: 'दुनिउया', 840: 'लोकशाही', 841: 'केंद्र', 842: 'गलतियों', 843: 'सोचने', 844: 'बचने', 845: 'संस्कृत_ओसीआर', 846: 'रोमन', 847: 'आउटपुट', 848: 'देवनागरी', 849: 'बदलने', 850: 'कमाल', 851: 'लडकियों', 852: 'स्कूल', 853: 'भेजा', 854: 'क़्योंकि', 855: 'गुजरना', 856: 'पुरूषों', 857: 'संपर्क', 858: 'पहचान', 859: 'बदलते', 860: 'क्योंकि', 861: 'अजीब', 862: 'लगा', 863: 'आदान-प्रदान', 864: 'मुझ', 865: 'कह', 866: 'पहुँच', 867: 'रहा।', 868: 'आश्विन', 869: 'शुक्ल', 870: 'दशमी', 871: 'विजयादशमी', 872: 'त्यौहार', 873: 'मनाया', 874: 'अफगानिस्तान', 875: 'निकट', 876: 'अोर', 877: 'संकेत', 878: '63', 879: 'मेवाड़', 880: 'वर्तमान', 881: 'जिले', 882: 'प्रशासनिक', 883: 'मुख्यालय', 884: 'चिकित्सकीय', 885: 'परीक्षणों', 886: 'वीडियो', 887: 'रैंकिंग', 888: 'अवसादपूर्ण', 889: 'नाइजीरिया', 890: 'परिणाम', 891: 'हास्यकारक', 892: 'सम्भवतः', 893: 'तिब्बती-बर्माई', 894: 'मूल', 895: '२५००', 896: 'चुके', 897: 'डीलर', 898: 'सावधान', 899: 'रहिए', 900: 'कार', 901: 'इतिहास', 902: 'गुप्त', 903: 'आए', 904: 'लगाया', 905: 'गरीबी', 906: 'बेरोजगारी', 907: 'जन-स्वास्थ्य', 908: 'अशिक्षा/असाक्षरता', 909: 'आया', 910: 'धैर्यवान', 911: 'पूँजी', 912: 'भावात्मक', 913: 'महत्ता', 914: 'अमी', 915: 'तबर', 916: 'एकड', 917: 'आठवें', 918: 'जितने', 919: 'बडे', 920: 'खेत', 921: 'बनाया।', 922: 'छात्र', 923: 'पहली', 924: 'हस्त', 925: 'कौशल', 926: 'आश्र्वासन', 927: 'दें', 928: 'जायेगा', 929: 'पैरिस', 930: 'लन्दन', 931: 'न्यू', 932: 'योर्क', 933: 'बड़े', 934: 'आदमी', 935: 'आज', 936: 'लकड़ी', 937: 'जला', 938: 'आग', 939: 'स्वीकार', 940: 'नमूना', 941: 'ब्राउज़िंग', 942: 'ब्राउज़', 943: 'सिखाते', 944: 'पाया।', 945: 'खतरनाक', 946: 'अपर', 947: 'सहायक', 948: 'न्यायालय', 949: 'अतः', 950: 'परीक्षा', 951: 'द्रुपद', 952: 'राजप्रासाद', 953: 'बुलाया।', 954: 'तैयारी', 955: 'फैस्टिवल', 956: '(पाठ', 957: 'वाक)', 958: 'फ़ेस्टिवल', 959: 'पाठ-से-वार्ता', 960: '(डाउनलोड)', 961: 'प्राय', 962: 'अनाज', 963: 'देने', 964: 'घोड़े', 965: 'सूखी', 966: 'घास', 967: 'खिलायी', 968: 'महिला', 969: 'तैयार', 970: '“द', 971: 'अंकल', 972: 'फोन”', 973: 'बच्चन', 974: 'श्रेष्ठ', 975: 'कविताओं', 976: 'संकलन', 977: 'केन्द्रीय', 978: 'चर्च', 979: 'धर्मसंगठन', 980: 'पोप।', 981: 'पंछी', 982: 'उड़ान', 983: 'भरना', 984: 'मुजफ्फरपुर', 985: 'हनुमान', 986: 'अशोकवाटिका', 987: 'विध्वंस', 988: 'रावण', 989: 'अक्षय', 990: 'कुमार', 991: 'वध', 992: '2', 993: 'ट्रैफीक', 994: 'रुक', 995: 'जाये', 996: 'पार', 997: 'करीये', 998: 'आजुबाजु', 999: 'देखीये', 1000: 'सुनीये', 1001: 'कृष्ण', 1002: 'सान्याल', 1003: 'धारा', 1004: '121-ए', 1005: 'अंतर्गत', 1006: 'सपरिश्रम', 1007: 'कारावास', 1008: 'दंड', 1009: 'गांवों', 1010: 'प्रणाली', 1011: 'zसुविधाजनक', 1012: 'भत-से', 1013: 'तेजड़ियों', 1014: 'मुनाफे', 1015: 'आकांक्षी', 1016: 'बैंकरों', 1017: 'गारंटी', 1018: 'चेक', 1019: 'जमा', 1020: 'बेशक', 1021: 'अचंभित', 1022: 'धातुखंड', 1023: 'टकसाल', 1024: 'मोहर', 1025: 'उसकी', 1026: 'सिक़्के', 1027: 'स्वीकृति', 1028: 'केवल', 1029: 'काव्यग्रंथ', 1030: 'अनुपम', 1031: 'पौराणिक', 1032: 'दार्शनिक', 1033: 'ग्रंथ', 1034: 'रखें', 1035: 'मानकों', 1036: 'महत्व', 1037: 'शरियत', 1038: 'निति', 1039: 'नींव', 1040: 'न्यायशास्त्र', 1041: 'अध्य्यन', 1042: 'फिक़ह', 1043: 'माता-पिता', 1044: 'आये', 1045: 'पैरों', 1046: 'खड़े', 1047: 'करें।', 1048: 'दर्शनीय', 1049: 'स्थल', 1050: 'देरी', 1051: 'पाना', 1052: 'इसलिये', 1053: 'यूनाइटेड', 1054: 'किन्गडम्\\u200c', 1055: 'देशों', 1056: 'मुकाबले', 1057: 'तत्पश्चात', 1058: 'उठाकर', 1059: 'घर', 1060: 'रखा', 1061: 'इसी', 1062: 'पौधों', 1063: 'पृथक', 1064: 'होकर', 1065: 'बाह्य', 1066: 'भिन्न', 1067: 'आंखें', 1068: 'पीले', 1069: 'पनीले', 1070: 'स्राव', 1071: 'ढंप', 1072: 'विश्वशांति', 1073: 'उल्लेखनीय', 1074: 'बराक', 1075: 'ओबामा', 1076: '2009', 1077: 'नोबेल', 1078: 'शांति', 1079: 'पुरस्कार', 1080: 'चुना', 1081: 'अगला', 1082: 'मण्डप', 1083: 'दीवान-ए-खास', 1084: 'मुक्तहस्त', 1085: 'सुसज्जित', 1086: 'निजी', 1087: 'कक्ष', 1088: 'कबीर', 1089: 'राम', 1090: 'एकेश्वरवादी', 1091: 'एकसत्तावादी', 1092: 'खुदा', 1093: 'विपत्ति', 1094: 'आने', 1095: 'रास्ते', 1096: 'युद्ध', 1097: 'हजरत', 1098: 'मुहम्मद', 1099: 'सल्लल्लाहु', 1100: 'अलैहि', 1101: 'वसल्लम', 1102: 'ज़माने', 1103: 'दुश्मनी', 1104: 'कुल', 1105: 'क्षेत्रफल', 1106: '147181', 1107: 'किलोमीटर', 1108: 'नमूनों', 1109: 'अंतरजाल', 1110: '1985', 1111: 'इनका', 1112: '34', 1113: 'तमिळ', 1114: 'प्रेमचंद', 1115: 'युग', 1116: 'मजबूत', 1117: '(विक्षनरी)', 1118: 'रीवा', 1119: '१८९५', 1120: 'उच्च', 1121: 'शिक्षा', 1122: 'इंग्लैंड', 1123: 'गईं', 1124: 'पढ़ाई', 1125: 'साथ-साथ', 1126: 'कविताएँ', 1127: 'लिखती', 1128: 'रहीं।', 1129: 'नहर', 1130: 'जलापूर्ति', 1131: 'गंगा', 1132: 'अस्थायी', 1133: 'बॉंध', 1134: 'बनाकर', 1135: '\\u200eमक्की', 1136: 'मदनी', 1137: 'भाग।', 1138: 'निर्वाण', 1139: 'पथ', 1140: 'रेखाएं', 1141: 'दर्शाती', 1142: 'जियेंगे', 1143: 'अधिकाश', 1144: 'ऊँची', 1145: 'पर्वत', 1146: 'चोटियाँ', 1147: 'हिमालय', 1148: 'स्थित', 1149: 'नेवाडा', 1150: 'धन्यवाद।', 1151: 'इंगलिश', 1152: 'मूल-वक्ता', 1153: 'आवाजों', 1154: 'छोड़', 1155: 'सामान', 1156: 'परिणामस्वरूप', 1157: 'उन्नत', 1158: 'किस्मों', 1159: 'यद्यपि', 1160: 'भूमि', 1161: 'अगली', 1162: 'उपलब्धि', 1163: 'आधा', 1164: 'मनवाकर', 1165: 'पाकिस्तान', 1166: 'राजी', 1167: 'करवा', 1168: 'होड़', 1169: 'खरीद', 1170: 'पाने', 1171: 'मूल्य', 1172: 'उपलब्ध', 1173: 'कराएं', 1174: 'नेहरू', 1175: 'छोड़कर', 1176: 'राष्ट्र', 1177: 'नेता', 1178: 'मन', 1179: 'चिंता', 1180: 'पल', 1181: 'दिमागों', 1182: 'क्योकि', 1183: 'जानकारी', 1184: 'डीएनए', 1185: 'नाइकी', 1186: 'जोडी', 1187: 'जूते', 1188: 'श्रेणी:जीवनी', 1189: 'बैठे', 1190: 'तरफ', 1191: 'देखते', 1192: 'कहीं', 1193: 'देखने', 1194: 'इंतेज़ार', 1195: 'साफ', 1196: 'ताजे', 1197: 'सदैव', 1198: 'होनी', 1199: 'फायरफॉक्स', 1200: 'हेतु', 1201: 'वर्तनी', 1202: 'जाँचक', 1203: 'ऍडऑन', 1204: '(ठहाके)', 1205: 'उसके', 1206: 'अंश', 1207: 'लगान', 1208: 'करों', 1209: 'पुलिस', 1210: 'कर्तव्यों', 1211: 'अतिरिक्त', 1212: 'कोतवाल', 1213: 'न्यायिक', 1214: 'शक्तियां', 1215: 'थीं', 1216: 'परंतु', 1217: 'वास्तव', 1218: 'समाजवादी', 1219: 'अराजकतावादी', 1220: 'श्रमिक', 1221: 'संघवादी', 1222: 'मादक', 1223: 'पदार्थों', 1224: 'लत', 1225: 'अंग्रेज़ी', 1226: 'शब्दकोष', 1227: 'पी॰डी॰ऍफ़॰', 1228: 'प्रारूप', 1229: 'चार', 1230: 'किमी', 1231: 'परिक्रमा', 1232: 'मार्ग', 1233: 'तीन-चार', 1234: 'चक्कर', 1235: 'लगाती', 1236: 'जिसके', 1237: 'किनारे', 1238: '15', 1239: 'मूर्तियां', 1240: 'रखी', 1241: 'चक्की', 1242: 'घुमाऊं', 1243: 'छोटा', 1244: 'तेज़ी', 1245: 'घूमेगा।', 1246: 'असल', 1247: 'मैनें', 1248: 'ईरान', 1249: 'लौट', 1250: 'जापानी', 1251: 'अधिपत्य', 1252: 'अंग्रेजी', 1253: 'शासनकाल', 1254: 'पदाधिकारी', 1255: 'अंग्रेज', 1256: 'स्कौट', 1257: 'यकीन', 1258: 'करिए', 1259: 'सीखे', 1260: 'zहथियारों', 1261: 'स्थान-स्थान', 1262: 'किए', 1263: 'वेद', 1264: 'शुष्क', 1265: 'भाषा-शैली', 1266: 'लिखे', 1267: 'गोल्फ', 1268: 'कोर्स', 1269: 'हवाई', 1270: 'अड्डे', 1271: 'बने', 1272: 'मंदिर', 1273: 'निवास', 1274: 'माना', 1275: 'काकी', 1276: 'किंग', 1277: 'देखना', 1278: 'ढाका', 1279: 'मलमल', 1280: 'लगातार', 1281: 'शताब्दियों', 1282: 'भर', 1283: 'ईर्ष्या', 1284: 'बनी', 1285: 'व्यास', 1286: 'जी', 1287: 'पांचाल', 1288: 'द्रौपदी', 1289: 'स्वयंवर', 1290: 'होनेवाला', 1291: 'धर्मनिरपेक्ष', 1292: 'मानते', 1293: '“अगर', 1294: 'जरूरी', 1295: 'अमल', 1296: '२०', 1297: 'आध्यात्मिक', 1298: 'अनुभव', 1299: 'impass', 1300: 'अत्यन्त', 1301: 'विविधतापूर्ण', 1302: 'करूँगा', 1303: 'औद्योगिक', 1304: 'मशीन', 1305: 'समूहों', 1306: 'प्रगति', 1307: 'समीक्षा', 1308: 'दी', 1309: 'उत्सुक्तावश', 1310: 'डीज़ल', 1311: 'निश्चित', 1312: 'कृषि', 1313: 'परिवहन', 1314: 'वरदान', 1315: 'सिद्ध', 1316: 'प्रक्रिया', 1317: 'छह', 1318: 'प्रत्येक', 1319: 'अवस्था', 1320: 'साधक', 1321: 'मनस्थिति', 1322: 'द्योतक', 1323: 'प्रोस्टेट', 1324: 'ट्यूमर', 1325: 'लाल', 1326: '२००१', 1327: 'मनोहारी', 1328: 'साहित्यिक', 1329: 'शिव', 1330: 'अनन्य', 1331: 'शिकायतों', 1332: 'छ', 1333: 'महीने', 1334: 'सुलझाना', 1335: 'कायदे', 1336: 'संभाली', 1337: '|भाष्;', 1338: 'विलम', 1339: 'रिश्ते', 1340: 'नतीजा', 1341: 'निकलता', 1342: 'कॉम्प्लेक्स', 1343: 'घेरे', 1344: '300', 1345: 'मीटर', 1346: 'चारबाग', 1347: 'बाग।', 1348: '५वी', 1349: 'आकर', 1350: 'वैशाली', 1351: 'लिच्छवियो', 1352: 'स्थापना', 1353: 'पाइलट', 1354: 'सैनिकों', 1355: 'रेडियो', 1356: 'साहब', 1357: '१९४७', 1358: 'उपरांत', 1359: 'बॉम्बे', 1360: 'बना।', 1361: 'सोचा', 1362: 'तर्क', 1363: 'ब्राह्मण', 1364: 'टेस्ट', 1365: 'क्रिकेट', 1366: '१२०००', 1367: 'एकमात्र', 1368: 'खिलाड़ी', 1369: 'श्रेणियाँ', 1370: 'रंगत', 1371: 'व', 1372: 'ग्रेट', 1373: 'निकोबार', 1374: 'ड्रग्स', 1375: 'सेवन', 1376: '-से', 1377: 'लक्षण', 1378: 'लक्षणों', 1379: 'इसलिए', 1380: 'स्वभाविक', 1381: 'साधारण', 1382: 'जन', 1383: 'इस्तेमाल', 1384: 'पीली', 1385: 'मारने', 1386: 'किरणे', 1387: 'क्रिस', 1388: 'एंडर्सन:', 1389: 'प्रणव', 1390: '“लगता', 1391: '“कोई', 1392: 'दिक्कत', 1393: 'चिडिया', 1394: 'टकरा', 1395: 'है।”', 1396: 'कॉमिक', 1397: 'प्रसिद्ध', 1398: 'लाइब्रेरी', 1399: 'हीरो', 1400: 'बनाइये।', 1401: 'रहेगा।', 1402: 'कत्थक', 1403: '६-७वीं', 1404: 'उत्तर', 1405: 'ढ्श्श्', 1406: 'वेबसाइट', 1407: 'पता', 1408: 'ः', 1409: 'हततपः//द्धद्धद्ध', 1410: 'दss', 1411: 'gev', 1412: 'उक', 1413: 'नेतृत्व', 1414: 'वाल', 1415: 'ग', 1416: 'बंधन', 1417: 'बड़', 1418: 'जरूर', 1419: 'ड़ीपीसी', 1420: 'संयंत्र', 1421: 'बतौर', 1422: 'ईंधन', 1423: 'नाथा', 1424: 'करती', 1425: 'अवधि', 1426: 'मुर्गे', 1427: 'बदलकर', 1428: 'दोष', 1429: 'दूर', 1430: 'शिश्न', 1431: 'निचली', 1432: 'ओर', 1433: 'जुड़ी', 1434: 'बंध', 1435: '(फेरुनुलम)', 1436: 'रहूं', 1437: 'रंअं', 1438: 'खालिस्तान', 1439: 'जारी', 1440: 'रहेगा', 1441: 'चाय', 1442: 'पीने', 1443: 'प्रतीक्षा', 1444: 'करेंगे|', 1445: 'डेटा', 1446: 'दिखाने', 1447: 'नेत्रहीन', 1448: 'airpix', 1449: 'गाड़ी', 1450: 'चला', 1451: 'शब्द', 1452: 'आपकी', 1453: 'गहराई', 1454: 'निर्भर', 1455: 'ट्यूबरकुलोसिस', 1456: 'मौतों', 1457: 'पुरुषों', 1458: 'वर्चस्व', 1459: 'कमजोर', 1460: 'पक्ष', 1461: 'हिन्दू', 1462: 'परिपत्र', 1463: 'अवधारणा', 1464: 'ऊंचाई', 1465: 'प्रकाश', 1466: 'खींची', 1467: 'स्थितियाँ-', 1468: 'बारहवीं', 1469: 'पूर्वार्ध', 1470: 'कर्नाटक', 1471: 'जैन', 1472: 'वैष्णव', 1473: 'शैव', 1474: 'बौद्ध', 1475: 'धर्मो', 1476: 'प्रचलन', 1477: 'अब्राहम-पथ', 1478: 'भागों', 1479: 'पालन-पोषण', 1480: 'किया।', 1481: 'अंग्रेजों', 1482: 'पगडा', 1483: 'भारी', 1484: 'पडा', 1485: 'दोनो', 1486: 'फौजो', 1487: 'पिछे', 1488: 'हटना', 1489: 'पडा।', 1490: 'इच्छित', 1491: 'कर्मकाण्ड', 1492: 'पूजा', 1493: 'प्रसन्न', 1494: 'ज़रूरी', 1495: 'महादेवी', 1496: 'हज़ारी', 1497: 'प्रसाद', 1498: 'द्विवेदी', 1499: 'क्यों', 1500: 'श्री', 1501: 'रामचरित', 1502: 'मानस-लंका', 1503: 'काण्ड', 1504: 'लुप्त', 1505: 'गयी।', 1506: 'निर्माण', 1507: 'दिशा', 1508: 'कदम', 1509: 'मात्रा', 1510: 'पढ़', 1511: 'कुरान', 1512: 'विचार', 1513: '(उसके', 1514: 'पीछे', 1515: 'चलना)', 1516: '\\u200eतिलावत', 1517: 'अधिकार', 1518: 'विश्वव्यापी', 1519: 'मतदान', 1520: 'मिले', 1521: 'याद', 1522: 'वायु', 1523: 'प्रदुषण', 1524: 'स्त्रोत', 1525: 'घटक', 1526: 'सूचित', 1527: 'विश्वास', 1528: 'छुपी', 1529: 'संगिनी', 1530: '(शनिवार)', 1531: 'क्षेत्रॉ', 1532: 'प्रतिनिधित्व', 1533: 'मिलता', 1534: 'स्वरूप', 1535: 'गैर', 1536: 'सच', 1537: 'तर', 1538: 'विद्रोह', 1539: 'गुरुदेव', 1540: 'लापरवाही', 1541: 'भौंहें', 1542: 'सिकोड़ीं।', 1543: 'कीमतों', 1544: 'बहुलता', 1545: 'उपभोक़्ता', 1546: 'लाभ', 1547: 'साधन', 1548: 'ओरके', 1549: 'आपने', 1550: 'औद्योगीकरण', 1551: 'अभाव', 1552: 'परेशानी', 1553: 'ज्होल', 1554: 'ओड़ीसा', 1555: 'अतीत', 1556: 'रणनीति', 1557: 'यशभारत', 1558: 'मेराथन', 1559: 'दौड़ना', 1560: 'जिनका', 1561: 'पालन', 1562: 'सिर्फ़', 1563: 'मानवो', 1564: 'जीवंत', 1565: 'चित्रों', 1566: 'ज़रिये', 1567: 'दिखाया', 1568: 'मीरजापुर', 1569: 'पटना', 1570: 'भागलपुर', 1571: 'पाकुर', 1572: 'पहुँचती', 1573: 'शोर', 1574: 'प्रदूषण', 1575: 'गंभीर', 1576: 'आंतरिक', 1577: 'रोम', 1578: 'कोशिकाओं', 1579: 'चिरकालिक', 1580: 'क्षति', 1581: 'जिसने', 1582: 'बुनियादी', 1583: 'तौर', 1584: 'बढ़ा', 1585: 'हमे', 1586: 'काबुल', 1587: 'पतून', 1588: 'भल', 1589: 'इलकों', 1590: 'पकड़े', 1591: 'इरादे', 1592: 'माँ', 1593: 'आखिरकार', 1594: 'सस्ता', 1595: 'सक्षम', 1596: 'इसने', 1597: 'समाप्त', 1598: 'संदेशों', 1599: 'शुभारम्भ', 1600: 'आदम', 1601: 'सी', 1602: 'उपेक्षा', 1603: 'बहुमूल्य', 1604: 'खो', 1605: 'दिये', 1606: 'आशंका', 1607: 'वर्णन', 1608: 'हस्तक्षेप', 1609: 'अध्ययन', 1610: 'आशा', 1611: 'कर।', 1612: 'संयुक़्त', 1613: 'प्रांत', 1614: 'संबंधी', 1615: 'संकट', 1616: 'दक्षतापूर्वक', 1617: 'निपटाया', 1618: 'जागरण', 1619: 'सफलता', 1620: 'पत्र', 1621: 'जनोन्मुखी', 1622: 'तय', 1623: 'पाई', 1624: 'पुराने', 1625: 'बसेंगे', 1626: 'प्रणिता', 1627: 'मां', 1628: 'वेश्या', 1629: 'परमपावन', 1630: 'करमापा', 1631: 'व्याख्यान', 1632: 'ईर्ष्यावश', 1633: 'भरे', 1634: 'सुनीती', 1635: 'सहित', 1636: 'राज़्य', 1637: 'निकलवा', 1638: 'फिब्बि', 1639: 'मंच', 1640: 'अष्टांक', 1641: 'सॉफ़्टवेयर', 1642: 'प्रसार', 1643: 'अभियान', 1644: 'अंग', 1645: 'जेसा', 1646: 'वक्ताओं', 1647: 'पिछले', 1648: 'दिनों', 1649: 'दौरान', 1650: 'आयात', 1651: 'रूक', 1652: 'मांग', 1653: 'बढ़', 1654: 'साइकिल', 1655: 'वाल्व', 1656: 'ट्यूब', 1657: 'सिर्फ', 1658: 'सैंकड़ों', 1659: 'प्रेम', 1660: 'जताने', 1661: 'क्रिया', 1662: 'अक्सर', 1663: 'निभाई', 1664: 'ईमेल', 1665: 'इंस्टैंट', 1666: 'मैसेजिंग', 1667: 'साधनों', 1668: 'प्रयुक्त', 1669: 'पुश', 1670: 'तकनलाजी', 1671: 'उलट', 1672: 'युक्ति'}\n",
      "1\n"
     ]
    }
   ],
   "source": [
    "print(targ_language.index_word)\n",
    "print(targ_language.word_index['<start>'])"
   ]
  },
  {
   "cell_type": "code",
   "execution_count": 28,
   "metadata": {
    "colab": {
     "base_uri": "https://localhost:8080/",
     "height": 101
    },
    "colab_type": "code",
    "id": "w5ABabwx5XKU",
    "outputId": "229f9c6d-726a-4189-c435-fd5d04a77971"
   },
   "outputs": [
    {
     "name": "stdout",
     "output_type": "stream",
     "text": [
      "35 24\n",
      "350 [[  1 409   3  92  31 212  53  77   7  39  35  17 410  16   5   4   2   0\n",
      "    0   0   0   0   0   0]\n",
      " [  1 411 213 214  32  14 215   3  78   6 412 413   7   2   0   0   0   0\n",
      "    0   0   0   0   0   0]]\n"
     ]
    }
   ],
   "source": [
    "# 这里展示了，转化成索引的效果，后边不够长度的部分全部补0\n",
    "# 输入最大词数为35， 输出的最大词数为24，总的输入样本个数为350\n",
    "print(max_length_inp,max_length_targ)\n",
    "print(len(input_tensor),target_tensor[:2])"
   ]
  },
  {
   "cell_type": "code",
   "execution_count": 29,
   "metadata": {
    "colab": {
     "base_uri": "https://localhost:8080/",
     "height": 34
    },
    "colab_type": "code",
    "id": "jnbciEsh5XKW",
    "outputId": "1813796d-260d-4b03-bc2d-04912507abcf"
   },
   "outputs": [
    {
     "name": "stdout",
     "output_type": "stream",
     "text": [
      "280 280 70 70\n"
     ]
    }
   ],
   "source": [
    "# Creating training and validation sets using an 80-20 split\n",
    "# 这里进行拆分训练集测试集。之前课程中都已经拆好了，不用再做了\n",
    "input_tensor_train, input_tensor_val, target_tensor_train, target_tensor_val = train_test_split(input_tensor, \n",
    "                                                                                                target_tensor, test_size=0.2)\n",
    "\n",
    "# Show length\n",
    "print(len(input_tensor_train), len(target_tensor_train), len(input_tensor_val), \n",
    "      len(target_tensor_val))"
   ]
  },
  {
   "cell_type": "code",
   "execution_count": 30,
   "metadata": {
    "colab": {},
    "colab_type": "code",
    "id": "YjHhOTG-5XKa"
   },
   "outputs": [],
   "source": [
    "def convert(language, tensor):\n",
    "    for t in tensor:  # 遍历tensor中的索引值\n",
    "        if t != 0:\n",
    "            print(\"%d ----> %s\" % (t, language.index_word[t]))"
   ]
  },
  {
   "cell_type": "code",
   "execution_count": 31,
   "metadata": {
    "colab": {
     "base_uri": "https://localhost:8080/",
     "height": 588
    },
    "colab_type": "code",
    "id": "qMaNpZPb5XKd",
    "outputId": "68c1e9a2-7813-487f-cb0f-68f9aea9d4cd"
   },
   "outputs": [
    {
     "name": "stdout",
     "output_type": "stream",
     "text": [
      "Input Language; index to word mapping\n",
      "1 ----> <start>\n",
      "29 ----> with\n",
      "4 ----> the\n",
      "54 ----> same\n",
      "276 ----> strategy\n",
      "23 ----> as\n",
      "177 ----> down\n",
      "80 ----> here\n",
      "3 ----> .\n",
      "4 ----> the\n",
      "641 ----> improvement\n",
      "6 ----> of\n",
      "4 ----> the\n",
      "34 ----> world\n",
      "2 ----> <end>\n",
      "\n",
      "Target Language; index to word mapping\n",
      "1 ----> <start>\n",
      "105 ----> विश्व\n",
      "771 ----> सुधार\n",
      "313 ----> अत्यधिक\n",
      "772 ----> प्रासंगिक\n",
      "186 ----> होना\n",
      "77 ----> चाहिए\n",
      "7 ----> ,\n",
      "2 ----> <end>\n"
     ]
    }
   ],
   "source": [
    "print (\"Input Language; index to word mapping\")\n",
    "convert(inp_language, input_tensor_train[0])\n",
    "print ()\n",
    "print (\"Target Language; index to word mapping\")\n",
    "convert(targ_language, target_tensor_train[0])\n",
    "# 翻译的时候是两个词典，但是文本摘要的时候是可以将两个词典做成一个词典的"
   ]
  },
  {
   "cell_type": "code",
   "execution_count": 32,
   "metadata": {
    "colab": {},
    "colab_type": "code",
    "id": "OBIaO_LW5XKf"
   },
   "outputs": [],
   "source": [
    "BUFFER_SIZE = len(input_tensor_train)\n",
    "BATCH_SIZE = 64\n",
    "steps_per_epoch = len(input_tensor_train) // BATCH_SIZE\n",
    "embedding_dim = 256  # 词向量的维度\n",
    "units = 1024  # encoder/decoder里边的单元\n",
    "vocab_inp_size = len(inp_language.word_index) + 1  # 输入字典的大小\n",
    "vocab_tar_size = len(targ_language.word_index) + 1  # target字典的大小\n",
    "# vocab_inp_size: 输入语言词典的大小，也就是英文词典的大小\n",
    "# vocab_tar_size： 目标（标签）语言词典的大小，也就是印度语词典的大小"
   ]
  },
  {
   "cell_type": "code",
   "execution_count": 33,
   "metadata": {
    "colab": {
     "base_uri": "https://localhost:8080/",
     "height": 34
    },
    "colab_type": "code",
    "id": "vnGSdx8p5XKi",
    "outputId": "70d3b33e-2157-484d-ca6e-1433837d1c46"
   },
   "outputs": [
    {
     "name": "stdout",
     "output_type": "stream",
     "text": [
      "1400\n"
     ]
    }
   ],
   "source": [
    "print(vocab_inp_size)"
   ]
  },
  {
   "cell_type": "markdown",
   "metadata": {
    "colab_type": "text",
    "id": "IqmAAtJg5XKl"
   },
   "source": [
    "## 创建一个 tf.data 数据集"
   ]
  },
  {
   "cell_type": "code",
   "execution_count": 34,
   "metadata": {
    "colab": {},
    "colab_type": "code",
    "id": "ruUxc61E5XKm"
   },
   "outputs": [],
   "source": [
    "# 之前建立数据集的常规操作: .shuffe.batch....\n",
    "dataset = tf.data.Dataset.from_tensor_slices((input_tensor_train, \n",
    "                                              target_tensor_train)).shuffle(BUFFER_SIZE)\n",
    "dataset = dataset.batch(BATCH_SIZE, drop_remainder=True)"
   ]
  },
  {
   "cell_type": "code",
   "execution_count": 35,
   "metadata": {
    "colab": {
     "base_uri": "https://localhost:8080/",
     "height": 0
    },
    "colab_type": "code",
    "id": "0v2OEKGA5XKq",
    "outputId": "0ede2c8f-b21e-4701-c477-c942695c0da6"
   },
   "outputs": [
    {
     "data": {
      "text/plain": [
       "(TensorShape([64, 35]), TensorShape([64, 24]))"
      ]
     },
     "execution_count": 35,
     "metadata": {},
     "output_type": "execute_result"
    }
   ],
   "source": [
    "example_input_batch, example_target_batch = next(iter(dataset))\n",
    "example_input_batch.shape, example_target_batch.shape"
   ]
  },
  {
   "cell_type": "code",
   "execution_count": 36,
   "metadata": {
    "colab": {
     "base_uri": "https://localhost:8080/",
     "height": 0
    },
    "colab_type": "code",
    "id": "ymbNdaVL5XKt",
    "outputId": "b79f5d9a-dd78-4b8b-ad8e-a4301e255348"
   },
   "outputs": [
    {
     "name": "stdout",
     "output_type": "stream",
     "text": [
      "tf.Tensor(\n",
      "[[  1 117   9 ...   0   0   0]\n",
      " [  1  14  37 ...   0   0   0]\n",
      " [  1  44 347 ...   0   0   0]\n",
      " ...\n",
      " [  1   8 767 ...   0   0   0]\n",
      " [  1  14 300 ...   0   0   0]\n",
      " [  1  48  22 ...   0   0   0]], shape=(64, 35), dtype=int32)\n"
     ]
    }
   ],
   "source": [
    "print(example_input_batch)"
   ]
  },
  {
   "cell_type": "markdown",
   "metadata": {
    "colab_type": "text",
    "id": "vb37pTRN5XKw"
   },
   "source": [
    "## 编写编码器 （encoder） 和解码器 （decoder） 模型"
   ]
  },
  {
   "cell_type": "markdown",
   "metadata": {
    "colab_type": "text",
    "id": "5iCMba485XKx"
   },
   "source": [
    "实现一个基于注意力的编码器 - 解码器模型。下图显示了注意力机制为每个输入单词分配一个权重，然后解码器将这个权重用于预测句子中的下一个单词。下图和公式是 Luong 的论文中注意力机制的一个例子。\n",
    "\n",
    "![image.png](data:image/png;base64,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)\n",
    "\n",
    "\n",
    "输入经过编码器模型，编码器模型为我们提供形状为 (批大小(batch_size)，最大长度(一个句子的最大长度：max_len)，隐藏层大小) 的编码器输出和形状为 (批大小，隐藏层大小) 的编码器隐藏层状态。  \n",
    "\n",
    "下面是所实现的方程式：  \n",
    "$$\\alpha_{t s}=\\frac{\\exp \\left(\\operatorname{score}\\left(\\boldsymbol{h}_{t}, \\overline{\\boldsymbol{h}}_{s}\\right)\\right)}{\\sum_{s^{\\prime}=1}^{S} \\exp \\left(\\operatorname{score}\\left(\\boldsymbol{h}_{t}, \\overline{\\boldsymbol{h}}_{s^{\\prime}}\\right)\\right)}\\ \\ \\ \\ \\ \\ \\ \\ \\ [\\text { Attention weights }]$$  \n",
    "\n",
    "$$\\begin{aligned}\n",
    "c_{t} &=\\sum_{s} \\alpha_{t s} \\bar{h}_{s} & &[\\text { Context vector }] \\\\\n",
    "\\boldsymbol{a}_{t} &=f\\left(\\boldsymbol{c}_{t}, \\boldsymbol{h}_{t}\\right)=\\tanh \\left(\\boldsymbol{W}_{c}\\left[\\boldsymbol{c}_{t} ; \\boldsymbol{h}_{t}\\right]\\right) & &[\\text { Attention vector }]\n",
    "\\end{aligned}$$  \n",
    "\n",
    "$$\\operatorname{score}\\left(\\boldsymbol{h}_{t}, \\overline{\\boldsymbol{h}}_{s}\\right)=\\left\\{\\begin{array}{ll}\n",
    "\\boldsymbol{h}_{t}^{\\top} \\boldsymbol{W} \\overline{\\boldsymbol{h}}_{s} & [\\text { Luong's multiplicative style }] \\\\\n",
    "\\boldsymbol{v}_{a}^{\\top} \\tanh \\left(\\boldsymbol{W}_{1} \\boldsymbol{h}_{t}+\\boldsymbol{W}_{2} \\overline{\\boldsymbol{h}}_{s}\\right) & [\\text { Bahdanau's additive style }]\n",
    "\\end{array}\\right.$$  \n",
    "\n",
    "\n",
    "这里的编码器采用 Bahdanau 注意力。在用简化形式编写之前，让我们先决定符号：\n",
    "\n",
    "- FC = 完全连接（密集）层\n",
    "- EO = 编码器输出\n",
    "- H = 隐藏层状态\n",
    "- X = 解码器输入  \n",
    "\n",
    "以及伪代码：\n",
    "\n",
    "- score = FC(tanh(FC(EO) + FC(H)))\n",
    "- attention weights = softmax(score, axis = 1)。 Softmax 默认被应用于最后一个轴，但是这里我们想将它应用于 第一个轴, 因为分数 （score） 的形状是 (批大小，最大长度，隐藏层大小)。最大长度 （max_length） 是我们的输入的长度。因为我们想为每个输入分配一个权重，所以 softmax 应该用在这个轴上。\n",
    "- context vector = sum(attention weights * EO, axis = 1)。选择第一个轴的原因同上。\n",
    "- embedding output = 解码器输入 X 通过一个嵌入层。\n",
    "- merged vector = concat(embedding output, context vector)\n",
    "此合并后的向量随后被传送到 GRU\n"
   ]
  },
  {
   "cell_type": "markdown",
   "metadata": {
    "colab_type": "text",
    "id": "nHpdSriu5XKy"
   },
   "source": [
    "输入经过编码器模型，编码器模型为我们提供形状为 (批大小，最大长度，隐藏层大小) 的编码器输出和形状为 (批大小，隐藏层大小) 的编码器隐藏层状态。"
   ]
  },
  {
   "cell_type": "markdown",
   "metadata": {
    "colab_type": "text",
    "id": "8S2ReHNDyI66"
   },
   "source": [
    "### 测试理解交叉熵"
   ]
  },
  {
   "cell_type": "markdown",
   "metadata": {
    "colab_type": "text",
    "id": "gwkkzAZAyQWD"
   },
   "source": [
    "交叉熵的理解：\n",
    "这里的交叉熵的输入是这个样子的：\n",
    "下边loss里边，上边是真实的标签（处理成了onehot的形式），比如这里你输入的标签字典就三个词：我爱你，那么这里的[1., 0., 0.]代表的就是“我”；[0., 1., 0.]：“爱”； [0., 0., 1.]：“你” 下边就是通过神经网络之后经过softmax之后的输出结果，通过这两个部分来计算交叉熵"
   ]
  },
  {
   "cell_type": "code",
   "execution_count": 37,
   "metadata": {
    "colab": {
     "base_uri": "https://localhost:8080/",
     "height": 34
    },
    "colab_type": "code",
    "id": "QjwEip1dyOic",
    "outputId": "460fb793-3c82-4fff-bdce-e35f095cb550"
   },
   "outputs": [
    {
     "name": "stdout",
     "output_type": "stream",
     "text": [
      "Loss: 0.09458993\n"
     ]
    }
   ],
   "source": [
    "CCe_loss = tf.keras.losses.CategoricalCrossentropy()\n",
    "loss = CCe_loss([[1., 0., 0.], [0., 1., 0.], [0., 0., 1.]],\n",
    "       [[.9, .05, .05], [.05, .89, .06], [.05, .01, .94]])\n",
    "print('Loss:', loss.numpy())"
   ]
  },
  {
   "cell_type": "markdown",
   "metadata": {
    "colab_type": "text",
    "id": "8XNMnK7a1V9f"
   },
   "source": [
    "下边的这种交叉熵叫做稀疏矩阵的分类交叉熵 它的输入也是一个标签，但是它输入的标签和上边的不太一样[0, 1, 2],没有经过onehot处理，这个[0, 1, 2]就是你建立的vocab里边的index，这里只需要将这个index输入进来就ok了"
   ]
  },
  {
   "cell_type": "code",
   "execution_count": 38,
   "metadata": {
    "colab": {
     "base_uri": "https://localhost:8080/",
     "height": 34
    },
    "colab_type": "code",
    "id": "Lo_DtbyZ1IZ-",
    "outputId": "2ea0717a-2f5b-41c7-de51-c982894c5f31"
   },
   "outputs": [
    {
     "name": "stdout",
     "output_type": "stream",
     "text": [
      "Loss:  0.09458992\n"
     ]
    }
   ],
   "source": [
    "SCCe_loss = tf.keras.losses.SparseCategoricalCrossentropy()\n",
    "loss = SCCe_loss(\n",
    "  tf.convert_to_tensor([0, 1, 2]),\n",
    "  tf.convert_to_tensor([[.9, .05, .05], [.05, .89, .06], [.05, .01, .94]]))\n",
    "print('Loss: ', loss.numpy())  # Loss: 0.3239"
   ]
  },
  {
   "cell_type": "code",
   "execution_count": 39,
   "metadata": {
    "colab": {
     "base_uri": "https://localhost:8080/",
     "height": 1000
    },
    "colab_type": "code",
    "id": "a7BoAwO91mr3",
    "outputId": "e310d570-0ca7-4697-e9f6-1e967b1c1a5d",
    "scrolled": true
   },
   "outputs": [
    {
     "name": "stdout",
     "output_type": "stream",
     "text": [
      "Help on class SparseCategoricalCrossentropy in module tensorflow.python.keras.losses:\n",
      "\n",
      "class SparseCategoricalCrossentropy(LossFunctionWrapper)\n",
      " |  SparseCategoricalCrossentropy(from_logits=False, reduction='auto', name='sparse_categorical_crossentropy')\n",
      " |  \n",
      " |  Computes the crossentropy loss between the labels and predictions.\n",
      " |  \n",
      " |  Use this crossentropy loss function when there are two or more label classes.\n",
      " |  We expect labels to be provided as integers. If you want to provide labels\n",
      " |  using `one-hot` representation, please use `CategoricalCrossentropy` loss.\n",
      " |  There should be `# classes` floating point values per feature for `y_pred`\n",
      " |  and a single floating point value per feature for `y_true`.\n",
      " |  \n",
      " |  In the snippet below, there is a single floating point value per example for\n",
      " |  `y_true` and `# classes` floating pointing values per example for `y_pred`.\n",
      " |  The shape of `y_true` is `[batch_size]` and the shape of `y_pred` is\n",
      " |  `[batch_size, num_classes]`.\n",
      " |  \n",
      " |  Usage:\n",
      " |  \n",
      " |  ```python\n",
      " |  cce = tf.keras.losses.SparseCategoricalCrossentropy()\n",
      " |  loss = cce(\n",
      " |    tf.convert_to_tensor([0, 1, 2]),\n",
      " |    tf.convert_to_tensor([[.9, .05, .05], [.5, .89, .6], [.05, .01, .94]]))\n",
      " |  print('Loss: ', loss.numpy())  # Loss: 0.3239\n",
      " |  ```\n",
      " |  \n",
      " |  Usage with the `compile` API:\n",
      " |  \n",
      " |  ```python\n",
      " |  model = tf.keras.Model(inputs, outputs)\n",
      " |  model.compile('sgd', loss=tf.keras.losses.SparseCategoricalCrossentropy())\n",
      " |  ```\n",
      " |  \n",
      " |  Args:\n",
      " |    from_logits: Whether `y_pred` is expected to be a logits tensor. By default,\n",
      " |      we assume that `y_pred` encodes a probability distribution.\n",
      " |      Note: Using from_logits=True may be more numerically stable.\n",
      " |    reduction: (Optional) Type of `tf.keras.losses.Reduction` to apply to loss.\n",
      " |      Default value is `AUTO`. `AUTO` indicates that the reduction option will\n",
      " |      be determined by the usage context. For almost all cases this defaults to\n",
      " |      `SUM_OVER_BATCH_SIZE`.\n",
      " |      When used with `tf.distribute.Strategy`, outside of built-in training\n",
      " |      loops such as `tf.keras` `compile` and `fit`, using `AUTO` or\n",
      " |      `SUM_OVER_BATCH_SIZE` will raise an error. Please see\n",
      " |      https://www.tensorflow.org/tutorials/distribute/custom_training\n",
      " |      for more details on this.\n",
      " |    name: Optional name for the op.\n",
      " |  \n",
      " |  Method resolution order:\n",
      " |      SparseCategoricalCrossentropy\n",
      " |      LossFunctionWrapper\n",
      " |      Loss\n",
      " |      builtins.object\n",
      " |  \n",
      " |  Methods defined here:\n",
      " |  \n",
      " |  __init__(self, from_logits=False, reduction='auto', name='sparse_categorical_crossentropy')\n",
      " |      Initialize self.  See help(type(self)) for accurate signature.\n",
      " |  \n",
      " |  ----------------------------------------------------------------------\n",
      " |  Methods inherited from LossFunctionWrapper:\n",
      " |  \n",
      " |  call(self, y_true, y_pred)\n",
      " |      Invokes the `LossFunctionWrapper` instance.\n",
      " |      \n",
      " |      Args:\n",
      " |        y_true: Ground truth values.\n",
      " |        y_pred: The predicted values.\n",
      " |      \n",
      " |      Returns:\n",
      " |        Loss values per sample.\n",
      " |  \n",
      " |  get_config(self)\n",
      " |  \n",
      " |  ----------------------------------------------------------------------\n",
      " |  Methods inherited from Loss:\n",
      " |  \n",
      " |  __call__(self, y_true, y_pred, sample_weight=None)\n",
      " |      Invokes the `Loss` instance.\n",
      " |      \n",
      " |      Args:\n",
      " |        y_true: Ground truth values. shape = `[batch_size, d0, .. dN]`\n",
      " |        y_pred: The predicted values. shape = `[batch_size, d0, .. dN]`\n",
      " |        sample_weight: Optional `sample_weight` acts as a\n",
      " |          coefficient for the loss. If a scalar is provided, then the loss is\n",
      " |          simply scaled by the given value. If `sample_weight` is a tensor of size\n",
      " |          `[batch_size]`, then the total loss for each sample of the batch is\n",
      " |          rescaled by the corresponding element in the `sample_weight` vector. If\n",
      " |          the shape of `sample_weight` is `[batch_size, d0, .. dN-1]` (or can be\n",
      " |          broadcasted to this shape), then each loss element of `y_pred` is scaled\n",
      " |          by the corresponding value of `sample_weight`. (Note on`dN-1`: all loss\n",
      " |          functions reduce by 1 dimension, usually axis=-1.)\n",
      " |      \n",
      " |      Returns:\n",
      " |        Weighted loss float `Tensor`. If `reduction` is `NONE`, this has\n",
      " |          shape `[batch_size, d0, .. dN-1]`; otherwise, it is scalar. (Note `dN-1`\n",
      " |          because all loss functions reduce by 1 dimension, usually axis=-1.)\n",
      " |      \n",
      " |      Raises:\n",
      " |        ValueError: If the shape of `sample_weight` is invalid.\n",
      " |  \n",
      " |  ----------------------------------------------------------------------\n",
      " |  Class methods inherited from Loss:\n",
      " |  \n",
      " |  from_config(config) from builtins.type\n",
      " |      Instantiates a `Loss` from its config (output of `get_config()`).\n",
      " |      \n",
      " |      Args:\n",
      " |          config: Output of `get_config()`.\n",
      " |      \n",
      " |      Returns:\n",
      " |          A `Loss` instance.\n",
      " |  \n",
      " |  ----------------------------------------------------------------------\n",
      " |  Data descriptors inherited from Loss:\n",
      " |  \n",
      " |  __dict__\n",
      " |      dictionary for instance variables (if defined)\n",
      " |  \n",
      " |  __weakref__\n",
      " |      list of weak references to the object (if defined)\n",
      "\n"
     ]
    }
   ],
   "source": [
    "help(tf.keras.losses.SparseCategoricalCrossentropy)"
   ]
  },
  {
   "cell_type": "markdown",
   "metadata": {
    "colab_type": "text",
    "id": "yYQ5838P4Dr8"
   },
   "source": [
    "### 测试理解Loss损失函数"
   ]
  },
  {
   "cell_type": "markdown",
   "metadata": {
    "colab_type": "text",
    "id": "eZOcwLxU4Mv0"
   },
   "source": [
    "#### Loss函数"
   ]
  },
  {
   "cell_type": "code",
   "execution_count": 40,
   "metadata": {
    "colab": {},
    "colab_type": "code",
    "id": "MUnZfyEW1uAs"
   },
   "outputs": [],
   "source": [
    "# loss调用api\n",
    "loss_object = tf.keras.losses.SparseCategoricalCrossentropy(from_logits=True, reduction='none')"
   ]
  },
  {
   "cell_type": "code",
   "execution_count": 41,
   "metadata": {
    "colab": {
     "base_uri": "https://localhost:8080/",
     "height": 0
    },
    "colab_type": "code",
    "id": "HFPNVkGV16LL",
    "outputId": "b3207cce-c227-4286-ae58-941245454b65"
   },
   "outputs": [
    {
     "name": "stdout",
     "output_type": "stream",
     "text": [
      "real_label: [1, 0, 0]\n",
      "result: [ True False False]\n",
      "reverse_result: [False  True  True]\n",
      "reverse_result_cast: [0. 1. 1.]\n"
     ]
    },
    {
     "data": {
      "text/plain": [
       "2.0"
      ]
     },
     "execution_count": 41,
     "metadata": {},
     "output_type": "execute_result"
    }
   ],
   "source": [
    "real_label = [1, 0, 0]\n",
    "print('real_label: {}'.format(real_label))\n",
    "result = tf.math.equal(real_label, 1)  # 这个逻辑下是统计为1的个数\n",
    "print('result: {}'.format(result))\n",
    "reverse_result = tf.math.logical_not(result)  # 这里进行了一个逻辑求反，是为了统计为0的个数 这里为什么要进行反转之后再求1的个数呢？\n",
    "print('reverse_result: {}'.format(reverse_result))\n",
    "reverse_result_cast = tf.cast(reverse_result, dtype=tf.float32)\n",
    "print('reverse_result_cast: {}'.format(reverse_result_cast))\n",
    "tf.reduce_sum(reverse_result_cast, axis=-1).numpy()"
   ]
  },
  {
   "cell_type": "markdown",
   "metadata": {
    "colab_type": "text",
    "id": "JyI-dbsmxyEx"
   },
   "source": [
    "### 测试理解Encoder"
   ]
  },
  {
   "cell_type": "code",
   "execution_count": 42,
   "metadata": {
    "colab": {},
    "colab_type": "code",
    "id": "JzGkxd_D5XKz"
   },
   "outputs": [],
   "source": [
    "\n",
    "inputs_ceshi = np.random.random([32, 10, 8]).astype(np.float32)\n",
    "# 一个batch是32， 一共10个batch， 每个单词的词向量维度为8\n",
    "# print(inputs)\n",
    "gru_ceshi = tf.keras.layers.GRU(4)\n",
    "# 这里默认不返回整个序列的输出，所以这里只返回一个batch的输出\n",
    "output_ceshi = gru_ceshi(inputs_ceshi)\n",
    "# print(output)\n",
    "gru_ceshi = tf.keras.layers.GRU(4, return_sequences=True, return_state=True, recurrent_initializer='glorot_uniform')\n",
    "# 这里设置返回整个序列的输出，所以就是返回了10个batch的输出\n",
    "# 最终状态的输出也返回了\n",
    "whole_sequence_output, final_state = gru_ceshi(inputs_ceshi)\n",
    "# print(whole_sequence_output)"
   ]
  },
  {
   "cell_type": "markdown",
   "metadata": {
    "colab_type": "text",
    "id": "tKi5MOd1x5x9"
   },
   "source": [
    "### 正式的Encoder-Attention-Decoder模型搭建"
   ]
  },
  {
   "cell_type": "code",
   "execution_count": 43,
   "metadata": {
    "colab": {},
    "colab_type": "code",
    "id": "KmHWaXew5XK2"
   },
   "outputs": [],
   "source": [
    "class Encoder(tf.keras.Model):\n",
    "    def __init__(self, vocab_size, embedding_dim, enc_units, batch_sz):\n",
    "        super(Encoder, self).__init__()\n",
    "        self.batch_sz = batch_sz\n",
    "        self.enc_units = enc_units\n",
    "        self.embedding = tf.keras.layers.Embedding(vocab_size, embedding_dim)\n",
    "        # 将整数索引转化为固定大小的向量  [[4], [20]] -> [[0.25, 0.1], [0.6, -0.2]]\n",
    "        # vocab_size: 词汇量，即词表中词的数量\n",
    "        # embedding_dim: 每一个词转换为一个多少维的向量\n",
    "        self.gru = tf.keras.layers.GRU(self.enc_units,\n",
    "                                      return_sequences=True,\n",
    "                                      return_state=True,\n",
    "                                      recurrent_initializer='glorot_uniform')\n",
    "        # self.enc_units: 经过GRU层后输出的维度，也就是单元数 \n",
    "        # recurrent_initializer： 初始化权重矩阵\n",
    "        # return_sequences: 布尔类型. 是否返回最后的输出\n",
    "        # return_state：布尔类型，是否返回输出之外的最后一个状态。\n",
    "    \n",
    "    def call(self, x, hidden):\n",
    "        # 通过embedding获得要输入的词向量\n",
    "        x = self.embedding(x)\n",
    "        # print(x)  # 这里的x:一个batch是64个句子，每个句子35个词，每个词对应的词向量的维度为256\n",
    "        # 将词向量输入GRU模型中\n",
    "        output, state = self.gru(x, initial_state = hidden)\n",
    "        \n",
    "        return output, state\n",
    "        # 这里的output应该就是整个序列的输出，这里的state就是最后一组返回的状态\n",
    "    \n",
    "    def initialize_hidden_state(self):\n",
    "        return tf.zeros((self.batch_sz, self.enc_units))\n",
    "        "
   ]
  },
  {
   "cell_type": "code",
   "execution_count": 44,
   "metadata": {
    "colab": {
     "base_uri": "https://localhost:8080/",
     "height": 790
    },
    "colab_type": "code",
    "id": "HznIxofJ5XK5",
    "outputId": "fb0da145-e274-4442-ee48-4cbe12758587"
   },
   "outputs": [
    {
     "name": "stdout",
     "output_type": "stream",
     "text": [
      "Encoder output: (batch size, sequence length, units) (35, 1024)\n",
      "Encoder Hidden state: (batch size, units) (1024,)\n",
      "Encoder output: (batch size, sequence length, units) [[ 1.14320926e-02  3.64579051e-03 -1.48135063e-03 ... -1.98979815e-03\n",
      "  -3.97684889e-05  3.68722505e-03]\n",
      " [ 1.38189299e-02  2.60969903e-03 -4.12977859e-03 ... -3.34479799e-03\n",
      "   1.23476912e-03  9.54707060e-03]\n",
      " [ 7.28885271e-03  1.12190854e-03 -5.17193321e-03 ... -4.95964382e-03\n",
      "  -1.74117880e-03  1.22380396e-02]\n",
      " ...\n",
      " [-1.00526046e-02  9.78574529e-03 -4.37933253e-03 ...  7.64986407e-03\n",
      "  -1.18955392e-02  1.31883575e-02]\n",
      " [-1.00528635e-02  9.78619512e-03 -4.37912252e-03 ...  7.64943659e-03\n",
      "  -1.18952999e-02  1.31881479e-02]\n",
      " [-1.00530172e-02  9.78650898e-03 -4.37900005e-03 ...  7.64915906e-03\n",
      "  -1.18951611e-02  1.31879942e-02]]\n",
      "Encoder Hidden state: (batch size, units) [-0.01005302  0.00978651 -0.004379   ...  0.00764916 -0.01189516\n",
      "  0.01318799]\n",
      "Encoder output shape: (batch size, sequence length, units) (64, 35, 1024)\n",
      "Encoder Hidden state shape: (batch size, units) (64, 1024)\n",
      "tf.Tensor(\n",
      "[0.00978651 0.00978421 0.0097854  0.00978709 0.00978697 0.00978659\n",
      " 0.00978172 0.009787   0.00978292 0.00977785 0.00977565 0.00978203\n",
      " 0.0097864  0.00978687 0.00978709 0.00978694 0.00978662 0.00978707\n",
      " 0.00978708 0.00978707 0.00978484 0.00977273 0.00978555 0.00978695\n",
      " 0.00978448 0.009787   0.00978229 0.00981182 0.00978104 0.00977713\n",
      " 0.00978046 0.00978465 0.00977764 0.00978664 0.00978673 0.00978493\n",
      " 0.00978679 0.00978701 0.00978648 0.00978708 0.00978695 0.00978691\n",
      " 0.00977852 0.00978174 0.0097864  0.00978522 0.00978696 0.0097864\n",
      " 0.00978548 0.00978707 0.00978532 0.00978516 0.00978696 0.00978308\n",
      " 0.00978679 0.00978281 0.00978535 0.00978701 0.00978681 0.00978671\n",
      " 0.00978679 0.00978602 0.00977642 0.00978301], shape=(64,), dtype=float32)\n",
      "tf.Tensor(\n",
      "[-0.00633031 -0.00633148 -0.00633101 -0.00632987 -0.00632997 -0.00633045\n",
      " -0.00633047 -0.00632995 -0.00633078 -0.00633223 -0.00632929 -0.00633162\n",
      " -0.00633017 -0.00632997 -0.00632988 -0.00633004 -0.00633013 -0.00632991\n",
      " -0.0063299  -0.00632991 -0.00633061 -0.00630818 -0.00633175 -0.00633006\n",
      " -0.00633176 -0.00632997 -0.00632811 -0.00627096 -0.00633049 -0.00633264\n",
      " -0.00628263 -0.00633058 -0.00633145 -0.00633015 -0.00633024 -0.00633124\n",
      " -0.00633012 -0.00633004 -0.00633038 -0.00632987 -0.00632998 -0.00633018\n",
      " -0.00633074 -0.00633152 -0.00633033 -0.00633181 -0.00632998 -0.00633032\n",
      " -0.0063313  -0.00632993 -0.00633114 -0.00633092 -0.00633    -0.00633031\n",
      " -0.0063301  -0.00633054 -0.00633115 -0.00633006 -0.00633007 -0.00633016\n",
      " -0.0063304  -0.00633048 -0.00633052 -0.00633165], shape=(64,), dtype=float32)\n",
      "tf.Tensor(\n",
      "[-0.01003641  0.00977565 -0.00437188 ...  0.00766754 -0.01192466\n",
      "  0.01319101], shape=(1024,), dtype=float32)\n"
     ]
    }
   ],
   "source": [
    "# 这一个单元格的代码，主要是为了实验上边的Decoder机制，实际上不需要这一步的实例化和输出测试,统一在下边的attention和decoder中调用即可\n",
    "encoder = Encoder(vocab_inp_size, embedding_dim, units, BATCH_SIZE)\n",
    "\n",
    "# 样本输入  也就是开始往模型里边输入数据\n",
    "sample_hidden = encoder.initialize_hidden_state()\n",
    "# print(sample_hidden[[0]])  # 可以看出，中间隐藏层权重矩阵的维度为1024\n",
    "sample_output, sample_hidden = encoder(example_input_batch, sample_hidden)\n",
    "print ('Encoder output: (batch size, sequence length, units) {}'.format(sample_output[0].shape))\n",
    "print ('Encoder Hidden state: (batch size, units) {}'.format(sample_hidden[0].shape))\n",
    "print ('Encoder output: (batch size, sequence length, units) {}'.format(sample_output[0]))\n",
    "print ('Encoder Hidden state: (batch size, units) {}'.format(sample_hidden[0]))\n",
    "print ('Encoder output shape: (batch size, sequence length, units) {}'.format(sample_output.shape))\n",
    "print ('Encoder Hidden state shape: (batch size, units) {}'.format(sample_hidden.shape))\n",
    "print(sample_hidden[:, 1])\n",
    "print(sample_hidden[:, 10])\n",
    "print(sample_hidden[10])"
   ]
  },
  {
   "cell_type": "code",
   "execution_count": 45,
   "metadata": {
    "colab": {},
    "colab_type": "code",
    "id": "FcGBwdsH5XK8"
   },
   "outputs": [],
   "source": [
    "# 加下来就是将上边Encoder的输出：sample_output（encoder层）  sample_hidden(隐藏层的输出)输入到注意力层\n",
    "class BahdanauAttention(tf.keras.layers.Layer):\n",
    "    def __init__(self, units):  # 这里设置注意力层的输出单元为units\n",
    "        super(BahdanauAttention, self).__init__()\n",
    "        print(units)\n",
    "        # 经过Dense层实现1024 -> 10\n",
    "        self.W1 = tf.keras.layers.Dense(units)\n",
    "        # 这里的Dense层不是第一层，所以不用设置输入的大小，只需要指定输出的维度即可，和之前一样的\n",
    "        self.W2 = tf.keras.layers.Dense(units)\n",
    "        self.v = tf.keras.layers.Dense(1)  # 这里最后得到的分数是一个值，所以要设置输出为1\n",
    "\n",
    "    def call(self, query, values):\n",
    "        # query：sample_hidden: hidden_state [64, 1024]  \n",
    "        # values：sample_output：encoder_output [64, 35, 1024] \n",
    "        # 隐藏层的形状 == （批大小，隐藏层大小）\n",
    "        # hidden_with_time_axis 的形状 == （批大小，1，隐藏层大小）\n",
    "        # 由于二者之间维度不同，无法进行加法运算，这样做是为了执行加法以计算分数 1本来就可以省略，\n",
    "        # 对整体没有影响\n",
    "        \n",
    "        hidden_with_time_axis = tf.expand_dims(query, 1)\n",
    "        print(hidden_with_time_axis[0])\n",
    "        print(hidden_with_time_axis)\n",
    "\n",
    "        # 分数的形状 == （批大小，最大长度，1）  64个句子，每个句子35个词，每个词打一个分\n",
    "        # 我们在最后一个轴上得到 1， 因为我们把分数应用于 self.V\n",
    "        # 在应用 self.V 之前，张量的形状是（批大小，最大长度，单位）\n",
    "        score = self.v(tf.nn.tanh(self.W1(values) + self.W2(hidden_with_time_axis)))\n",
    "        print ('score: (batch size, max_len, units) {}'.format(score.shape))\n",
    "\n",
    "        # 在35个词的维度上进行softmax\n",
    "        attention_weights = tf.nn.softmax(score, axis=1)\n",
    "        # 35个词，每个词一个softmax输出,一般的和为1\n",
    "        print ('attention_weights[1].shape: (max_len, 1) {}'.format(attention_weights[1].shape))\n",
    "        print ('attention_weights[1]: (max_len, 1) {}'.format(attention_weights[1]))\n",
    "        print ('attention_weights.shape: (batch, max_len, 1) {}'.format(attention_weights.shape))\n",
    "\n",
    "\n",
    "        context_vector = attention_weights * values\n",
    "        print ('context_vector: (batch size, max_len, units) {}'.format(context_vector.shape))\n",
    "        context_vector = tf.reduce_sum(context_vector, axis=1)\n",
    "        # 将35个词的注意力合并\n",
    "        print ('context_vector.shape: (batch size, max_len, units) {}'.format(context_vector.shape))\n",
    "\n",
    "        return context_vector, attention_weights"
   ]
  },
  {
   "cell_type": "code",
   "execution_count": 46,
   "metadata": {
    "colab": {
     "base_uri": "https://localhost:8080/",
     "height": 1000
    },
    "colab_type": "code",
    "id": "687OIj_6_kIq",
    "outputId": "eb4a23e5-12f9-47e3-8c63-d095a77a20b5"
   },
   "outputs": [
    {
     "name": "stdout",
     "output_type": "stream",
     "text": [
      "10\n",
      "tf.Tensor(\n",
      "[[-0.01005302  0.00978651 -0.004379   ...  0.00764916 -0.01189516\n",
      "   0.01318799]], shape=(1, 1024), dtype=float32)\n",
      "tf.Tensor(\n",
      "[[[-0.01005302  0.00978651 -0.004379   ...  0.00764916 -0.01189516\n",
      "    0.01318799]]\n",
      "\n",
      " [[-0.01005013  0.00978421 -0.0043808  ...  0.00765091 -0.0118956\n",
      "    0.01318917]]\n",
      "\n",
      " [[-0.01005252  0.0097854  -0.00438018 ...  0.00765046 -0.01189633\n",
      "    0.01318885]]\n",
      "\n",
      " ...\n",
      "\n",
      " [[-0.01005261  0.00978602 -0.00437932 ...  0.00764951 -0.01189532\n",
      "    0.01318797]]\n",
      "\n",
      " [[-0.01004676  0.00977642 -0.00438568 ...  0.00765844 -0.01190272\n",
      "    0.01318966]]\n",
      "\n",
      " [[-0.01004963  0.00978301 -0.00438089 ...  0.00765314 -0.01189686\n",
      "    0.01318908]]], shape=(64, 1, 1024), dtype=float32)\n",
      "score: (batch size, max_len, units) (64, 35, 1)\n",
      "attention_weights[1].shape: (max_len, 1) (35, 1)\n",
      "attention_weights[1]: (max_len, 1) [[0.02960717]\n",
      " [0.02960318]\n",
      " [0.02937504]\n",
      " [0.02918899]\n",
      " [0.02939977]\n",
      " [0.02972297]\n",
      " [0.02983296]\n",
      " [0.02944723]\n",
      " [0.02958043]\n",
      " [0.02932335]\n",
      " [0.02960354]\n",
      " [0.029502  ]\n",
      " [0.02927084]\n",
      " [0.02902734]\n",
      " [0.02905127]\n",
      " [0.02855237]\n",
      " [0.02824654]\n",
      " [0.028066  ]\n",
      " [0.02796262]\n",
      " [0.02790503]\n",
      " [0.02787388]\n",
      " [0.02785765]\n",
      " [0.02784964]\n",
      " [0.02784605]\n",
      " [0.02784474]\n",
      " [0.02784454]\n",
      " [0.0278448 ]\n",
      " [0.02784523]\n",
      " [0.02784565]\n",
      " [0.02784602]\n",
      " [0.02784631]\n",
      " [0.02784652]\n",
      " [0.02784668]\n",
      " [0.02784679]\n",
      " [0.02784687]]\n",
      "attention_weights.shape: (batch, max_len, 1) (64, 35, 1)\n",
      "context_vector: (batch size, max_len, units) (64, 35, 1024)\n",
      "context_vector.shape: (batch size, max_len, units) (64, 1024)\n"
     ]
    }
   ],
   "source": [
    "# 这一个单元格的代码，主要是为了实验上边的attention机制，实际上不需要这一步的实例化和输出测试，统一在下边decoder中调用即可\n",
    "attention_layer = BahdanauAttention(10)  # 这里为什么传入的是10，是为了实验一下吗？\n",
    "# 这里就是调用call方法，就是将参数传给call方法\n",
    "attention_result, attention_weights = attention_layer(sample_hidden, sample_output)"
   ]
  },
  {
   "cell_type": "code",
   "execution_count": 47,
   "metadata": {
    "colab": {},
    "colab_type": "code",
    "id": "iSzpvKEd_lt5"
   },
   "outputs": [],
   "source": [
    "class Decoder(tf.keras.Model):\n",
    "  def __init__(self, vocab_size, embedding_dim, dec_units, batch_sz):\n",
    "    super(Decoder, self).__init__()\n",
    "    self.batch_sz = batch_sz\n",
    "    self.dec_units = dec_units\n",
    "    # 这里在Decoder里边也有一个embedding，主要是因为在decoder里也有自己的输入，用翻译模型来说的话\n",
    "    # 它的输入就是另一种语言（也可以理解为target）\n",
    "    self.embedding = tf.keras.layers.Embedding(vocab_size, embedding_dim)\n",
    "    self.gru = tf.keras.layers.GRU(self.dec_units,\n",
    "                                   return_sequences=True,\n",
    "                                   return_state=True,\n",
    "                                   recurrent_initializer='glorot_uniform')\n",
    "    self.fc = tf.keras.layers.Dense(vocab_size)\n",
    "\n",
    "    # 用于注意力\n",
    "    self.attention = BahdanauAttention(self.dec_units)\n",
    "  def call(self, x, hidden, enc_output):\n",
    "    # 编码器输出（enc_output）的形状 == [batch_size, max_len, 隐藏层大小（hidden）]\n",
    "    # 这里的hidden就相当于上边的query，enc_output就相当于上边的values\n",
    "    context_vector, attention_weights = self.attention(hidden, enc_output)\n",
    "\n",
    "    # x 在通过嵌入层后的形状 == [batch_size, 1, embedding_dim]\n",
    "    x = self.embedding(x)\n",
    "\n",
    "    # x 在拼接（concatenation）后的形状 == [batch_size, 1, embedding_dim+隐藏层大小]\n",
    "    # 上边attention输出的context_vector的形状 == (batch_size, units) (64, 1024)\n",
    "    x = tf.concat([tf.expand_dims(context_vector, 1), x], axis=-1)\n",
    "\n",
    "    # 将合并后的向量传送到GRU\n",
    "    output, state = self.gru(x)\n",
    "\n",
    "    # 输出的形状 == [batch_size * 1, 隐藏层大小]\n",
    "    output = tf.reshape(output, (-1, output.shape[2]))\n",
    "\n",
    "    # 输出的形状 == [batch_size, vocab]\n",
    "    x = self.fc(output)\n",
    "    return x, state, attention_weights"
   ]
  },
  {
   "cell_type": "code",
   "execution_count": 48,
   "metadata": {
    "colab": {
     "base_uri": "https://localhost:8080/",
     "height": 1000
    },
    "colab_type": "code",
    "id": "Rauc8Z3iRHFL",
    "outputId": "64935a11-f9a4-4131-db2a-93277b098bfa"
   },
   "outputs": [
    {
     "name": "stdout",
     "output_type": "stream",
     "text": [
      "1024\n",
      "tf.Tensor(\n",
      "[[-0.01005302  0.00978651 -0.004379   ...  0.00764916 -0.01189516\n",
      "   0.01318799]], shape=(1, 1024), dtype=float32)\n",
      "tf.Tensor(\n",
      "[[[-0.01005302  0.00978651 -0.004379   ...  0.00764916 -0.01189516\n",
      "    0.01318799]]\n",
      "\n",
      " [[-0.01005013  0.00978421 -0.0043808  ...  0.00765091 -0.0118956\n",
      "    0.01318917]]\n",
      "\n",
      " [[-0.01005252  0.0097854  -0.00438018 ...  0.00765046 -0.01189633\n",
      "    0.01318885]]\n",
      "\n",
      " ...\n",
      "\n",
      " [[-0.01005261  0.00978602 -0.00437932 ...  0.00764951 -0.01189532\n",
      "    0.01318797]]\n",
      "\n",
      " [[-0.01004676  0.00977642 -0.00438568 ...  0.00765844 -0.01190272\n",
      "    0.01318966]]\n",
      "\n",
      " [[-0.01004963  0.00978301 -0.00438089 ...  0.00765314 -0.01189686\n",
      "    0.01318908]]], shape=(64, 1, 1024), dtype=float32)\n",
      "score: (batch size, max_len, units) (64, 35, 1)\n",
      "attention_weights[1].shape: (max_len, 1) (35, 1)\n",
      "attention_weights[1]: (max_len, 1) [[0.02871028]\n",
      " [0.02867554]\n",
      " [0.02868919]\n",
      " [0.02861742]\n",
      " [0.02892226]\n",
      " [0.02871381]\n",
      " [0.0288014 ]\n",
      " [0.02880396]\n",
      " [0.02898647]\n",
      " [0.02868596]\n",
      " [0.02881853]\n",
      " [0.02876858]\n",
      " [0.02827798]\n",
      " [0.02872036]\n",
      " [0.02908276]\n",
      " [0.02866837]\n",
      " [0.02847638]\n",
      " [0.02840269]\n",
      " [0.02838413]\n",
      " [0.02838757]\n",
      " [0.02839754]\n",
      " [0.02840769]\n",
      " [0.02841596]\n",
      " [0.02842209]\n",
      " [0.02842639]\n",
      " [0.02842934]\n",
      " [0.02843134]\n",
      " [0.0284327 ]\n",
      " [0.02843361]\n",
      " [0.02843423]\n",
      " [0.02843466]\n",
      " [0.02843495]\n",
      " [0.02843515]\n",
      " [0.02843529]\n",
      " [0.02843538]]\n",
      "attention_weights.shape: (batch, max_len, 1) (64, 35, 1)\n",
      "context_vector: (batch size, max_len, units) (64, 35, 1024)\n",
      "context_vector.shape: (batch size, max_len, units) (64, 1024)\n",
      "Decoder output shape: (batch_size, vocab_size) (64, 1673)\n"
     ]
    }
   ],
   "source": [
    "decoder = Decoder(vocab_tar_size, embedding_dim, units, BATCH_SIZE)\n",
    "# sample_decoder_output, _, _ = decoder(tf.random.uniform((64, 1)), sample_hidden, sample_output)\n",
    "sample_decoder_output, _, _ = decoder(tf.random.uniform((64, 1)),\n",
    "                                      sample_hidden, sample_output)\n",
    "\n",
    "print('Decoder output shape: (batch_size, vocab_size) {}'.format(sample_decoder_output.shape))"
   ]
  },
  {
   "cell_type": "markdown",
   "metadata": {
    "colab_type": "text",
    "id": "tybhyJPCkVnN"
   },
   "source": [
    "到这里整个seq2seq模型就全部建立完成，和以前的流程相同，建完模型之后进行训练和测试，在训练过程中进行计算损失，优化参数。"
   ]
  },
  {
   "cell_type": "markdown",
   "metadata": {
    "colab_type": "text",
    "id": "ZiqWHoExxFm3"
   },
   "source": [
    "## 定义优化器和损失函数"
   ]
  },
  {
   "cell_type": "markdown",
   "metadata": {},
   "source": [
    "具体的分析：\n",
    "```\n",
    "optimizer = tf.keras.optimizers.Adam()\n",
    "loss_object = tf.keras.losses.SparseCategoricalCrossentropy(from_logits=True, reduction='none')\n",
    "\n",
    "pad_index=vocab['<PAD>']\n",
    "\n",
    "def loss_function(real, pred):\n",
    "    # 因为在原来的句子里，处理的时候，对于长度不都的句子都填充了<PAD>\n",
    "    # tf.math.equal(real, pad_index)这里是看在真实值里边有多少个和pad_index(<PAD>)相等的值\n",
    "    # 加上tf.math.logical_not之后就是找的是在真实值里边不等于pad_index的值有哪些\n",
    "    # 如这样的形式[1, 2, 3, 4]  [2]  ->  [False, True, False, False]\n",
    "    mask = tf.math.logical_not(tf.math.equal(real, pad_index))\n",
    "    # 如果矩阵里边没有填充<PAD>而是直接填充的0的话，这里的pad_index就直接写0即可\n",
    "    \n",
    "    # 这里计算loss的时候是将所有词的loss都计算出来\n",
    "    loss_ = loss_object(real, pred)\n",
    "    \n",
    "    # 再往下计算的时候就只是拿没有填充的那些真实的词进行计算\n",
    "    mask = tf.cast(mask, dtype=loss_.dtype)\n",
    "    loss_ *= mask\n",
    "    # 这里乘以的mask就是前边求出的mask，全部是False（0）和True（1），从而实现只对真实的非填充的值做计算\n",
    "    # 这里的目的就是防止填充的这些值影响权重的优化更新\n",
    "    \n",
    "    # 在这一部分有很大的DIY的空间，很多的地方都可以自己去尝试一下\n",
    "    return tf.reduce_mean(loss_)\n",
    "```"
   ]
  },
  {
   "cell_type": "code",
   "execution_count": 49,
   "metadata": {
    "colab": {},
    "colab_type": "code",
    "id": "D6T6LuVTxJcH"
   },
   "outputs": [],
   "source": [
    "optimizer = tf.keras.optimizers.Adam()\n",
    "loss_object = tf.keras.losses.SparseCategoricalCrossentropy(\n",
    "    from_logits=True, reduction='none')\n",
    "\n",
    "def loss_function(real, pred):\n",
    "    \n",
    "    # 断logit为1和0的数量   涉及mask的时候通常都是0/1的问题，这里主要是在Report里边有的词扣掉了，是空的，要把它找出来\n",
    "    # 句子长度不够的地方填充为0(<PAD>)，这里先找出这些填充的地方。\n",
    "    # 然后反向找到是真实值的地方（不是句子不够长填充的地方），计算预测优化计算\n",
    "    mask = tf.math.logical_not(tf.math.equal(real, 0))\n",
    "    loss_ = loss_object(real, pred)\n",
    "\n",
    "    mask = tf.cast(mask, dtype=loss_.dtype)\n",
    "    loss_ *= mask\n",
    "\n",
    "    return tf.reduce_mean(loss_)\n"
   ]
  },
  {
   "cell_type": "markdown",
   "metadata": {
    "colab_type": "text",
    "id": "v94NSH8J6XXZ"
   },
   "source": [
    "## 检查点（基于对象保存）"
   ]
  },
  {
   "cell_type": "code",
   "execution_count": 50,
   "metadata": {
    "colab": {},
    "colab_type": "code",
    "id": "lvNk4FKH6VrZ"
   },
   "outputs": [],
   "source": [
    "checkpoint_dir = './training_checkpoints'\n",
    "checkpoint_prefix = os.path.join(checkpoint_dir, \"ckpt\")\n",
    "checkpoint = tf.train.Checkpoint(optimizer=optimizer,\n",
    "                                 encoder=encoder,\n",
    "                                 decoder=decoder)\n"
   ]
  },
  {
   "cell_type": "markdown",
   "metadata": {
    "colab_type": "text",
    "id": "iD6Ey1zx6mdl"
   },
   "source": [
    "## 训练\n",
    "\n",
    "1. 将 *输入* 传送至 *编码器*，编码器返回 *编码器输出* 和 *编码器隐藏层状态*。\n",
    "2. 将编码器输出、编码器隐藏层状态和解码器输入（即 *开始标记*：< START >）传送至解码器。\n",
    "3. 解码器返回 *预测* 和 *解码器隐藏层状态*。\n",
    "4. 解码器隐藏层状态被传送回模型，预测被用于计算损失。\n",
    "5. 使用 *教师强制 （teacher forcing）* 决定解码器的下一个输入。\n",
    "6. *教师强制* 是将 *目标词* 作为 *下一个输入* 传送至解码器的技术。\n",
    "7. 最后一步是计算梯度，并将其应用于优化器和反向传播。\n"
   ]
  },
  {
   "cell_type": "code",
   "execution_count": 51,
   "metadata": {
    "colab": {},
    "colab_type": "code",
    "id": "OxDbSVSQ6hBU"
   },
   "outputs": [],
   "source": [
    "@tf.function  # tensorflow的新的功能，加一个装饰器，下边的编程方式就完全是Python的编程方式\n",
    "def train_step(inp, targ, enc_hidden):\n",
    "  # 这里的参数是input, target, 编码器隐藏层状态\n",
    "  # 初始化Loss，一开始没有就算的时候，Loss就是0， 要进行初始化\n",
    "  loss = 0\n",
    "\n",
    "  with tf.GradientTape() as tape:\n",
    "\n",
    "    # 这个环境下的好处是，每一步都可以拿到对应该步的梯度值，也就是求导值\n",
    "    # 这里的encoder是上边实例化好的encoder，也就是定义好了，这里再传进去参数就是定义的类中的执行部分了，也就是call部分，对应的也要传进该部分的参数\n",
    "    # 这里传进去的enc_hidden是初始化的编码器的隐藏层的状态\n",
    "    enc_output, enc_hidden = encoder(inp, enc_hidden)\n",
    "    # 这里就实现了往Encoder层中输入数据，得到返回的数据： \n",
    "    # enc_output: (batch size, sequence length, units) (64, 35, 1024)\n",
    "    # enc_hidden state: (batch size, units) (64, 1024)\n",
    "\n",
    "    # 得到Encoder的输出之后就可以输入进Decoder进行处理了，至于Attention部分，是在Decoder中调用\n",
    "\n",
    "    dec_hidden = enc_hidden\n",
    "    # 这里Decoder（解码）层的隐藏状态的初始状态就是Encoder（编码）层输出的隐藏状态\n",
    "    # Decoder的层的输入对应的是这三个部分：Encoder（编码器）输出；编码器隐藏层状态；解码器的输入（即开始的标记:<START>）编码器每个输入句子中最前边的的符号\n",
    "    # 这里传入一个字典target_language: targ_lang ，调用一个查索引的函数：word_index().\n",
    "    # 这里要乘以一个BATCH_SIZE，因为一次传进去的是一个batch_size\n",
    "    # 这里的1就是增加维度的方向，也就是在哪一个维度上进行增加\n",
    "    # 这里输入的内容就是在原来的字典中找到<start>这个输入，查到它对应的索引，找到对应的词向量，这个矩阵的长度肯定是batch_size的长度\n",
    "    # 加入说词向量的维度为256，那么这里的输入的维度很可能是[64, 256],并且这64个句子的第一个词都是<start>,所以这个矩阵的每一行都是相同的。\n",
    "    # 运行的时候打印一下，具体的看看 ????\n",
    "    # targ_language.word_index:{'<start>': 1, '<end>': 2, 'के': 3, '.': 4, 'है': 5, 'में': 6, ',': 7, 'और': 8, 'का': 9, 'की': 10'\n",
    "    # targ_language.word_index['<start>']：1  查出对应的索引\n",
    "    dec_input = tf.expand_dims([targ_language.word_index['<start>']] * BATCH_SIZE, 1)\n",
    "    # 增维的作用是为了进行下一步的计算，不增维会报错，具体运行的时候打印一下看看\n",
    "\n",
    "    # 这里拿到Decoder层的输入之后，接下来就是直接循环的一个一个的进行计算，循环的长度就是你真正目标的长度，进行一个单词一个单词的预测\n",
    "\n",
    "    # 教师强制 - 将目标词作为下一个输入\n",
    "    for t in range(1, targ.shape[1]):\n",
    "      # 由于：targ = dec_hidden = enc_hidden: (64, 1024),所以这里循环一个batch的大小，也就是64\n",
    "      # 将编码器输出 （enc_output） 传送至解码器\n",
    "      predictions, dec_hidden, _ = decoder(dec_input, dec_hidden, enc_output)\n",
    "\n",
    "      # 前边已经初始化loss了，这里直接调用loss函数，循环求出预测每个值的loss，累加loss的结果即可\n",
    "      # loss函数的输入参数real和prediction，上边传进来的targ,是训练集中的真实标签，是一串词\n",
    "      # targ: (64, 1024)  targ[:, t]: 每一个单元对应着一组64维的数据（64个句子中每个句子一个词，一共64个词的值），共1024个单元\n",
    "      loss += loss_function(targ[:, t], predictions)\n",
    "\n",
    "      # using teacher forcing  缺点：泛化能力差，可以查论文，看提升的方法。\n",
    "      # 这里的input在第一个循环的时候用的是<start>,第二个循环开始用的就是targ,真实的训练结果\n",
    "      # 也就是说，在预测第二个的时候不是将第一个预测结果传给第二个，而是将第一个的真实值传给了第二个，因为第一个的预测结果可能是错的，会影响第二个的预测，\n",
    "      # 这就是teacher forcing就是老师在教你\n",
    "      # 这里为什么要增加维度，是因为每次都要将上一个预测值的真实值传进来吗\n",
    "      dec_input = tf.expand_dims(targ[:, t], 1)\n",
    "      # 到这里基本上就是整个训练的过程\n",
    "\n",
    "  \n",
    "  batch_loss = (loss / int(targ.shape[1]))\n",
    "  variables = encoder.trainable_variables + decoder.trainable_variables\n",
    "  gradients = tape.gradient(loss, variables)\n",
    "  optimizer.apply_gradients(zip(gradients, variables))\n",
    "\n",
    "  return batch_loss\n"
   ]
  },
  {
   "cell_type": "code",
   "execution_count": 52,
   "metadata": {
    "colab": {
     "base_uri": "https://localhost:8080/",
     "height": 1000
    },
    "colab_type": "code",
    "id": "Tp3gKjw3Q99s",
    "outputId": "156d8529-03c7-4eb9-d2ac-18fa5d2b60c1"
   },
   "outputs": [
    {
     "name": "stdout",
     "output_type": "stream",
     "text": [
      "Tensor(\"decoder/bahdanau_attention_1/strided_slice:0\", shape=(1, 1024), dtype=float32)\n",
      "Tensor(\"decoder/bahdanau_attention_1/ExpandDims:0\", shape=(64, 1, 1024), dtype=float32)\n",
      "score: (batch size, max_len, units) (64, 35, 1)\n",
      "attention_weights[1].shape: (max_len, 1) (35, 1)\n",
      "attention_weights[1]: (max_len, 1) Tensor(\"decoder/bahdanau_attention_1/strided_slice_2:0\", shape=(35, 1), dtype=float32)\n",
      "attention_weights.shape: (batch, max_len, 1) (64, 35, 1)\n",
      "context_vector: (batch size, max_len, units) (64, 35, 1024)\n",
      "context_vector.shape: (batch size, max_len, units) (64, 1024)\n",
      "Tensor(\"decoder_1/bahdanau_attention_1/strided_slice:0\", shape=(1, 1024), dtype=float32)\n",
      "Tensor(\"decoder_1/bahdanau_attention_1/ExpandDims:0\", shape=(64, 1, 1024), dtype=float32)\n",
      "score: (batch size, max_len, units) (64, 35, 1)\n",
      "attention_weights[1].shape: (max_len, 1) (35, 1)\n",
      "attention_weights[1]: (max_len, 1) Tensor(\"decoder_1/bahdanau_attention_1/strided_slice_2:0\", shape=(35, 1), dtype=float32)\n",
      "attention_weights.shape: (batch, max_len, 1) (64, 35, 1)\n",
      "context_vector: (batch size, max_len, units) (64, 35, 1024)\n",
      "context_vector.shape: (batch size, max_len, units) (64, 1024)\n",
      "Tensor(\"decoder_2/bahdanau_attention_1/strided_slice:0\", shape=(1, 1024), dtype=float32)\n",
      "Tensor(\"decoder_2/bahdanau_attention_1/ExpandDims:0\", shape=(64, 1, 1024), dtype=float32)\n",
      "score: (batch size, max_len, units) (64, 35, 1)\n",
      "attention_weights[1].shape: (max_len, 1) (35, 1)\n",
      "attention_weights[1]: (max_len, 1) Tensor(\"decoder_2/bahdanau_attention_1/strided_slice_2:0\", shape=(35, 1), dtype=float32)\n",
      "attention_weights.shape: (batch, max_len, 1) (64, 35, 1)\n",
      "context_vector: (batch size, max_len, units) (64, 35, 1024)\n",
      "context_vector.shape: (batch size, max_len, units) (64, 1024)\n",
      "Tensor(\"decoder_3/bahdanau_attention_1/strided_slice:0\", shape=(1, 1024), dtype=float32)\n",
      "Tensor(\"decoder_3/bahdanau_attention_1/ExpandDims:0\", shape=(64, 1, 1024), dtype=float32)\n",
      "score: (batch size, max_len, units) (64, 35, 1)\n",
      "attention_weights[1].shape: (max_len, 1) (35, 1)\n",
      "attention_weights[1]: (max_len, 1) Tensor(\"decoder_3/bahdanau_attention_1/strided_slice_2:0\", shape=(35, 1), dtype=float32)\n",
      "attention_weights.shape: (batch, max_len, 1) (64, 35, 1)\n",
      "context_vector: (batch size, max_len, units) (64, 35, 1024)\n",
      "context_vector.shape: (batch size, max_len, units) (64, 1024)\n",
      "Tensor(\"decoder_4/bahdanau_attention_1/strided_slice:0\", shape=(1, 1024), dtype=float32)\n",
      "Tensor(\"decoder_4/bahdanau_attention_1/ExpandDims:0\", shape=(64, 1, 1024), dtype=float32)\n",
      "score: (batch size, max_len, units) (64, 35, 1)\n",
      "attention_weights[1].shape: (max_len, 1) (35, 1)\n",
      "attention_weights[1]: (max_len, 1) Tensor(\"decoder_4/bahdanau_attention_1/strided_slice_2:0\", shape=(35, 1), dtype=float32)\n",
      "attention_weights.shape: (batch, max_len, 1) (64, 35, 1)\n",
      "context_vector: (batch size, max_len, units) (64, 35, 1024)\n",
      "context_vector.shape: (batch size, max_len, units) (64, 1024)\n",
      "Tensor(\"decoder_5/bahdanau_attention_1/strided_slice:0\", shape=(1, 1024), dtype=float32)\n",
      "Tensor(\"decoder_5/bahdanau_attention_1/ExpandDims:0\", shape=(64, 1, 1024), dtype=float32)\n",
      "score: (batch size, max_len, units) (64, 35, 1)\n",
      "attention_weights[1].shape: (max_len, 1) (35, 1)\n",
      "attention_weights[1]: (max_len, 1) Tensor(\"decoder_5/bahdanau_attention_1/strided_slice_2:0\", shape=(35, 1), dtype=float32)\n",
      "attention_weights.shape: (batch, max_len, 1) (64, 35, 1)\n",
      "context_vector: (batch size, max_len, units) (64, 35, 1024)\n",
      "context_vector.shape: (batch size, max_len, units) (64, 1024)\n",
      "Tensor(\"decoder_6/bahdanau_attention_1/strided_slice:0\", shape=(1, 1024), dtype=float32)\n",
      "Tensor(\"decoder_6/bahdanau_attention_1/ExpandDims:0\", shape=(64, 1, 1024), dtype=float32)\n",
      "score: (batch size, max_len, units) (64, 35, 1)\n",
      "attention_weights[1].shape: (max_len, 1) (35, 1)\n",
      "attention_weights[1]: (max_len, 1) Tensor(\"decoder_6/bahdanau_attention_1/strided_slice_2:0\", shape=(35, 1), dtype=float32)\n",
      "attention_weights.shape: (batch, max_len, 1) (64, 35, 1)\n",
      "context_vector: (batch size, max_len, units) (64, 35, 1024)\n",
      "context_vector.shape: (batch size, max_len, units) (64, 1024)\n",
      "Tensor(\"decoder_7/bahdanau_attention_1/strided_slice:0\", shape=(1, 1024), dtype=float32)\n",
      "Tensor(\"decoder_7/bahdanau_attention_1/ExpandDims:0\", shape=(64, 1, 1024), dtype=float32)\n",
      "score: (batch size, max_len, units) (64, 35, 1)\n",
      "attention_weights[1].shape: (max_len, 1) (35, 1)\n",
      "attention_weights[1]: (max_len, 1) Tensor(\"decoder_7/bahdanau_attention_1/strided_slice_2:0\", shape=(35, 1), dtype=float32)\n",
      "attention_weights.shape: (batch, max_len, 1) (64, 35, 1)\n",
      "context_vector: (batch size, max_len, units) (64, 35, 1024)\n",
      "context_vector.shape: (batch size, max_len, units) (64, 1024)\n",
      "Tensor(\"decoder_8/bahdanau_attention_1/strided_slice:0\", shape=(1, 1024), dtype=float32)\n",
      "Tensor(\"decoder_8/bahdanau_attention_1/ExpandDims:0\", shape=(64, 1, 1024), dtype=float32)\n",
      "score: (batch size, max_len, units) (64, 35, 1)\n",
      "attention_weights[1].shape: (max_len, 1) (35, 1)\n",
      "attention_weights[1]: (max_len, 1) Tensor(\"decoder_8/bahdanau_attention_1/strided_slice_2:0\", shape=(35, 1), dtype=float32)\n",
      "attention_weights.shape: (batch, max_len, 1) (64, 35, 1)\n",
      "context_vector: (batch size, max_len, units) (64, 35, 1024)\n",
      "context_vector.shape: (batch size, max_len, units) (64, 1024)\n",
      "Tensor(\"decoder_9/bahdanau_attention_1/strided_slice:0\", shape=(1, 1024), dtype=float32)\n",
      "Tensor(\"decoder_9/bahdanau_attention_1/ExpandDims:0\", shape=(64, 1, 1024), dtype=float32)\n",
      "score: (batch size, max_len, units) (64, 35, 1)\n",
      "attention_weights[1].shape: (max_len, 1) (35, 1)\n",
      "attention_weights[1]: (max_len, 1) Tensor(\"decoder_9/bahdanau_attention_1/strided_slice_2:0\", shape=(35, 1), dtype=float32)\n",
      "attention_weights.shape: (batch, max_len, 1) (64, 35, 1)\n",
      "context_vector: (batch size, max_len, units) (64, 35, 1024)\n",
      "context_vector.shape: (batch size, max_len, units) (64, 1024)\n",
      "Tensor(\"decoder_10/bahdanau_attention_1/strided_slice:0\", shape=(1, 1024), dtype=float32)\n",
      "Tensor(\"decoder_10/bahdanau_attention_1/ExpandDims:0\", shape=(64, 1, 1024), dtype=float32)\n",
      "score: (batch size, max_len, units) (64, 35, 1)\n",
      "attention_weights[1].shape: (max_len, 1) (35, 1)\n",
      "attention_weights[1]: (max_len, 1) Tensor(\"decoder_10/bahdanau_attention_1/strided_slice_2:0\", shape=(35, 1), dtype=float32)\n",
      "attention_weights.shape: (batch, max_len, 1) (64, 35, 1)\n",
      "context_vector: (batch size, max_len, units) (64, 35, 1024)\n",
      "context_vector.shape: (batch size, max_len, units) (64, 1024)\n",
      "Tensor(\"decoder_11/bahdanau_attention_1/strided_slice:0\", shape=(1, 1024), dtype=float32)\n",
      "Tensor(\"decoder_11/bahdanau_attention_1/ExpandDims:0\", shape=(64, 1, 1024), dtype=float32)\n",
      "score: (batch size, max_len, units) (64, 35, 1)\n",
      "attention_weights[1].shape: (max_len, 1) (35, 1)\n",
      "attention_weights[1]: (max_len, 1) Tensor(\"decoder_11/bahdanau_attention_1/strided_slice_2:0\", shape=(35, 1), dtype=float32)\n",
      "attention_weights.shape: (batch, max_len, 1) (64, 35, 1)\n",
      "context_vector: (batch size, max_len, units) (64, 35, 1024)\n",
      "context_vector.shape: (batch size, max_len, units) (64, 1024)\n",
      "Tensor(\"decoder_12/bahdanau_attention_1/strided_slice:0\", shape=(1, 1024), dtype=float32)\n",
      "Tensor(\"decoder_12/bahdanau_attention_1/ExpandDims:0\", shape=(64, 1, 1024), dtype=float32)\n",
      "score: (batch size, max_len, units) (64, 35, 1)\n",
      "attention_weights[1].shape: (max_len, 1) (35, 1)\n",
      "attention_weights[1]: (max_len, 1) Tensor(\"decoder_12/bahdanau_attention_1/strided_slice_2:0\", shape=(35, 1), dtype=float32)\n",
      "attention_weights.shape: (batch, max_len, 1) (64, 35, 1)\n",
      "context_vector: (batch size, max_len, units) (64, 35, 1024)\n",
      "context_vector.shape: (batch size, max_len, units) (64, 1024)\n",
      "Tensor(\"decoder_13/bahdanau_attention_1/strided_slice:0\", shape=(1, 1024), dtype=float32)\n",
      "Tensor(\"decoder_13/bahdanau_attention_1/ExpandDims:0\", shape=(64, 1, 1024), dtype=float32)\n",
      "score: (batch size, max_len, units) (64, 35, 1)\n",
      "attention_weights[1].shape: (max_len, 1) (35, 1)\n",
      "attention_weights[1]: (max_len, 1) Tensor(\"decoder_13/bahdanau_attention_1/strided_slice_2:0\", shape=(35, 1), dtype=float32)\n",
      "attention_weights.shape: (batch, max_len, 1) (64, 35, 1)\n",
      "context_vector: (batch size, max_len, units) (64, 35, 1024)\n",
      "context_vector.shape: (batch size, max_len, units) (64, 1024)\n",
      "Tensor(\"decoder_14/bahdanau_attention_1/strided_slice:0\", shape=(1, 1024), dtype=float32)\n",
      "Tensor(\"decoder_14/bahdanau_attention_1/ExpandDims:0\", shape=(64, 1, 1024), dtype=float32)\n",
      "score: (batch size, max_len, units) (64, 35, 1)\n",
      "attention_weights[1].shape: (max_len, 1) (35, 1)\n",
      "attention_weights[1]: (max_len, 1) Tensor(\"decoder_14/bahdanau_attention_1/strided_slice_2:0\", shape=(35, 1), dtype=float32)\n",
      "attention_weights.shape: (batch, max_len, 1) (64, 35, 1)\n",
      "context_vector: (batch size, max_len, units) (64, 35, 1024)\n",
      "context_vector.shape: (batch size, max_len, units) (64, 1024)\n",
      "Tensor(\"decoder_15/bahdanau_attention_1/strided_slice:0\", shape=(1, 1024), dtype=float32)\n",
      "Tensor(\"decoder_15/bahdanau_attention_1/ExpandDims:0\", shape=(64, 1, 1024), dtype=float32)\n",
      "score: (batch size, max_len, units) (64, 35, 1)\n",
      "attention_weights[1].shape: (max_len, 1) (35, 1)\n",
      "attention_weights[1]: (max_len, 1) Tensor(\"decoder_15/bahdanau_attention_1/strided_slice_2:0\", shape=(35, 1), dtype=float32)\n",
      "attention_weights.shape: (batch, max_len, 1) (64, 35, 1)\n",
      "context_vector: (batch size, max_len, units) (64, 35, 1024)\n",
      "context_vector.shape: (batch size, max_len, units) (64, 1024)\n",
      "Tensor(\"decoder_16/bahdanau_attention_1/strided_slice:0\", shape=(1, 1024), dtype=float32)\n",
      "Tensor(\"decoder_16/bahdanau_attention_1/ExpandDims:0\", shape=(64, 1, 1024), dtype=float32)\n",
      "score: (batch size, max_len, units) (64, 35, 1)\n",
      "attention_weights[1].shape: (max_len, 1) (35, 1)\n",
      "attention_weights[1]: (max_len, 1) Tensor(\"decoder_16/bahdanau_attention_1/strided_slice_2:0\", shape=(35, 1), dtype=float32)\n",
      "attention_weights.shape: (batch, max_len, 1) (64, 35, 1)\n",
      "context_vector: (batch size, max_len, units) (64, 35, 1024)\n",
      "context_vector.shape: (batch size, max_len, units) (64, 1024)\n",
      "Tensor(\"decoder_17/bahdanau_attention_1/strided_slice:0\", shape=(1, 1024), dtype=float32)\n",
      "Tensor(\"decoder_17/bahdanau_attention_1/ExpandDims:0\", shape=(64, 1, 1024), dtype=float32)\n",
      "score: (batch size, max_len, units) (64, 35, 1)\n",
      "attention_weights[1].shape: (max_len, 1) (35, 1)\n",
      "attention_weights[1]: (max_len, 1) Tensor(\"decoder_17/bahdanau_attention_1/strided_slice_2:0\", shape=(35, 1), dtype=float32)\n",
      "attention_weights.shape: (batch, max_len, 1) (64, 35, 1)\n",
      "context_vector: (batch size, max_len, units) (64, 35, 1024)\n",
      "context_vector.shape: (batch size, max_len, units) (64, 1024)\n",
      "Tensor(\"decoder_18/bahdanau_attention_1/strided_slice:0\", shape=(1, 1024), dtype=float32)\n",
      "Tensor(\"decoder_18/bahdanau_attention_1/ExpandDims:0\", shape=(64, 1, 1024), dtype=float32)\n",
      "score: (batch size, max_len, units) (64, 35, 1)\n",
      "attention_weights[1].shape: (max_len, 1) (35, 1)\n",
      "attention_weights[1]: (max_len, 1) Tensor(\"decoder_18/bahdanau_attention_1/strided_slice_2:0\", shape=(35, 1), dtype=float32)\n",
      "attention_weights.shape: (batch, max_len, 1) (64, 35, 1)\n",
      "context_vector: (batch size, max_len, units) (64, 35, 1024)\n",
      "context_vector.shape: (batch size, max_len, units) (64, 1024)\n",
      "Tensor(\"decoder_19/bahdanau_attention_1/strided_slice:0\", shape=(1, 1024), dtype=float32)\n",
      "Tensor(\"decoder_19/bahdanau_attention_1/ExpandDims:0\", shape=(64, 1, 1024), dtype=float32)\n",
      "score: (batch size, max_len, units) (64, 35, 1)\n",
      "attention_weights[1].shape: (max_len, 1) (35, 1)\n",
      "attention_weights[1]: (max_len, 1) Tensor(\"decoder_19/bahdanau_attention_1/strided_slice_2:0\", shape=(35, 1), dtype=float32)\n",
      "attention_weights.shape: (batch, max_len, 1) (64, 35, 1)\n",
      "context_vector: (batch size, max_len, units) (64, 35, 1024)\n",
      "context_vector.shape: (batch size, max_len, units) (64, 1024)\n",
      "Tensor(\"decoder_20/bahdanau_attention_1/strided_slice:0\", shape=(1, 1024), dtype=float32)\n",
      "Tensor(\"decoder_20/bahdanau_attention_1/ExpandDims:0\", shape=(64, 1, 1024), dtype=float32)\n",
      "score: (batch size, max_len, units) (64, 35, 1)\n",
      "attention_weights[1].shape: (max_len, 1) (35, 1)\n",
      "attention_weights[1]: (max_len, 1) Tensor(\"decoder_20/bahdanau_attention_1/strided_slice_2:0\", shape=(35, 1), dtype=float32)\n",
      "attention_weights.shape: (batch, max_len, 1) (64, 35, 1)\n",
      "context_vector: (batch size, max_len, units) (64, 35, 1024)\n",
      "context_vector.shape: (batch size, max_len, units) (64, 1024)\n",
      "Tensor(\"decoder_21/bahdanau_attention_1/strided_slice:0\", shape=(1, 1024), dtype=float32)\n",
      "Tensor(\"decoder_21/bahdanau_attention_1/ExpandDims:0\", shape=(64, 1, 1024), dtype=float32)\n",
      "score: (batch size, max_len, units) (64, 35, 1)\n",
      "attention_weights[1].shape: (max_len, 1) (35, 1)\n",
      "attention_weights[1]: (max_len, 1) Tensor(\"decoder_21/bahdanau_attention_1/strided_slice_2:0\", shape=(35, 1), dtype=float32)\n",
      "attention_weights.shape: (batch, max_len, 1) (64, 35, 1)\n",
      "context_vector: (batch size, max_len, units) (64, 35, 1024)\n",
      "context_vector.shape: (batch size, max_len, units) (64, 1024)\n",
      "Tensor(\"decoder_22/bahdanau_attention_1/strided_slice:0\", shape=(1, 1024), dtype=float32)\n",
      "Tensor(\"decoder_22/bahdanau_attention_1/ExpandDims:0\", shape=(64, 1, 1024), dtype=float32)\n",
      "score: (batch size, max_len, units) (64, 35, 1)\n",
      "attention_weights[1].shape: (max_len, 1) (35, 1)\n",
      "attention_weights[1]: (max_len, 1) Tensor(\"decoder_22/bahdanau_attention_1/strided_slice_2:0\", shape=(35, 1), dtype=float32)\n",
      "attention_weights.shape: (batch, max_len, 1) (64, 35, 1)\n",
      "context_vector: (batch size, max_len, units) (64, 35, 1024)\n",
      "context_vector.shape: (batch size, max_len, units) (64, 1024)\n",
      "Tensor(\"decoder/bahdanau_attention_1/strided_slice:0\", shape=(1, 1024), dtype=float32)\n",
      "Tensor(\"decoder/bahdanau_attention_1/ExpandDims:0\", shape=(64, 1, 1024), dtype=float32)\n",
      "score: (batch size, max_len, units) (64, 35, 1)\n",
      "attention_weights[1].shape: (max_len, 1) (35, 1)\n",
      "attention_weights[1]: (max_len, 1) Tensor(\"decoder/bahdanau_attention_1/strided_slice_2:0\", shape=(35, 1), dtype=float32)\n",
      "attention_weights.shape: (batch, max_len, 1) (64, 35, 1)\n",
      "context_vector: (batch size, max_len, units) (64, 35, 1024)\n",
      "context_vector.shape: (batch size, max_len, units) (64, 1024)\n",
      "Tensor(\"decoder_1/bahdanau_attention_1/strided_slice:0\", shape=(1, 1024), dtype=float32)\n",
      "Tensor(\"decoder_1/bahdanau_attention_1/ExpandDims:0\", shape=(64, 1, 1024), dtype=float32)\n",
      "score: (batch size, max_len, units) (64, 35, 1)\n",
      "attention_weights[1].shape: (max_len, 1) (35, 1)\n",
      "attention_weights[1]: (max_len, 1) Tensor(\"decoder_1/bahdanau_attention_1/strided_slice_2:0\", shape=(35, 1), dtype=float32)\n",
      "attention_weights.shape: (batch, max_len, 1) (64, 35, 1)\n",
      "context_vector: (batch size, max_len, units) (64, 35, 1024)\n",
      "context_vector.shape: (batch size, max_len, units) (64, 1024)\n",
      "Tensor(\"decoder_2/bahdanau_attention_1/strided_slice:0\", shape=(1, 1024), dtype=float32)\n",
      "Tensor(\"decoder_2/bahdanau_attention_1/ExpandDims:0\", shape=(64, 1, 1024), dtype=float32)\n",
      "score: (batch size, max_len, units) (64, 35, 1)\n",
      "attention_weights[1].shape: (max_len, 1) (35, 1)\n",
      "attention_weights[1]: (max_len, 1) Tensor(\"decoder_2/bahdanau_attention_1/strided_slice_2:0\", shape=(35, 1), dtype=float32)\n",
      "attention_weights.shape: (batch, max_len, 1) (64, 35, 1)\n",
      "context_vector: (batch size, max_len, units) (64, 35, 1024)\n",
      "context_vector.shape: (batch size, max_len, units) (64, 1024)\n",
      "Tensor(\"decoder_3/bahdanau_attention_1/strided_slice:0\", shape=(1, 1024), dtype=float32)\n",
      "Tensor(\"decoder_3/bahdanau_attention_1/ExpandDims:0\", shape=(64, 1, 1024), dtype=float32)\n",
      "score: (batch size, max_len, units) (64, 35, 1)\n",
      "attention_weights[1].shape: (max_len, 1) (35, 1)\n",
      "attention_weights[1]: (max_len, 1) Tensor(\"decoder_3/bahdanau_attention_1/strided_slice_2:0\", shape=(35, 1), dtype=float32)\n",
      "attention_weights.shape: (batch, max_len, 1) (64, 35, 1)\n",
      "context_vector: (batch size, max_len, units) (64, 35, 1024)\n",
      "context_vector.shape: (batch size, max_len, units) (64, 1024)\n",
      "Tensor(\"decoder_4/bahdanau_attention_1/strided_slice:0\", shape=(1, 1024), dtype=float32)\n",
      "Tensor(\"decoder_4/bahdanau_attention_1/ExpandDims:0\", shape=(64, 1, 1024), dtype=float32)\n",
      "score: (batch size, max_len, units) (64, 35, 1)\n",
      "attention_weights[1].shape: (max_len, 1) (35, 1)\n",
      "attention_weights[1]: (max_len, 1) Tensor(\"decoder_4/bahdanau_attention_1/strided_slice_2:0\", shape=(35, 1), dtype=float32)\n",
      "attention_weights.shape: (batch, max_len, 1) (64, 35, 1)\n",
      "context_vector: (batch size, max_len, units) (64, 35, 1024)\n",
      "context_vector.shape: (batch size, max_len, units) (64, 1024)\n",
      "Tensor(\"decoder_5/bahdanau_attention_1/strided_slice:0\", shape=(1, 1024), dtype=float32)\n",
      "Tensor(\"decoder_5/bahdanau_attention_1/ExpandDims:0\", shape=(64, 1, 1024), dtype=float32)\n",
      "score: (batch size, max_len, units) (64, 35, 1)\n",
      "attention_weights[1].shape: (max_len, 1) (35, 1)\n",
      "attention_weights[1]: (max_len, 1) Tensor(\"decoder_5/bahdanau_attention_1/strided_slice_2:0\", shape=(35, 1), dtype=float32)\n",
      "attention_weights.shape: (batch, max_len, 1) (64, 35, 1)\n",
      "context_vector: (batch size, max_len, units) (64, 35, 1024)\n",
      "context_vector.shape: (batch size, max_len, units) (64, 1024)\n"
     ]
    },
    {
     "name": "stdout",
     "output_type": "stream",
     "text": [
      "Tensor(\"decoder_6/bahdanau_attention_1/strided_slice:0\", shape=(1, 1024), dtype=float32)\n",
      "Tensor(\"decoder_6/bahdanau_attention_1/ExpandDims:0\", shape=(64, 1, 1024), dtype=float32)\n",
      "score: (batch size, max_len, units) (64, 35, 1)\n",
      "attention_weights[1].shape: (max_len, 1) (35, 1)\n",
      "attention_weights[1]: (max_len, 1) Tensor(\"decoder_6/bahdanau_attention_1/strided_slice_2:0\", shape=(35, 1), dtype=float32)\n",
      "attention_weights.shape: (batch, max_len, 1) (64, 35, 1)\n",
      "context_vector: (batch size, max_len, units) (64, 35, 1024)\n",
      "context_vector.shape: (batch size, max_len, units) (64, 1024)\n",
      "Tensor(\"decoder_7/bahdanau_attention_1/strided_slice:0\", shape=(1, 1024), dtype=float32)\n",
      "Tensor(\"decoder_7/bahdanau_attention_1/ExpandDims:0\", shape=(64, 1, 1024), dtype=float32)\n",
      "score: (batch size, max_len, units) (64, 35, 1)\n",
      "attention_weights[1].shape: (max_len, 1) (35, 1)\n",
      "attention_weights[1]: (max_len, 1) Tensor(\"decoder_7/bahdanau_attention_1/strided_slice_2:0\", shape=(35, 1), dtype=float32)\n",
      "attention_weights.shape: (batch, max_len, 1) (64, 35, 1)\n",
      "context_vector: (batch size, max_len, units) (64, 35, 1024)\n",
      "context_vector.shape: (batch size, max_len, units) (64, 1024)\n",
      "Tensor(\"decoder_8/bahdanau_attention_1/strided_slice:0\", shape=(1, 1024), dtype=float32)\n",
      "Tensor(\"decoder_8/bahdanau_attention_1/ExpandDims:0\", shape=(64, 1, 1024), dtype=float32)\n",
      "score: (batch size, max_len, units) (64, 35, 1)\n",
      "attention_weights[1].shape: (max_len, 1) (35, 1)\n",
      "attention_weights[1]: (max_len, 1) Tensor(\"decoder_8/bahdanau_attention_1/strided_slice_2:0\", shape=(35, 1), dtype=float32)\n",
      "attention_weights.shape: (batch, max_len, 1) (64, 35, 1)\n",
      "context_vector: (batch size, max_len, units) (64, 35, 1024)\n",
      "context_vector.shape: (batch size, max_len, units) (64, 1024)\n",
      "Tensor(\"decoder_9/bahdanau_attention_1/strided_slice:0\", shape=(1, 1024), dtype=float32)\n",
      "Tensor(\"decoder_9/bahdanau_attention_1/ExpandDims:0\", shape=(64, 1, 1024), dtype=float32)\n",
      "score: (batch size, max_len, units) (64, 35, 1)\n",
      "attention_weights[1].shape: (max_len, 1) (35, 1)\n",
      "attention_weights[1]: (max_len, 1) Tensor(\"decoder_9/bahdanau_attention_1/strided_slice_2:0\", shape=(35, 1), dtype=float32)\n",
      "attention_weights.shape: (batch, max_len, 1) (64, 35, 1)\n",
      "context_vector: (batch size, max_len, units) (64, 35, 1024)\n",
      "context_vector.shape: (batch size, max_len, units) (64, 1024)\n",
      "Tensor(\"decoder_10/bahdanau_attention_1/strided_slice:0\", shape=(1, 1024), dtype=float32)\n",
      "Tensor(\"decoder_10/bahdanau_attention_1/ExpandDims:0\", shape=(64, 1, 1024), dtype=float32)\n",
      "score: (batch size, max_len, units) (64, 35, 1)\n",
      "attention_weights[1].shape: (max_len, 1) (35, 1)\n",
      "attention_weights[1]: (max_len, 1) Tensor(\"decoder_10/bahdanau_attention_1/strided_slice_2:0\", shape=(35, 1), dtype=float32)\n",
      "attention_weights.shape: (batch, max_len, 1) (64, 35, 1)\n",
      "context_vector: (batch size, max_len, units) (64, 35, 1024)\n",
      "context_vector.shape: (batch size, max_len, units) (64, 1024)\n",
      "Tensor(\"decoder_11/bahdanau_attention_1/strided_slice:0\", shape=(1, 1024), dtype=float32)\n",
      "Tensor(\"decoder_11/bahdanau_attention_1/ExpandDims:0\", shape=(64, 1, 1024), dtype=float32)\n",
      "score: (batch size, max_len, units) (64, 35, 1)\n",
      "attention_weights[1].shape: (max_len, 1) (35, 1)\n",
      "attention_weights[1]: (max_len, 1) Tensor(\"decoder_11/bahdanau_attention_1/strided_slice_2:0\", shape=(35, 1), dtype=float32)\n",
      "attention_weights.shape: (batch, max_len, 1) (64, 35, 1)\n",
      "context_vector: (batch size, max_len, units) (64, 35, 1024)\n",
      "context_vector.shape: (batch size, max_len, units) (64, 1024)\n",
      "Tensor(\"decoder_12/bahdanau_attention_1/strided_slice:0\", shape=(1, 1024), dtype=float32)\n",
      "Tensor(\"decoder_12/bahdanau_attention_1/ExpandDims:0\", shape=(64, 1, 1024), dtype=float32)\n",
      "score: (batch size, max_len, units) (64, 35, 1)\n",
      "attention_weights[1].shape: (max_len, 1) (35, 1)\n",
      "attention_weights[1]: (max_len, 1) Tensor(\"decoder_12/bahdanau_attention_1/strided_slice_2:0\", shape=(35, 1), dtype=float32)\n",
      "attention_weights.shape: (batch, max_len, 1) (64, 35, 1)\n",
      "context_vector: (batch size, max_len, units) (64, 35, 1024)\n",
      "context_vector.shape: (batch size, max_len, units) (64, 1024)\n",
      "Tensor(\"decoder_13/bahdanau_attention_1/strided_slice:0\", shape=(1, 1024), dtype=float32)\n",
      "Tensor(\"decoder_13/bahdanau_attention_1/ExpandDims:0\", shape=(64, 1, 1024), dtype=float32)\n",
      "score: (batch size, max_len, units) (64, 35, 1)\n",
      "attention_weights[1].shape: (max_len, 1) (35, 1)\n",
      "attention_weights[1]: (max_len, 1) Tensor(\"decoder_13/bahdanau_attention_1/strided_slice_2:0\", shape=(35, 1), dtype=float32)\n",
      "attention_weights.shape: (batch, max_len, 1) (64, 35, 1)\n",
      "context_vector: (batch size, max_len, units) (64, 35, 1024)\n",
      "context_vector.shape: (batch size, max_len, units) (64, 1024)\n",
      "Tensor(\"decoder_14/bahdanau_attention_1/strided_slice:0\", shape=(1, 1024), dtype=float32)\n",
      "Tensor(\"decoder_14/bahdanau_attention_1/ExpandDims:0\", shape=(64, 1, 1024), dtype=float32)\n",
      "score: (batch size, max_len, units) (64, 35, 1)\n",
      "attention_weights[1].shape: (max_len, 1) (35, 1)\n",
      "attention_weights[1]: (max_len, 1) Tensor(\"decoder_14/bahdanau_attention_1/strided_slice_2:0\", shape=(35, 1), dtype=float32)\n",
      "attention_weights.shape: (batch, max_len, 1) (64, 35, 1)\n",
      "context_vector: (batch size, max_len, units) (64, 35, 1024)\n",
      "context_vector.shape: (batch size, max_len, units) (64, 1024)\n",
      "Tensor(\"decoder_15/bahdanau_attention_1/strided_slice:0\", shape=(1, 1024), dtype=float32)\n",
      "Tensor(\"decoder_15/bahdanau_attention_1/ExpandDims:0\", shape=(64, 1, 1024), dtype=float32)\n",
      "score: (batch size, max_len, units) (64, 35, 1)\n",
      "attention_weights[1].shape: (max_len, 1) (35, 1)\n",
      "attention_weights[1]: (max_len, 1) Tensor(\"decoder_15/bahdanau_attention_1/strided_slice_2:0\", shape=(35, 1), dtype=float32)\n",
      "attention_weights.shape: (batch, max_len, 1) (64, 35, 1)\n",
      "context_vector: (batch size, max_len, units) (64, 35, 1024)\n",
      "context_vector.shape: (batch size, max_len, units) (64, 1024)\n",
      "Tensor(\"decoder_16/bahdanau_attention_1/strided_slice:0\", shape=(1, 1024), dtype=float32)\n",
      "Tensor(\"decoder_16/bahdanau_attention_1/ExpandDims:0\", shape=(64, 1, 1024), dtype=float32)\n",
      "score: (batch size, max_len, units) (64, 35, 1)\n",
      "attention_weights[1].shape: (max_len, 1) (35, 1)\n",
      "attention_weights[1]: (max_len, 1) Tensor(\"decoder_16/bahdanau_attention_1/strided_slice_2:0\", shape=(35, 1), dtype=float32)\n",
      "attention_weights.shape: (batch, max_len, 1) (64, 35, 1)\n",
      "context_vector: (batch size, max_len, units) (64, 35, 1024)\n",
      "context_vector.shape: (batch size, max_len, units) (64, 1024)\n",
      "Tensor(\"decoder_17/bahdanau_attention_1/strided_slice:0\", shape=(1, 1024), dtype=float32)\n",
      "Tensor(\"decoder_17/bahdanau_attention_1/ExpandDims:0\", shape=(64, 1, 1024), dtype=float32)\n",
      "score: (batch size, max_len, units) (64, 35, 1)\n",
      "attention_weights[1].shape: (max_len, 1) (35, 1)\n",
      "attention_weights[1]: (max_len, 1) Tensor(\"decoder_17/bahdanau_attention_1/strided_slice_2:0\", shape=(35, 1), dtype=float32)\n",
      "attention_weights.shape: (batch, max_len, 1) (64, 35, 1)\n",
      "context_vector: (batch size, max_len, units) (64, 35, 1024)\n",
      "context_vector.shape: (batch size, max_len, units) (64, 1024)\n",
      "Tensor(\"decoder_18/bahdanau_attention_1/strided_slice:0\", shape=(1, 1024), dtype=float32)\n",
      "Tensor(\"decoder_18/bahdanau_attention_1/ExpandDims:0\", shape=(64, 1, 1024), dtype=float32)\n",
      "score: (batch size, max_len, units) (64, 35, 1)\n",
      "attention_weights[1].shape: (max_len, 1) (35, 1)\n",
      "attention_weights[1]: (max_len, 1) Tensor(\"decoder_18/bahdanau_attention_1/strided_slice_2:0\", shape=(35, 1), dtype=float32)\n",
      "attention_weights.shape: (batch, max_len, 1) (64, 35, 1)\n",
      "context_vector: (batch size, max_len, units) (64, 35, 1024)\n",
      "context_vector.shape: (batch size, max_len, units) (64, 1024)\n",
      "Tensor(\"decoder_19/bahdanau_attention_1/strided_slice:0\", shape=(1, 1024), dtype=float32)\n",
      "Tensor(\"decoder_19/bahdanau_attention_1/ExpandDims:0\", shape=(64, 1, 1024), dtype=float32)\n",
      "score: (batch size, max_len, units) (64, 35, 1)\n",
      "attention_weights[1].shape: (max_len, 1) (35, 1)\n",
      "attention_weights[1]: (max_len, 1) Tensor(\"decoder_19/bahdanau_attention_1/strided_slice_2:0\", shape=(35, 1), dtype=float32)\n",
      "attention_weights.shape: (batch, max_len, 1) (64, 35, 1)\n",
      "context_vector: (batch size, max_len, units) (64, 35, 1024)\n",
      "context_vector.shape: (batch size, max_len, units) (64, 1024)\n",
      "Tensor(\"decoder_20/bahdanau_attention_1/strided_slice:0\", shape=(1, 1024), dtype=float32)\n",
      "Tensor(\"decoder_20/bahdanau_attention_1/ExpandDims:0\", shape=(64, 1, 1024), dtype=float32)\n",
      "score: (batch size, max_len, units) (64, 35, 1)\n",
      "attention_weights[1].shape: (max_len, 1) (35, 1)\n"
     ]
    },
    {
     "name": "stdout",
     "output_type": "stream",
     "text": [
      "attention_weights[1]: (max_len, 1) Tensor(\"decoder_20/bahdanau_attention_1/strided_slice_2:0\", shape=(35, 1), dtype=float32)\n",
      "attention_weights.shape: (batch, max_len, 1) (64, 35, 1)\n",
      "context_vector: (batch size, max_len, units) (64, 35, 1024)\n",
      "context_vector.shape: (batch size, max_len, units) (64, 1024)\n",
      "Tensor(\"decoder_21/bahdanau_attention_1/strided_slice:0\", shape=(1, 1024), dtype=float32)\n",
      "Tensor(\"decoder_21/bahdanau_attention_1/ExpandDims:0\", shape=(64, 1, 1024), dtype=float32)\n",
      "score: (batch size, max_len, units) (64, 35, 1)\n",
      "attention_weights[1].shape: (max_len, 1) (35, 1)\n",
      "attention_weights[1]: (max_len, 1) Tensor(\"decoder_21/bahdanau_attention_1/strided_slice_2:0\", shape=(35, 1), dtype=float32)\n",
      "attention_weights.shape: (batch, max_len, 1) (64, 35, 1)\n",
      "context_vector: (batch size, max_len, units) (64, 35, 1024)\n",
      "context_vector.shape: (batch size, max_len, units) (64, 1024)\n",
      "Tensor(\"decoder_22/bahdanau_attention_1/strided_slice:0\", shape=(1, 1024), dtype=float32)\n",
      "Tensor(\"decoder_22/bahdanau_attention_1/ExpandDims:0\", shape=(64, 1, 1024), dtype=float32)\n",
      "score: (batch size, max_len, units) (64, 35, 1)\n",
      "attention_weights[1].shape: (max_len, 1) (35, 1)\n",
      "attention_weights[1]: (max_len, 1) Tensor(\"decoder_22/bahdanau_attention_1/strided_slice_2:0\", shape=(35, 1), dtype=float32)\n",
      "attention_weights.shape: (batch, max_len, 1) (64, 35, 1)\n",
      "context_vector: (batch size, max_len, units) (64, 35, 1024)\n",
      "context_vector.shape: (batch size, max_len, units) (64, 1024)\n",
      "Epoch 1 Batch 0 Loss 3.5661\n",
      "Epoch 1 Loss 3.5661\n",
      "Time taken for 1 epoch 24.739437103271484 sec\n",
      "\n",
      "Epoch 2 Batch 0 Loss 5.7830\n",
      "Epoch 2 Loss 4.1023\n",
      "Time taken for 1 epoch 1.4951236248016357 sec\n",
      "\n",
      "Epoch 3 Batch 0 Loss 3.4624\n",
      "Epoch 3 Loss 3.4234\n",
      "Time taken for 1 epoch 0.8392651081085205 sec\n",
      "\n"
     ]
    }
   ],
   "source": [
    "EPOCHS = 3  # 这里设置的比较小，要不然计算速度太慢\n",
    "for epoch in range(EPOCHS):\n",
    "  start = time.time()  # 统计时间\n",
    "\n",
    "  # 初始化Encoder（编码层）的隐藏层的初始状态\n",
    "  enc_hidden = encoder.initialize_hidden_state()\n",
    "  # 初始化总的损失。因为上边计算的是一个batch一个batch的损失，这里要进行求和\n",
    "  total_loss = 0 \n",
    "\n",
    "  for (batch, (inp, targ)) in enumerate(dataset.take(steps_per_epoch)):\n",
    "    # 在前边准备的数据集中一个batch一个batch的拿，输入和标签都拿，扔到train_step函数里边\n",
    "    batch_loss = train_step(inp, targ, enc_hidden)\n",
    "    # 将计算出来的每一个batch的损失加到总的损失里边\n",
    "    total_loss += batch_loss\n",
    "\n",
    "    if batch % 100 == 0:\n",
    "        print('Epoch {} Batch {} Loss {:.4f}'.format(epoch + 1,\n",
    "                                 batch,\n",
    "                                 batch_loss.numpy()))\n",
    "\n",
    "\n",
    "  # 每 2 个周期（epoch），保存（检查点）一次模型\n",
    "  if (epoch + 1) % 2 == 0:\n",
    "    checkpoint.save(file_prefix=checkpoint_prefix)\n",
    "\n",
    "  print('Epoch {} Loss {:.4f}'.format(epoch + 1,\n",
    "                                      total_loss / steps_per_epoch))\n",
    "  print('Time taken for 1 epoch {} sec\\n'.format(time.time() - start))\n",
    "\n",
    "\n",
    "\n"
   ]
  },
  {
   "cell_type": "code",
   "execution_count": null,
   "metadata": {
    "colab": {},
    "colab_type": "code",
    "id": "8GkbzmX-TcfN"
   },
   "outputs": [],
   "source": []
  }
 ],
 "metadata": {
  "accelerator": "GPU",
  "colab": {
   "collapsed_sections": [
    "IqmAAtJg5XKl",
    "yYQ5838P4Dr8",
    "JyI-dbsmxyEx",
    "tKi5MOd1x5x9",
    "ZiqWHoExxFm3",
    "v94NSH8J6XXZ"
   ],
   "name": "Translation (2).ipynb",
   "provenance": []
  },
  "kernelspec": {
   "display_name": "Python 3",
   "language": "python",
   "name": "python3"
  },
  "language_info": {
   "codemirror_mode": {
    "name": "ipython",
    "version": 3
   },
   "file_extension": ".py",
   "mimetype": "text/x-python",
   "name": "python",
   "nbconvert_exporter": "python",
   "pygments_lexer": "ipython3",
   "version": "3.7.4"
  },
  "toc": {
   "base_numbering": 1,
   "nav_menu": {},
   "number_sections": true,
   "sideBar": true,
   "skip_h1_title": false,
   "title_cell": "Table of Contents",
   "title_sidebar": "Contents",
   "toc_cell": false,
   "toc_position": {},
   "toc_section_display": true,
   "toc_window_display": false
  }
 },
 "nbformat": 4,
 "nbformat_minor": 1
}
